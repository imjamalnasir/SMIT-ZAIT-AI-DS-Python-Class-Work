{
 "cells": [
  {
   "cell_type": "markdown",
   "id": "67d3ffe4-2989-4d23-aff5-3fafeec877ae",
   "metadata": {},
   "source": [
    "# Functions\n",
    "    - python open: print(), type(), int(), input(),len(),id(),\n",
    "    - class: list,dic\n",
    "    - userdefined: we wil define\n",
    " - what: block of code. \n",
    " - why : to reduce our code. block of code reuseable\n",
    " - how : "
   ]
  },
  {
   "cell_type": "code",
   "execution_count": 6,
   "id": "e27f72d8-e162-407e-97c3-1310deaa6fae",
   "metadata": {},
   "outputs": [],
   "source": [
    "# define \n",
    "# parameterless\n",
    "def salam():\n",
    "    print(\"Assalam.o.Alaikum\")"
   ]
  },
  {
   "cell_type": "code",
   "execution_count": 8,
   "id": "ba19a6fc-5f8d-429d-8300-7decc7fa813b",
   "metadata": {},
   "outputs": [
    {
     "name": "stdout",
     "output_type": "stream",
     "text": [
      "Assalam.o.Alaikum\n"
     ]
    }
   ],
   "source": [
    "# call\n",
    "salam()"
   ]
  },
  {
   "cell_type": "code",
   "execution_count": 10,
   "id": "6d0dd1be-2e59-4f41-a056-401e8d883f8d",
   "metadata": {},
   "outputs": [
    {
     "name": "stdout",
     "output_type": "stream",
     "text": [
      "Assalam.o.Alaikum\n"
     ]
    }
   ],
   "source": [
    "salam()"
   ]
  },
  {
   "cell_type": "code",
   "execution_count": 12,
   "id": "887dae71-2564-46f6-a29a-edfd6136d692",
   "metadata": {},
   "outputs": [
    {
     "name": "stdout",
     "output_type": "stream",
     "text": [
      "Assalam.o.Alaikum\n"
     ]
    }
   ],
   "source": [
    "salam()"
   ]
  },
  {
   "cell_type": "code",
   "execution_count": 14,
   "id": "39b3ac6b-6337-4d32-9593-01de3d8153b5",
   "metadata": {},
   "outputs": [
    {
     "name": "stdout",
     "output_type": "stream",
     "text": [
      "Assalam.o.Alaikum\n"
     ]
    }
   ],
   "source": [
    "salam()"
   ]
  },
  {
   "cell_type": "code",
   "execution_count": 16,
   "id": "0fe88390-62b9-4bf5-a902-3d15e6ce4364",
   "metadata": {},
   "outputs": [],
   "source": [
    "# define parametrised\n",
    "def say_salam(name):# function parameter\n",
    "    print(f\"Janab {name} Assalam.o.Alaikum\")"
   ]
  },
  {
   "cell_type": "code",
   "execution_count": 18,
   "id": "78bd3559-e0be-41ec-87df-5694b359f2e1",
   "metadata": {},
   "outputs": [
    {
     "ename": "TypeError",
     "evalue": "say_salam() missing 1 required positional argument: 'name'",
     "output_type": "error",
     "traceback": [
      "\u001b[1;31m---------------------------------------------------------------------------\u001b[0m",
      "\u001b[1;31mTypeError\u001b[0m                                 Traceback (most recent call last)",
      "Cell \u001b[1;32mIn[18], line 1\u001b[0m\n\u001b[1;32m----> 1\u001b[0m say_salam()\n",
      "\u001b[1;31mTypeError\u001b[0m: say_salam() missing 1 required positional argument: 'name'"
     ]
    }
   ],
   "source": [
    "say_salam()"
   ]
  },
  {
   "cell_type": "code",
   "execution_count": 20,
   "id": "b9c69628-619f-49ad-b87e-9c7e986cd930",
   "metadata": {},
   "outputs": [
    {
     "name": "stdout",
     "output_type": "stream",
     "text": [
      "Janab Abdullah Assalam.o.Alaikum\n"
     ]
    }
   ],
   "source": [
    "say_salam('Abdullah') # argument"
   ]
  },
  {
   "cell_type": "code",
   "execution_count": 22,
   "id": "3f2cb6a8-32e6-443e-abd2-c53e9eab580f",
   "metadata": {},
   "outputs": [
    {
     "name": "stdout",
     "output_type": "stream",
     "text": [
      "Janab Asad Assalam.o.Alaikum\n"
     ]
    }
   ],
   "source": [
    "say_salam(\"Asad\") # # argument"
   ]
  },
  {
   "cell_type": "code",
   "execution_count": 24,
   "id": "8348d4b0-0d12-453b-9881-fde0b150644c",
   "metadata": {},
   "outputs": [
    {
     "name": "stdout",
     "output_type": "stream",
     "text": [
      "Janab Kamran Assalam.o.Alaikum\n"
     ]
    }
   ],
   "source": [
    "say_salam(\"Kamran\")# # argument"
   ]
  },
  {
   "cell_type": "code",
   "execution_count": 28,
   "id": "36b5ac51-71e7-4de1-b390-3a8e68b1d4fd",
   "metadata": {},
   "outputs": [
    {
     "name": "stdout",
     "output_type": "stream",
     "text": [
      "Hello\n"
     ]
    }
   ],
   "source": [
    "print(\"Hello\")"
   ]
  },
  {
   "cell_type": "code",
   "execution_count": 30,
   "id": "5e4a803e-ced3-44b3-b448-d982c8f6dcf7",
   "metadata": {},
   "outputs": [],
   "source": [
    "def add():\n",
    "    a =10\n",
    "    b =100\n",
    "    c= a+b\n",
    "    print(c)"
   ]
  },
  {
   "cell_type": "code",
   "execution_count": 32,
   "id": "2b29e43f-05fd-4d56-a576-aaaf52819a02",
   "metadata": {},
   "outputs": [
    {
     "name": "stdout",
     "output_type": "stream",
     "text": [
      "110\n"
     ]
    }
   ],
   "source": [
    "add()"
   ]
  },
  {
   "cell_type": "code",
   "execution_count": 34,
   "id": "f51cf478-c5fd-41a0-98cc-fdec26b91a6e",
   "metadata": {},
   "outputs": [
    {
     "name": "stdout",
     "output_type": "stream",
     "text": [
      "110\n"
     ]
    }
   ],
   "source": [
    "add()"
   ]
  },
  {
   "cell_type": "code",
   "execution_count": 54,
   "id": "1e9cae32-a11d-4bc9-bea8-80e7b5f757a2",
   "metadata": {},
   "outputs": [],
   "source": [
    "def add(a,b):    \n",
    "    c = a+b\n",
    "    print(c)"
   ]
  },
  {
   "cell_type": "code",
   "execution_count": 56,
   "id": "dcaa6be5-f57d-49d4-a357-f372fc187815",
   "metadata": {},
   "outputs": [
    {
     "ename": "TypeError",
     "evalue": "add() missing 2 required positional arguments: 'a' and 'b'",
     "output_type": "error",
     "traceback": [
      "\u001b[1;31m---------------------------------------------------------------------------\u001b[0m",
      "\u001b[1;31mTypeError\u001b[0m                                 Traceback (most recent call last)",
      "Cell \u001b[1;32mIn[56], line 1\u001b[0m\n\u001b[1;32m----> 1\u001b[0m add()\n",
      "\u001b[1;31mTypeError\u001b[0m: add() missing 2 required positional arguments: 'a' and 'b'"
     ]
    }
   ],
   "source": [
    "add()"
   ]
  },
  {
   "cell_type": "code",
   "execution_count": 58,
   "id": "639c3600-e9d6-486c-a0b0-fbe599aa0030",
   "metadata": {},
   "outputs": [
    {
     "name": "stdout",
     "output_type": "stream",
     "text": [
      "7\n"
     ]
    }
   ],
   "source": [
    "add(3,4)"
   ]
  },
  {
   "cell_type": "code",
   "execution_count": 62,
   "id": "ee53eceb-336f-4d25-9c59-bc3ec29aeaeb",
   "metadata": {},
   "outputs": [
    {
     "name": "stdout",
     "output_type": "stream",
     "text": [
      "10\n"
     ]
    }
   ],
   "source": [
    "add(4,6)"
   ]
  },
  {
   "cell_type": "code",
   "execution_count": 64,
   "id": "51050e91-d6a4-49e1-8211-6c2a9054e470",
   "metadata": {},
   "outputs": [
    {
     "name": "stdout",
     "output_type": "stream",
     "text": [
      "hellokc ho\n"
     ]
    }
   ],
   "source": [
    "add(\"hello\", 'kc ho')"
   ]
  },
  {
   "cell_type": "code",
   "execution_count": 72,
   "id": "3dd6bd1b-e9d8-4d26-a63a-746664174e58",
   "metadata": {},
   "outputs": [],
   "source": [
    "# write a function that takes a list of numbers as argument and prints the sum of list\n",
    "def sum_list(lst):\n",
    "    print(sum(lst))"
   ]
  },
  {
   "cell_type": "code",
   "execution_count": 74,
   "id": "a9509446-9ade-445c-b2ea-1f0b1e3989a8",
   "metadata": {},
   "outputs": [
    {
     "name": "stdout",
     "output_type": "stream",
     "text": [
      "55\n"
     ]
    }
   ],
   "source": [
    "sum_list([1,2,3,4,5,6,7,8,9,10])"
   ]
  },
  {
   "cell_type": "code",
   "execution_count": 76,
   "id": "12d0a83c-c7cc-418c-a73b-4f76806a4313",
   "metadata": {},
   "outputs": [],
   "source": [
    "def sum_list(lst):\n",
    "    s = 0\n",
    "    for num in lst:\n",
    "        s += num\n",
    "    print(s)    "
   ]
  },
  {
   "cell_type": "code",
   "execution_count": 78,
   "id": "26cfb048-2fa2-487f-a12a-ca5449d05a66",
   "metadata": {},
   "outputs": [
    {
     "name": "stdout",
     "output_type": "stream",
     "text": [
      "55\n"
     ]
    }
   ],
   "source": [
    "sum_list([1,2,3,4,5,6,7,8,9,10])"
   ]
  },
  {
   "cell_type": "code",
   "execution_count": 82,
   "id": "0f5ce10d-b8d6-4edd-b2ea-b1e2a3a9ff0d",
   "metadata": {},
   "outputs": [],
   "source": [
    "def find_max(lst):\n",
    "    print(max(lst)) "
   ]
  },
  {
   "cell_type": "code",
   "execution_count": 88,
   "id": "e4b2acb4-56aa-40a0-8597-471b4e10b36f",
   "metadata": {},
   "outputs": [
    {
     "name": "stdout",
     "output_type": "stream",
     "text": [
      "335\n"
     ]
    }
   ],
   "source": [
    "find_max([1,2,3,4,335,61,7,8,9,10])"
   ]
  },
  {
   "cell_type": "code",
   "execution_count": 118,
   "id": "076bcc9a-cdc2-4e2c-8296-6975fa754f05",
   "metadata": {},
   "outputs": [
    {
     "name": "stdout",
     "output_type": "stream",
     "text": [
      "187\n",
      "Empty list\n"
     ]
    }
   ],
   "source": [
    "def find_max(lst):\n",
    "    if len(lst)!=0:        \n",
    "        max_num = lst[0]\n",
    "        max_num = lst[0]\n",
    "        for a in lst:\n",
    "            if a > max_num:\n",
    "                max_num = a\n",
    "        print(max_num)\n",
    "    else:\n",
    "        print(\"Empty list\")\n",
    "find_max([123,34,54,56,78,187,89,34,56,90])\n",
    "find_max([])"
   ]
  },
  {
   "cell_type": "code",
   "execution_count": 112,
   "id": "70061904-c0fc-46df-a30a-4da2ac9e24e7",
   "metadata": {},
   "outputs": [
    {
     "name": "stdout",
     "output_type": "stream",
     "text": [
      "1\n"
     ]
    }
   ],
   "source": [
    "def find_min(lst):\n",
    "    if len(lst)!=0:        \n",
    "        min_num = lst[0]\n",
    "        for a in lst:\n",
    "            if a < min_num:\n",
    "                min_num = a\n",
    "        print(min_num)\n",
    "    else:\n",
    "        print(\"Beta insan banja\")\n",
    "    \n",
    "find_min([1,23,34,54,56,78,187,89,34,56,90])"
   ]
  },
  {
   "cell_type": "code",
   "execution_count": 114,
   "id": "3050a348-b63a-4392-9064-c2189304da7f",
   "metadata": {},
   "outputs": [
    {
     "name": "stdout",
     "output_type": "stream",
     "text": [
      "Beta insan banja\n"
     ]
    }
   ],
   "source": [
    "find_min([])"
   ]
  },
  {
   "cell_type": "markdown",
   "id": "966e8463-4624-499d-a62a-3ee0cff13d97",
   "metadata": {},
   "source": [
    "### Default Parameter"
   ]
  },
  {
   "cell_type": "code",
   "execution_count": 138,
   "id": "26b96d8b-2b05-42c6-b91b-44c6aaf4ed54",
   "metadata": {},
   "outputs": [
    {
     "ename": "SyntaxError",
     "evalue": "parameter without a default follows parameter with a default (2361722391.py, line 1)",
     "output_type": "error",
     "traceback": [
      "\u001b[1;36m  Cell \u001b[1;32mIn[138], line 1\u001b[1;36m\u001b[0m\n\u001b[1;33m    def full_name_banao(first_name, middle_name=\"\", last_name=\"\", address):\u001b[0m\n\u001b[1;37m                                                                  ^\u001b[0m\n\u001b[1;31mSyntaxError\u001b[0m\u001b[1;31m:\u001b[0m parameter without a default follows parameter with a default\n"
     ]
    }
   ],
   "source": [
    "def full_name_banao(first_name, middle_name=\"\", last_name=\"\"):\n",
    "    full_name = f\"{first_name} {middle_name} {last_name}\"\n",
    "    print(full_name)"
   ]
  },
  {
   "cell_type": "code",
   "execution_count": 129,
   "id": "05c99211-0f0f-420c-a046-ce1eca3b809a",
   "metadata": {},
   "outputs": [
    {
     "name": "stdout",
     "output_type": "stream",
     "text": [
      "nasir ali hussain\n"
     ]
    }
   ],
   "source": [
    "full_name_banao('nasir', \"ali\", 'hussain')"
   ]
  },
  {
   "cell_type": "markdown",
   "id": "8532d819-aec4-4c5c-8e9c-3e5943470d17",
   "metadata": {},
   "source": [
    "### Positional Arguments"
   ]
  },
  {
   "cell_type": "code",
   "execution_count": 132,
   "id": "8b80929d-06a7-45d5-b0fb-8314b03e2cef",
   "metadata": {},
   "outputs": [],
   "source": [
    "def full_name(name, fname):\n",
    "    print(f\"{name} {fname}\")"
   ]
  },
  {
   "cell_type": "code",
   "execution_count": 134,
   "id": "e1cc32ee-5d04-4e67-9adc-d82fad98e2e1",
   "metadata": {},
   "outputs": [
    {
     "name": "stdout",
     "output_type": "stream",
     "text": [
      "Zaid Saeed\n"
     ]
    }
   ],
   "source": [
    "full_name(\"Zaid\", \"Saeed\")"
   ]
  },
  {
   "cell_type": "code",
   "execution_count": 136,
   "id": "81e72e6b-4304-4fd7-aa24-3fba4b4e0a34",
   "metadata": {},
   "outputs": [
    {
     "name": "stdout",
     "output_type": "stream",
     "text": [
      "Saeed Zaid\n"
     ]
    }
   ],
   "source": [
    "full_name(\"Saeed\", \"Zaid\")"
   ]
  },
  {
   "cell_type": "markdown",
   "id": "240fc8e7-51d8-48d4-83e7-3f7819ec124c",
   "metadata": {},
   "source": [
    "# Keyword Arguments"
   ]
  },
  {
   "cell_type": "code",
   "execution_count": 141,
   "id": "f282274f-b4ea-498e-b578-8921accb4a2c",
   "metadata": {},
   "outputs": [
    {
     "name": "stdout",
     "output_type": "stream",
     "text": [
      "Zaid Saeed\n"
     ]
    }
   ],
   "source": [
    "full_name(fname=\"Saeed\", name='Zaid')"
   ]
  },
  {
   "cell_type": "code",
   "execution_count": 143,
   "id": "2deaf5d6-2f9b-4467-b926-f8131efe8ba3",
   "metadata": {},
   "outputs": [],
   "source": [
    "def person_details(name, age, gender, phone):\n",
    "    print(f\"\"\"\n",
    "             Name:{name}\n",
    "             Age:{age}\n",
    "             Gender:{gender}\n",
    "             Phone: {phone}\n",
    "             \"\"\")"
   ]
  },
  {
   "cell_type": "code",
   "execution_count": 145,
   "id": "5146f100-6957-4232-8723-3918544f07b4",
   "metadata": {},
   "outputs": [
    {
     "ename": "SyntaxError",
     "evalue": "positional argument follows keyword argument (980402579.py, line 1)",
     "output_type": "error",
     "traceback": [
      "\u001b[1;36m  Cell \u001b[1;32mIn[145], line 1\u001b[1;36m\u001b[0m\n\u001b[1;33m    person_details(phone=\"12345678\", 'Sameera',20, 'Female' )\u001b[0m\n\u001b[1;37m                                                            ^\u001b[0m\n\u001b[1;31mSyntaxError\u001b[0m\u001b[1;31m:\u001b[0m positional argument follows keyword argument\n"
     ]
    }
   ],
   "source": [
    "person_details(phone=\"12345678\", 'Sameera',20, 'Female' )"
   ]
  },
  {
   "cell_type": "code",
   "execution_count": 149,
   "id": "3eb5ff7c-b5eb-415a-8410-f6cb691a544b",
   "metadata": {},
   "outputs": [
    {
     "name": "stdout",
     "output_type": "stream",
     "text": [
      "\n",
      "             Name:Sameera\n",
      "             Age:20\n",
      "             Gender:Female\n",
      "             Phone: 12345678\n",
      "             \n"
     ]
    }
   ],
   "source": [
    "person_details('Sameera', 20, phone=\"12345678\" ,gender='Female')"
   ]
  },
  {
   "cell_type": "code",
   "execution_count": 161,
   "id": "521a15f4-fe00-420e-95db-f3dce5373079",
   "metadata": {},
   "outputs": [],
   "source": [
    "def add_numbers(a=0,b=0):\n",
    "    print(a+b)"
   ]
  },
  {
   "cell_type": "code",
   "execution_count": 163,
   "id": "94001994-70e0-4df5-a3ad-7310bcff0ec2",
   "metadata": {},
   "outputs": [
    {
     "name": "stdout",
     "output_type": "stream",
     "text": [
      "10\n"
     ]
    }
   ],
   "source": [
    "add_numbers(10)"
   ]
  },
  {
   "cell_type": "code",
   "execution_count": 165,
   "id": "7a6ab058-16af-4213-bab6-a99a87f04d50",
   "metadata": {},
   "outputs": [
    {
     "name": "stdout",
     "output_type": "stream",
     "text": [
      "0\n"
     ]
    }
   ],
   "source": [
    "add_numbers()"
   ]
  },
  {
   "cell_type": "code",
   "execution_count": 167,
   "id": "0dfb8786-e678-485c-be0a-07301064cf3c",
   "metadata": {},
   "outputs": [
    {
     "ename": "TypeError",
     "evalue": "add_numbers() takes from 0 to 2 positional arguments but 3 were given",
     "output_type": "error",
     "traceback": [
      "\u001b[1;31m---------------------------------------------------------------------------\u001b[0m",
      "\u001b[1;31mTypeError\u001b[0m                                 Traceback (most recent call last)",
      "Cell \u001b[1;32mIn[167], line 1\u001b[0m\n\u001b[1;32m----> 1\u001b[0m add_numbers(\u001b[38;5;241m2\u001b[39m,\u001b[38;5;241m3\u001b[39m,\u001b[38;5;241m4\u001b[39m)\n",
      "\u001b[1;31mTypeError\u001b[0m: add_numbers() takes from 0 to 2 positional arguments but 3 were given"
     ]
    }
   ],
   "source": [
    "add_numbers(2,3,4)"
   ]
  },
  {
   "cell_type": "markdown",
   "id": "ac26d98d-b332-4153-acbe-d3d2f29d9f4e",
   "metadata": {},
   "source": [
    "#### dealing with arbitrary number of arguments"
   ]
  },
  {
   "cell_type": "code",
   "execution_count": 171,
   "id": "623f4915-1786-421b-9b12-3c371cd1c6be",
   "metadata": {},
   "outputs": [],
   "source": [
    "def add_numbers(a,b,*nums):\n",
    "    print(a)\n",
    "    print(b)\n",
    "    print(nums)"
   ]
  },
  {
   "cell_type": "code",
   "execution_count": 173,
   "id": "696efd4f-e952-4474-87a0-53895e228b6f",
   "metadata": {},
   "outputs": [
    {
     "name": "stdout",
     "output_type": "stream",
     "text": [
      "1\n",
      "2\n",
      "()\n"
     ]
    }
   ],
   "source": [
    "add_numbers(1,2)"
   ]
  },
  {
   "cell_type": "code",
   "execution_count": 175,
   "id": "c67b7bfa-0173-4fab-9b5c-9599b919764b",
   "metadata": {},
   "outputs": [
    {
     "name": "stdout",
     "output_type": "stream",
     "text": [
      "1\n",
      "3\n",
      "(5, 6, 7, 8, 9, 12, 54)\n"
     ]
    }
   ],
   "source": [
    "add_numbers(1,3,5,6,7,8,9,12,54)"
   ]
  },
  {
   "cell_type": "code",
   "execution_count": 179,
   "id": "712f3e48-84b1-45c9-b0f0-f172ab59b058",
   "metadata": {},
   "outputs": [],
   "source": [
    "def add_numbers(a,b,*nums):\n",
    "    t = sum(nums)\n",
    "    print(t)\n",
    "    s = a + b + sum(nums)\n",
    "    print(s)\n",
    "    "
   ]
  },
  {
   "cell_type": "code",
   "execution_count": 181,
   "id": "5a095bff-9807-421f-b8e2-d333e02b02dc",
   "metadata": {},
   "outputs": [
    {
     "name": "stdout",
     "output_type": "stream",
     "text": [
      "52\n",
      "55\n"
     ]
    }
   ],
   "source": [
    "add_numbers(1,2,3,4,5,6,7,8,9,10)"
   ]
  },
  {
   "cell_type": "code",
   "execution_count": 183,
   "id": "38523c76-0a50-4448-a6d4-8612c35524f5",
   "metadata": {},
   "outputs": [
    {
     "name": "stdout",
     "output_type": "stream",
     "text": [
      "745\n"
     ]
    }
   ],
   "source": [
    "def add_numbers(a,b,*nums):\n",
    "    ts = 0\n",
    "    for x in nums:\n",
    "        ts+=x\n",
    "    s = ts+a+b\n",
    "    print(s)\n",
    "add_numbers(10,20,23,435,67,89,56,45)"
   ]
  },
  {
   "cell_type": "code",
   "execution_count": null,
   "id": "bd5b4b89-7850-4a66-ad10-abf0ab6f81a8",
   "metadata": {},
   "outputs": [],
   "source": []
  }
 ],
 "metadata": {
  "kernelspec": {
   "display_name": "Python 3 (ipykernel)",
   "language": "python",
   "name": "python3"
  },
  "language_info": {
   "codemirror_mode": {
    "name": "ipython",
    "version": 3
   },
   "file_extension": ".py",
   "mimetype": "text/x-python",
   "name": "python",
   "nbconvert_exporter": "python",
   "pygments_lexer": "ipython3",
   "version": "3.12.7"
  }
 },
 "nbformat": 4,
 "nbformat_minor": 5
}
