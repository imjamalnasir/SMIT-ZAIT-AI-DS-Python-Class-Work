{
 "cells": [
  {
   "cell_type": "code",
   "execution_count": 3,
   "id": "7713a43c-c0e2-4c2a-ae97-050c866f34ae",
   "metadata": {},
   "outputs": [],
   "source": [
    "team = ['Zaid', 'Saad', 'Qasim', 'Waqas', 'Fahad', 'Asad', 'Nasir', 'Umer', 'Yaseen']"
   ]
  },
  {
   "cell_type": "code",
   "execution_count": 5,
   "id": "ba6981a2-ffb1-4fce-809c-b847612cd722",
   "metadata": {},
   "outputs": [],
   "source": [
    "team.sort()"
   ]
  },
  {
   "cell_type": "markdown",
   "id": "23cc5385-ea44-43a0-a407-2153ad61c1c9",
   "metadata": {},
   "source": [
    "# Dictionary\n",
    " - {}\n",
    " - {key:value} no index.\n",
    " - mutable\n",
    " - iterable"
   ]
  },
  {
   "cell_type": "code",
   "execution_count": 13,
   "id": "d0fb89d9-fb95-4c13-9d96-895ac6d888a7",
   "metadata": {},
   "outputs": [],
   "source": [
    "# empty dictionary\n",
    "student1 = {}"
   ]
  },
  {
   "cell_type": "code",
   "execution_count": 17,
   "id": "3b62bf0b-ec2d-4c9f-964f-f61825958f01",
   "metadata": {},
   "outputs": [
    {
     "data": {
      "text/plain": [
       "0"
      ]
     },
     "execution_count": 17,
     "metadata": {},
     "output_type": "execute_result"
    }
   ],
   "source": [
    "len(student1)"
   ]
  },
  {
   "cell_type": "code",
   "execution_count": 21,
   "id": "36210071-7072-4a44-93d9-e43b222dd138",
   "metadata": {},
   "outputs": [],
   "source": [
    "teacher = {'name':'Asad Ali', \"tid\": 1234 , 'course':\"Data Analysis\", 'age':30.5 }"
   ]
  },
  {
   "cell_type": "code",
   "execution_count": 23,
   "id": "38203875-ca68-4c6a-87a2-62d5f244d703",
   "metadata": {},
   "outputs": [
    {
     "data": {
      "text/plain": [
       "4"
      ]
     },
     "execution_count": 23,
     "metadata": {},
     "output_type": "execute_result"
    }
   ],
   "source": [
    "len(teacher)"
   ]
  },
  {
   "cell_type": "markdown",
   "id": "9af9f735-5b4d-4545-9c4e-3a76dd160252",
   "metadata": {},
   "source": [
    "### Accessing dictionary data"
   ]
  },
  {
   "cell_type": "code",
   "execution_count": 26,
   "id": "f7204d24-d455-4d34-9bab-5aa7dd9e8c52",
   "metadata": {},
   "outputs": [
    {
     "data": {
      "text/plain": [
       "'Data Analysis'"
      ]
     },
     "execution_count": 26,
     "metadata": {},
     "output_type": "execute_result"
    }
   ],
   "source": [
    "teacher['course']"
   ]
  },
  {
   "cell_type": "code",
   "execution_count": 28,
   "id": "b18e9ff4-0c5a-4b2f-ba29-941215c9ce6c",
   "metadata": {},
   "outputs": [
    {
     "data": {
      "text/plain": [
       "30.5"
      ]
     },
     "execution_count": 28,
     "metadata": {},
     "output_type": "execute_result"
    }
   ],
   "source": [
    "teacher['age']"
   ]
  },
  {
   "cell_type": "markdown",
   "id": "4fca323c-7f9e-45a0-a5da-3e8d0b3d75bb",
   "metadata": {},
   "source": [
    "### Adding new value to a dictionary"
   ]
  },
  {
   "cell_type": "code",
   "execution_count": 31,
   "id": "34cdbc30-a50b-4d89-b515-e59e0922c8b5",
   "metadata": {},
   "outputs": [
    {
     "data": {
      "text/plain": [
       "{'name': 'Asad Ali',\n",
       " 'tid': 1234,\n",
       " 'course': 'Data Analysis',\n",
       " 'age': 30.5,\n",
       " 'email': 'abc@gmail.com'}"
      ]
     },
     "execution_count": 31,
     "metadata": {},
     "output_type": "execute_result"
    }
   ],
   "source": [
    "# if the key is not already present in the dictionary, it create a new key value pair\n",
    "teacher['email'] = 'abc@gmail.com'\n",
    "teacher"
   ]
  },
  {
   "cell_type": "markdown",
   "id": "7771d73b-e63e-46fe-83aa-a56a2076ed21",
   "metadata": {},
   "source": [
    "### Replacing/ Updating a new value to a dictionary"
   ]
  },
  {
   "cell_type": "code",
   "execution_count": 34,
   "id": "f8a45710-466e-4ce2-ae15-20f072cb5a4b",
   "metadata": {},
   "outputs": [
    {
     "data": {
      "text/plain": [
       "{'name': 'Asad Ali',\n",
       " 'tid': 1234,\n",
       " 'course': 'Data Analysis',\n",
       " 'age': 30.5,\n",
       " 'email': 'abc@yahoo.com'}"
      ]
     },
     "execution_count": 34,
     "metadata": {},
     "output_type": "execute_result"
    }
   ],
   "source": [
    "# if the key is PRESENt already  in the dictionary, it will update the value of the provided KEY\n",
    "teacher['email'] = 'abc@yahoo.com'\n",
    "teacher"
   ]
  },
  {
   "cell_type": "code",
   "execution_count": 36,
   "id": "a050ae77-bbed-4d89-a8ab-db60dff1d55e",
   "metadata": {},
   "outputs": [
    {
     "data": {
      "text/plain": [
       "dict_keys(['name', 'tid', 'course', 'age', 'email'])"
      ]
     },
     "execution_count": 36,
     "metadata": {},
     "output_type": "execute_result"
    }
   ],
   "source": [
    "teacher.keys()"
   ]
  },
  {
   "cell_type": "code",
   "execution_count": 38,
   "id": "07679adf-abec-4de2-bf23-474a830b40fc",
   "metadata": {},
   "outputs": [
    {
     "data": {
      "text/plain": [
       "dict_values(['Asad Ali', 1234, 'Data Analysis', 30.5, 'abc@yahoo.com'])"
      ]
     },
     "execution_count": 38,
     "metadata": {},
     "output_type": "execute_result"
    }
   ],
   "source": [
    "teacher.values()"
   ]
  },
  {
   "cell_type": "code",
   "execution_count": 40,
   "id": "2489c88b-5513-48d7-967d-6e31e01c3575",
   "metadata": {},
   "outputs": [
    {
     "data": {
      "text/plain": [
       "dict_items([('name', 'Asad Ali'), ('tid', 1234), ('course', 'Data Analysis'), ('age', 30.5), ('email', 'abc@yahoo.com')])"
      ]
     },
     "execution_count": 40,
     "metadata": {},
     "output_type": "execute_result"
    }
   ],
   "source": [
    "teacher.items()"
   ]
  },
  {
   "cell_type": "code",
   "execution_count": 46,
   "id": "da41724b-284f-428f-8456-28f7f4c08f97",
   "metadata": {},
   "outputs": [
    {
     "ename": "TypeError",
     "evalue": "pop expected at least 1 argument, got 0",
     "output_type": "error",
     "traceback": [
      "\u001b[1;31m---------------------------------------------------------------------------\u001b[0m",
      "\u001b[1;31mTypeError\u001b[0m                                 Traceback (most recent call last)",
      "Cell \u001b[1;32mIn[46], line 1\u001b[0m\n\u001b[1;32m----> 1\u001b[0m teacher\u001b[38;5;241m.\u001b[39mpop()\n",
      "\u001b[1;31mTypeError\u001b[0m: pop expected at least 1 argument, got 0"
     ]
    }
   ],
   "source": [
    "teacher.pop()"
   ]
  },
  {
   "cell_type": "code",
   "execution_count": 50,
   "id": "23565d91-4e5f-4643-b32e-0f6e05294c8b",
   "metadata": {},
   "outputs": [
    {
     "data": {
      "text/plain": [
       "'abc@yahoo.com'"
      ]
     },
     "execution_count": 50,
     "metadata": {},
     "output_type": "execute_result"
    }
   ],
   "source": [
    "teacher.pop('email')"
   ]
  },
  {
   "cell_type": "code",
   "execution_count": 52,
   "id": "851dbc1a-069a-4db4-b715-c7443d9bf3bd",
   "metadata": {},
   "outputs": [
    {
     "data": {
      "text/plain": [
       "{'name': 'Asad Ali', 'tid': 1234, 'course': 'Data Analysis'}"
      ]
     },
     "execution_count": 52,
     "metadata": {},
     "output_type": "execute_result"
    }
   ],
   "source": [
    "teacher"
   ]
  },
  {
   "cell_type": "code",
   "execution_count": 54,
   "id": "0f89f3ca-0ce5-4cd9-aa73-e64304d2b1eb",
   "metadata": {},
   "outputs": [
    {
     "data": {
      "text/plain": [
       "('course', 'Data Analysis')"
      ]
     },
     "execution_count": 54,
     "metadata": {},
     "output_type": "execute_result"
    }
   ],
   "source": [
    "teacher.popitem()"
   ]
  },
  {
   "cell_type": "code",
   "execution_count": 56,
   "id": "73821273-1ba9-41af-b378-798f8ce99e3a",
   "metadata": {},
   "outputs": [
    {
     "data": {
      "text/plain": [
       "{'name': 'Asad Ali', 'tid': 1234}"
      ]
     },
     "execution_count": 56,
     "metadata": {},
     "output_type": "execute_result"
    }
   ],
   "source": [
    "teacher"
   ]
  },
  {
   "cell_type": "code",
   "execution_count": 60,
   "id": "2e9c1de6-251c-4516-ba60-0664e1af5df7",
   "metadata": {},
   "outputs": [],
   "source": [
    "popped_list =[]"
   ]
  },
  {
   "cell_type": "code",
   "execution_count": 66,
   "id": "752d2923-d528-409a-9902-c1e3abed345a",
   "metadata": {},
   "outputs": [
    {
     "ename": "KeyError",
     "evalue": "'popitem(): dictionary is empty'",
     "output_type": "error",
     "traceback": [
      "\u001b[1;31m---------------------------------------------------------------------------\u001b[0m",
      "\u001b[1;31mKeyError\u001b[0m                                  Traceback (most recent call last)",
      "Cell \u001b[1;32mIn[66], line 1\u001b[0m\n\u001b[1;32m----> 1\u001b[0m popped_item \u001b[38;5;241m=\u001b[39m teacher\u001b[38;5;241m.\u001b[39mpopitem()\n\u001b[0;32m      2\u001b[0m popped_list\u001b[38;5;241m.\u001b[39mappend(popped_item)\n",
      "\u001b[1;31mKeyError\u001b[0m: 'popitem(): dictionary is empty'"
     ]
    }
   ],
   "source": [
    "popped_item = teacher.popitem()\n",
    "popped_list.append(popped_item)"
   ]
  },
  {
   "cell_type": "code",
   "execution_count": 64,
   "id": "835bee49-0f64-4fb6-8b64-06a90a75b245",
   "metadata": {},
   "outputs": [
    {
     "data": {
      "text/plain": [
       "[[...]]"
      ]
     },
     "execution_count": 64,
     "metadata": {},
     "output_type": "execute_result"
    }
   ],
   "source": [
    "popped_list"
   ]
  },
  {
   "cell_type": "code",
   "execution_count": 68,
   "id": "052d9283-7088-4d91-aefc-191a387cf814",
   "metadata": {},
   "outputs": [],
   "source": [
    "teacher = {'name':'Asad Ali', \"tid\": 1234 , 'course':\"Data Analysis\", 'age':30.5 }"
   ]
  },
  {
   "cell_type": "code",
   "execution_count": 70,
   "id": "bf55c1c8-fea2-4d22-a542-663ade8fca68",
   "metadata": {},
   "outputs": [],
   "source": [
    "popped_list =[]"
   ]
  },
  {
   "cell_type": "code",
   "execution_count": 72,
   "id": "048a01ab-2cdc-499f-97fa-5bf75c899203",
   "metadata": {},
   "outputs": [],
   "source": [
    "popped_item = teacher.popitem()\n",
    "popped_list.append(popped_item)"
   ]
  },
  {
   "cell_type": "code",
   "execution_count": 74,
   "id": "df07a98a-41f1-483b-a965-7e0669c41d68",
   "metadata": {},
   "outputs": [
    {
     "data": {
      "text/plain": [
       "[('age', 30.5)]"
      ]
     },
     "execution_count": 74,
     "metadata": {},
     "output_type": "execute_result"
    }
   ],
   "source": [
    "popped_list"
   ]
  },
  {
   "cell_type": "code",
   "execution_count": 76,
   "id": "92b9c63c-a8aa-42f1-b14b-3ffd4f3bab1a",
   "metadata": {},
   "outputs": [
    {
     "data": {
      "text/plain": [
       "[('age', 30.5), ('course', 'Data Analysis')]"
      ]
     },
     "execution_count": 76,
     "metadata": {},
     "output_type": "execute_result"
    }
   ],
   "source": [
    "popped_item = teacher.popitem()\n",
    "popped_list.append(popped_item)\n",
    "popped_list"
   ]
  },
  {
   "cell_type": "code",
   "execution_count": 78,
   "id": "6f712237-2c69-441e-a3e4-f7037af52df2",
   "metadata": {},
   "outputs": [
    {
     "data": {
      "text/plain": [
       "[('age', 30.5), ('course', 'Data Analysis'), ('tid', 1234)]"
      ]
     },
     "execution_count": 78,
     "metadata": {},
     "output_type": "execute_result"
    }
   ],
   "source": [
    "popped_item = teacher.popitem()\n",
    "popped_list.append(popped_item)\n",
    "popped_list"
   ]
  },
  {
   "cell_type": "code",
   "execution_count": 80,
   "id": "7bc8b114-dea5-4482-bd70-041560d63000",
   "metadata": {},
   "outputs": [
    {
     "data": {
      "text/plain": [
       "{'name': 'Asad Ali'}"
      ]
     },
     "execution_count": 80,
     "metadata": {},
     "output_type": "execute_result"
    }
   ],
   "source": [
    "teacher"
   ]
  },
  {
   "cell_type": "code",
   "execution_count": 82,
   "id": "e8074294-d245-423b-945f-7695a3dc86aa",
   "metadata": {},
   "outputs": [
    {
     "data": {
      "text/plain": [
       "[('name', 'Asad Ali')]"
      ]
     },
     "execution_count": 82,
     "metadata": {},
     "output_type": "execute_result"
    }
   ],
   "source": [
    "popped_list =[]\n",
    "popped_item = teacher.popitem()\n",
    "popped_list.append(popped_item)\n",
    "popped_list"
   ]
  },
  {
   "cell_type": "code",
   "execution_count": 98,
   "id": "eb988257-0ade-41e8-ad1f-f4eaf9aae7b3",
   "metadata": {},
   "outputs": [],
   "source": [
    "teacher = {'name':'Asad Ali', \"tid\": 1234 , 'course':\"Data Analysis\", 'age':30.5 }"
   ]
  },
  {
   "cell_type": "code",
   "execution_count": 100,
   "id": "d15f98a4-338d-42ca-95c2-7b1bdba6c4d1",
   "metadata": {},
   "outputs": [
    {
     "data": {
      "text/plain": [
       "('Asad Ali', 'Asad Ali')"
      ]
     },
     "execution_count": 100,
     "metadata": {},
     "output_type": "execute_result"
    }
   ],
   "source": [
    "# both are same \n",
    "teacher.get('name')  ,  teacher['name']"
   ]
  },
  {
   "cell_type": "code",
   "execution_count": 102,
   "id": "d8df9012-3568-441f-b41b-b001b952589a",
   "metadata": {},
   "outputs": [],
   "source": [
    "teacher_details = {'marital_status': 'married', 'qulaification':'Graduate', 'city':'Karachi'} "
   ]
  },
  {
   "cell_type": "code",
   "execution_count": 104,
   "id": "6d469629-84ed-4532-bc3a-2e9043f911ef",
   "metadata": {},
   "outputs": [],
   "source": [
    "teacher['details'] = teacher_details"
   ]
  },
  {
   "cell_type": "code",
   "execution_count": 106,
   "id": "3710bc44-2e2b-4bf0-8b18-98fcf053a3a5",
   "metadata": {},
   "outputs": [
    {
     "data": {
      "text/plain": [
       "{'name': 'Asad Ali',\n",
       " 'tid': 1234,\n",
       " 'course': 'Data Analysis',\n",
       " 'age': 30.5,\n",
       " 'details': {'marital_status': 'married',\n",
       "  'qulaification': 'Graduate',\n",
       "  'city': 'Karachi'}}"
      ]
     },
     "execution_count": 106,
     "metadata": {},
     "output_type": "execute_result"
    }
   ],
   "source": [
    "teacher"
   ]
  },
  {
   "cell_type": "code",
   "execution_count": 108,
   "id": "6489d477-83fb-4c94-ad8a-55aa72a4f76b",
   "metadata": {},
   "outputs": [],
   "source": [
    "teacher.update(teacher_details)"
   ]
  },
  {
   "cell_type": "code",
   "execution_count": 110,
   "id": "d576b5f3-9758-4421-b562-b376bf052460",
   "metadata": {},
   "outputs": [
    {
     "data": {
      "text/plain": [
       "{'name': 'Asad Ali',\n",
       " 'tid': 1234,\n",
       " 'course': 'Data Analysis',\n",
       " 'age': 30.5,\n",
       " 'details': {'marital_status': 'married',\n",
       "  'qulaification': 'Graduate',\n",
       "  'city': 'Karachi'},\n",
       " 'marital_status': 'married',\n",
       " 'qulaification': 'Graduate',\n",
       " 'city': 'Karachi'}"
      ]
     },
     "execution_count": 110,
     "metadata": {},
     "output_type": "execute_result"
    }
   ],
   "source": [
    "teacher"
   ]
  },
  {
   "cell_type": "code",
   "execution_count": 112,
   "id": "dea6ee35-6aca-417b-a2a5-f1d30a6c0f0e",
   "metadata": {},
   "outputs": [
    {
     "data": {
      "text/plain": [
       "{'marital_status': 'married', 'qulaification': 'Graduate', 'city': 'Karachi'}"
      ]
     },
     "execution_count": 112,
     "metadata": {},
     "output_type": "execute_result"
    }
   ],
   "source": [
    "teacher_details"
   ]
  },
  {
   "cell_type": "code",
   "execution_count": 114,
   "id": "6fffd4f8-9b73-4284-b938-380a0dc00b51",
   "metadata": {},
   "outputs": [],
   "source": [
    "del teacher['details']"
   ]
  },
  {
   "cell_type": "code",
   "execution_count": 116,
   "id": "5b61f4f4-1ed6-4b88-8cd1-59cfc9ed6c1d",
   "metadata": {},
   "outputs": [
    {
     "data": {
      "text/plain": [
       "{'name': 'Asad Ali',\n",
       " 'tid': 1234,\n",
       " 'course': 'Data Analysis',\n",
       " 'age': 30.5,\n",
       " 'marital_status': 'married',\n",
       " 'qulaification': 'Graduate',\n",
       " 'city': 'Karachi'}"
      ]
     },
     "execution_count": 116,
     "metadata": {},
     "output_type": "execute_result"
    }
   ],
   "source": [
    "teacher"
   ]
  },
  {
   "cell_type": "code",
   "execution_count": 118,
   "id": "6620b1f1-93d9-4d07-876e-13a98900d19d",
   "metadata": {},
   "outputs": [],
   "source": [
    "import pandas as pd\n",
    "res = pd.read_excel('responses.xlsx')"
   ]
  },
  {
   "cell_type": "code",
   "execution_count": 124,
   "id": "009fa9ea-7da5-40ed-bc19-4af2050a7b2d",
   "metadata": {},
   "outputs": [],
   "source": [
    "result = res[['Score','Name', 'Email Address','Roll No.']]"
   ]
  },
  {
   "cell_type": "code",
   "execution_count": 160,
   "id": "a595d117-6528-4b46-aa46-6ece07ebf10a",
   "metadata": {},
   "outputs": [],
   "source": [
    "result.to_excel(\"res.xlsx\")"
   ]
  },
  {
   "cell_type": "code",
   "execution_count": 162,
   "id": "f86a60da-aa09-4595-b40e-c5b6484e042d",
   "metadata": {},
   "outputs": [
    {
     "data": {
      "text/plain": [
       "{'name': 'Asad Ali',\n",
       " 'tid': 1234,\n",
       " 'course': 'Data Analysis',\n",
       " 'age': 30.5,\n",
       " 'marital_status': 'married',\n",
       " 'qulaification': 'Graduate',\n",
       " 'city': 'Karachi'}"
      ]
     },
     "execution_count": 162,
     "metadata": {},
     "output_type": "execute_result"
    }
   ],
   "source": [
    "teacher"
   ]
  },
  {
   "cell_type": "code",
   "execution_count": 164,
   "id": "52278818-0486-4dc0-9631-74e520e924de",
   "metadata": {},
   "outputs": [],
   "source": [
    "lst = []"
   ]
  },
  {
   "cell_type": "code",
   "execution_count": 170,
   "id": "31b28624-7f8a-4736-b821-7baa351aaef3",
   "metadata": {},
   "outputs": [],
   "source": [
    "popped_item = teacher.popitem()\n",
    "lst.append(popped_item)"
   ]
  },
  {
   "cell_type": "code",
   "execution_count": 172,
   "id": "270e062d-8699-4c82-a01a-49f8c0e7dbdb",
   "metadata": {},
   "outputs": [
    {
     "data": {
      "text/plain": [
       "[('city', 'Karachi'), ('qulaification', 'Graduate')]"
      ]
     },
     "execution_count": 172,
     "metadata": {},
     "output_type": "execute_result"
    }
   ],
   "source": [
    "lst"
   ]
  },
  {
   "cell_type": "code",
   "execution_count": null,
   "id": "40153825-85a3-4d56-9c07-442f347297a0",
   "metadata": {},
   "outputs": [],
   "source": []
  }
 ],
 "metadata": {
  "kernelspec": {
   "display_name": "Python 3 (ipykernel)",
   "language": "python",
   "name": "python3"
  },
  "language_info": {
   "codemirror_mode": {
    "name": "ipython",
    "version": 3
   },
   "file_extension": ".py",
   "mimetype": "text/x-python",
   "name": "python",
   "nbconvert_exporter": "python",
   "pygments_lexer": "ipython3",
   "version": "3.12.7"
  }
 },
 "nbformat": 4,
 "nbformat_minor": 5
}
