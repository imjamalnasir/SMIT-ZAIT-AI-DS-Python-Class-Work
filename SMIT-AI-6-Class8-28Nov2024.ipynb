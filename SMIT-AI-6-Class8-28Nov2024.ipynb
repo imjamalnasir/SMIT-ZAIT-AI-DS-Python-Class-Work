{
 "cells": [
  {
   "cell_type": "markdown",
   "id": "f64dc5ec-ff14-4dc9-a6e1-cc7e25ad1500",
   "metadata": {},
   "source": [
    "# Loops in Python\n",
    "          - For in\n",
    "          - While"
   ]
  },
  {
   "cell_type": "code",
   "execution_count": 6,
   "id": "32b0e120-febc-4ed4-8b11-e3698b38ac7e",
   "metadata": {},
   "outputs": [
    {
     "name": "stdout",
     "output_type": "stream",
     "text": [
      "P\n",
      "P\n",
      "a\n",
      "A\n",
      "k\n",
      "K\n",
      "i\n",
      "I\n",
      "s\n",
      "S\n",
      "t\n",
      "T\n",
      "a\n",
      "A\n",
      "n\n",
      "N\n"
     ]
    }
   ],
   "source": [
    "for a in 'Pakistan':\n",
    "    print(a)\n",
    "    print(a.upper())"
   ]
  },
  {
   "cell_type": "code",
   "execution_count": 20,
   "id": "bbfe6bcd-7825-409d-81ad-c733e087b009",
   "metadata": {},
   "outputs": [
    {
     "name": "stdout",
     "output_type": "stream",
     "text": [
      "0\n",
      "1\n",
      "2\n",
      "3\n",
      "4\n",
      "5\n",
      "6\n",
      "7\n",
      "8\n",
      "9\n"
     ]
    }
   ],
   "source": [
    "for a in range(10):\n",
    "    print(a)"
   ]
  },
  {
   "cell_type": "code",
   "execution_count": 24,
   "id": "aaa841da-53d1-43c1-b182-6f86069b9f17",
   "metadata": {},
   "outputs": [
    {
     "name": "stdout",
     "output_type": "stream",
     "text": [
      "Nasir\n",
      "Nasir\n",
      "Nasir\n",
      "Nasir\n",
      "Nasir\n",
      "Nasir\n",
      "Nasir\n",
      "Nasir\n",
      "Nasir\n",
      "Nasir\n"
     ]
    }
   ],
   "source": [
    "# print your name ten times\n",
    "print(\"Nasir\")\n",
    "print(\"Nasir\")\n",
    "print(\"Nasir\")\n",
    "print(\"Nasir\")\n",
    "print(\"Nasir\")\n",
    "print(\"Nasir\")\n",
    "print(\"Nasir\")\n",
    "print(\"Nasir\")\n",
    "print(\"Nasir\")\n",
    "print(\"Nasir\")"
   ]
  },
  {
   "cell_type": "code",
   "execution_count": 34,
   "id": "1447f41b-c05d-44f7-9b37-9604ab5d41d9",
   "metadata": {},
   "outputs": [
    {
     "name": "stdout",
     "output_type": "stream",
     "text": [
      "0\n",
      "1\n",
      "2\n",
      "3\n",
      "4\n",
      "5\n",
      "6\n",
      "7\n",
      "8\n",
      "9\n"
     ]
    }
   ],
   "source": [
    "for a in range(10):\n",
    "    print(a)"
   ]
  },
  {
   "cell_type": "code",
   "execution_count": 42,
   "id": "8254e639-d4eb-4037-aa8b-b68ffde20c4a",
   "metadata": {},
   "outputs": [
    {
     "name": "stdout",
     "output_type": "stream",
     "text": [
      "1\n",
      "2\n",
      "3\n",
      "4\n",
      "5\n",
      "6\n",
      "7\n",
      "8\n",
      "9\n"
     ]
    }
   ],
   "source": [
    "for i in range(1,10):\n",
    "    print(i)"
   ]
  },
  {
   "cell_type": "code",
   "execution_count": 40,
   "id": "b31db97f-1e87-49a5-b001-f34a842e6ef7",
   "metadata": {
    "scrolled": true
   },
   "outputs": [
    {
     "name": "stdout",
     "output_type": "stream",
     "text": [
      "0\n",
      "2\n",
      "4\n",
      "6\n",
      "8\n",
      "10\n",
      "12\n",
      "14\n",
      "16\n",
      "18\n"
     ]
    }
   ],
   "source": [
    "for i in range(0,20,2):\n",
    "    print(i)"
   ]
  },
  {
   "cell_type": "code",
   "execution_count": 44,
   "id": "3f0db073-5a44-43e1-9059-db9f04d92a80",
   "metadata": {},
   "outputs": [
    {
     "name": "stdout",
     "output_type": "stream",
     "text": [
      "1\n",
      "2\n",
      "3\n",
      "4\n",
      "5\n",
      "6\n"
     ]
    }
   ],
   "source": [
    "for nums in [11,22,33,44,55,66]:\n",
    "    print(nums//10)"
   ]
  },
  {
   "cell_type": "markdown",
   "id": "e8ddeda7-ae0d-41f9-b676-8b2fc318f957",
   "metadata": {},
   "source": [
    "### Loops always iterates over the values that are really iterable\n",
    "### string, list, dictionary, tuple, set"
   ]
  },
  {
   "cell_type": "code",
   "execution_count": 56,
   "id": "67d649b0-be1b-40f8-817f-668998aaa10f",
   "metadata": {},
   "outputs": [
    {
     "name": "stdout",
     "output_type": "stream",
     "text": [
      "10\n",
      "9\n",
      "8\n",
      "7\n",
      "6\n",
      "5\n",
      "4\n",
      "3\n",
      "2\n",
      "1\n"
     ]
    }
   ],
   "source": [
    "for num in range(10,0,-1):\n",
    "    print(num)"
   ]
  },
  {
   "cell_type": "code",
   "execution_count": 62,
   "id": "aaad98ab-f401-4165-aa95-10ea46a5f72c",
   "metadata": {},
   "outputs": [],
   "source": [
    "cities = ('Karachi', 'Islamabad', 'Larkana', 'Pindi','Pesahwar', 'Mansehra')"
   ]
  },
  {
   "cell_type": "code",
   "execution_count": 64,
   "id": "fbeeec4f-eec7-4baa-badd-7bf22692245f",
   "metadata": {},
   "outputs": [
    {
     "name": "stdout",
     "output_type": "stream",
     "text": [
      "I love Karachi\n",
      "I love Islamabad\n",
      "I love Larkana\n",
      "I love Pindi\n",
      "I love Pesahwar\n",
      "I love Mansehra\n"
     ]
    }
   ],
   "source": [
    "for city in cities:\n",
    "    print(f\"I love {city}\")"
   ]
  },
  {
   "cell_type": "code",
   "execution_count": 66,
   "id": "e11d7ab3-6870-40b4-80da-4665aa103427",
   "metadata": {},
   "outputs": [
    {
     "name": "stdout",
     "output_type": "stream",
     "text": [
      "I love Karachi\n",
      "I love Islamabad\n",
      "I love Larkana\n",
      "I dont love Pindi\n",
      "I love Pesahwar\n",
      "I love Mansehra\n"
     ]
    }
   ],
   "source": [
    "for city in cities:\n",
    "    if city == \"Pindi\":\n",
    "        print(\"I dont love Pindi\")\n",
    "    else:\n",
    "        print(f\"I love {city}\")\n"
   ]
  },
  {
   "cell_type": "markdown",
   "id": "78846076-4ab2-49e3-90c1-7a02a9a6d17a",
   "metadata": {},
   "source": [
    "# Break and Continue"
   ]
  },
  {
   "cell_type": "code",
   "execution_count": 71,
   "id": "5f2e0eb1-ffe0-432d-83b3-4a0eaa9ed2bd",
   "metadata": {},
   "outputs": [
    {
     "name": "stdout",
     "output_type": "stream",
     "text": [
      "0\n",
      "1\n",
      "2\n",
      "3\n",
      "4\n"
     ]
    }
   ],
   "source": [
    "for i in range(10):\n",
    "    if i == 5:\n",
    "        break\n",
    "    print(i)"
   ]
  },
  {
   "cell_type": "code",
   "execution_count": 77,
   "id": "200b8fd7-70ca-4189-962c-aad0e4ee74eb",
   "metadata": {},
   "outputs": [
    {
     "name": "stdout",
     "output_type": "stream",
     "text": [
      "1\n",
      "2\n",
      "3\n",
      "4\n",
      "5\n",
      "6\n",
      "7\n",
      "8\n",
      "9\n"
     ]
    }
   ],
   "source": [
    "for i in range(1,100):\n",
    "    if i%10==0:\n",
    "        break\n",
    "    print(i)"
   ]
  },
  {
   "cell_type": "code",
   "execution_count": 95,
   "id": "d10febb9-30b8-4ea8-ad51-b1ca0c1480b0",
   "metadata": {},
   "outputs": [
    {
     "name": "stdout",
     "output_type": "stream",
     "text": [
      "1 1\n"
     ]
    },
    {
     "data": {
      "text/plain": [
       "[2, 4]"
      ]
     },
     "execution_count": 95,
     "metadata": {},
     "output_type": "execute_result"
    }
   ],
   "source": [
    "lst =[]\n",
    "for a in range(1,20):\n",
    "    sqr = a**2\n",
    "    if sqr%2==0:\n",
    "        lst.append(a)\n",
    "        lst.append(sqr)\n",
    "        break\n",
    "    else:\n",
    "        print(a,sqr)\n",
    "lst"
   ]
  },
  {
   "cell_type": "code",
   "execution_count": 101,
   "id": "9dac3b17-4c4f-4a6e-8258-0c4585f4b317",
   "metadata": {},
   "outputs": [
    {
     "name": "stdout",
     "output_type": "stream",
     "text": [
      "1 1\n"
     ]
    },
    {
     "data": {
      "text/plain": [
       "{2: 4}"
      ]
     },
     "execution_count": 101,
     "metadata": {},
     "output_type": "execute_result"
    }
   ],
   "source": [
    "adict ={}\n",
    "for a in range(1,20):\n",
    "    sqr = a**2\n",
    "    if sqr%2==0:\n",
    "        adict[a]=sqr\n",
    "        break\n",
    "    else:\n",
    "        print(a,sqr)\n",
    "adict"
   ]
  },
  {
   "cell_type": "markdown",
   "id": "57858432-c93d-448e-a2e7-e693754a9f74",
   "metadata": {},
   "source": [
    "# Looping through a list /iterating over a list"
   ]
  },
  {
   "cell_type": "code",
   "execution_count": 107,
   "id": "f49838f1-3703-45a0-aca9-6d21dc59137a",
   "metadata": {},
   "outputs": [],
   "source": [
    "alist = ['Mango', 'Apple', 'Banana', 'Kiwi', 'Cherry']"
   ]
  },
  {
   "cell_type": "code",
   "execution_count": 133,
   "id": "b6f457fd-ef63-476f-9210-d6b0561798ba",
   "metadata": {},
   "outputs": [
    {
     "name": "stdout",
     "output_type": "stream",
     "text": [
      "Mango\n",
      "Apple\n",
      "Banana\n",
      "Kiwi\n",
      "Cherry\n"
     ]
    }
   ],
   "source": [
    "for fruit in alist:\n",
    "    print(fruit)"
   ]
  },
  {
   "cell_type": "code",
   "execution_count": 111,
   "id": "840d7967-5d2f-4776-a17b-e5d88b0970b8",
   "metadata": {},
   "outputs": [
    {
     "data": {
      "text/plain": [
       "('Karachi', 'Islamabad', 'Larkana', 'Pindi', 'Pesahwar', 'Mansehra')"
      ]
     },
     "execution_count": 111,
     "metadata": {},
     "output_type": "execute_result"
    }
   ],
   "source": [
    "cities"
   ]
  },
  {
   "cell_type": "code",
   "execution_count": 113,
   "id": "0c292d38-5976-4feb-863a-0076c282ce43",
   "metadata": {},
   "outputs": [
    {
     "name": "stdout",
     "output_type": "stream",
     "text": [
      "Karachi\n",
      "Islamabad\n",
      "Larkana\n",
      "Pindi\n",
      "Pesahwar\n",
      "Mansehra\n"
     ]
    }
   ],
   "source": [
    "for city in cities:\n",
    "    print(city)"
   ]
  },
  {
   "cell_type": "code",
   "execution_count": 117,
   "id": "d3a0053f-3dd4-4f54-a4e9-f07880459dcc",
   "metadata": {},
   "outputs": [
    {
     "name": "stdout",
     "output_type": "stream",
     "text": [
      "name\n",
      "class\n"
     ]
    }
   ],
   "source": [
    "# when iterating over a dict it loops on keys only\n",
    "adict = {'name':\"Nasir\", \"class\":'Python'}\n",
    "for a in adict:\n",
    "    print(a)"
   ]
  },
  {
   "cell_type": "code",
   "execution_count": null,
   "id": "44cb8ad0-cba1-4520-862e-9d7f77dae785",
   "metadata": {},
   "outputs": [],
   "source": [
    "adict = {'name':\"Nasir\", \"class\":'Python'}\n",
    "for a in adict:\n",
    "    print(a)"
   ]
  },
  {
   "cell_type": "code",
   "execution_count": 119,
   "id": "d4fd40db-b8dc-4f44-b7b1-3713de7e6ec6",
   "metadata": {},
   "outputs": [
    {
     "data": {
      "text/plain": [
       "dict_keys(['name', 'class'])"
      ]
     },
     "execution_count": 119,
     "metadata": {},
     "output_type": "execute_result"
    }
   ],
   "source": [
    "adict.keys()"
   ]
  },
  {
   "cell_type": "code",
   "execution_count": 121,
   "id": "6d53f83d-6e77-4286-9032-9957bbbb9f03",
   "metadata": {},
   "outputs": [
    {
     "data": {
      "text/plain": [
       "dict_values(['Nasir', 'Python'])"
      ]
     },
     "execution_count": 121,
     "metadata": {},
     "output_type": "execute_result"
    }
   ],
   "source": [
    "adict.values()"
   ]
  },
  {
   "cell_type": "code",
   "execution_count": 125,
   "id": "3b7d0863-1153-4613-98d6-3995dfe4f7cc",
   "metadata": {},
   "outputs": [
    {
     "data": {
      "text/plain": [
       "dict_items([('name', 'Nasir'), ('class', 'Python')])"
      ]
     },
     "execution_count": 125,
     "metadata": {},
     "output_type": "execute_result"
    }
   ],
   "source": [
    "adict.items()"
   ]
  },
  {
   "cell_type": "code",
   "execution_count": 127,
   "id": "7ffdd2e9-3931-4d71-9b47-1aa9033d6567",
   "metadata": {},
   "outputs": [
    {
     "name": "stdout",
     "output_type": "stream",
     "text": [
      "Nasir\n",
      "Python\n"
     ]
    }
   ],
   "source": [
    "adict = {'name':\"Nasir\", \"class\":'Python'}\n",
    "for a in adict.values():\n",
    "    print(a)"
   ]
  },
  {
   "cell_type": "code",
   "execution_count": 129,
   "id": "51c5a12e-7778-4b70-96ae-d210afeb0a21",
   "metadata": {},
   "outputs": [
    {
     "name": "stdout",
     "output_type": "stream",
     "text": [
      "name\n",
      "class\n"
     ]
    }
   ],
   "source": [
    "adict = {'name':\"Nasir\", \"class\":'Python'}\n",
    "for a in adict.keys():\n",
    "    print(a)"
   ]
  },
  {
   "cell_type": "code",
   "execution_count": 135,
   "id": "15ebdb12-1e20-4765-9aa2-7dc32bc6a4bf",
   "metadata": {},
   "outputs": [
    {
     "name": "stdout",
     "output_type": "stream",
     "text": [
      "('name', 'Nasir')\n",
      "('class', 'Python')\n"
     ]
    }
   ],
   "source": [
    "adict = {'name':\"Nasir\", \"class\":'Python'}\n",
    "for a in adict.items():\n",
    "    print(a)"
   ]
  },
  {
   "cell_type": "markdown",
   "id": "2ca93852-9008-4d4f-b86e-040644ada58e",
   "metadata": {},
   "source": [
    "# PACKING AND UNPACKING"
   ]
  },
  {
   "cell_type": "code",
   "execution_count": 138,
   "id": "4bae101e-60b8-4c8f-9e42-91127fd2613c",
   "metadata": {},
   "outputs": [],
   "source": [
    "# PACKNIG\n",
    "alist = ['Mango', 'Apple', 'Banana', 'Kiwi', 'Cherry']"
   ]
  },
  {
   "cell_type": "code",
   "execution_count": 146,
   "id": "6af51b98-00c3-4add-840c-8c67aefb3e81",
   "metadata": {},
   "outputs": [
    {
     "ename": "ValueError",
     "evalue": "too many values to unpack (expected 3)",
     "output_type": "error",
     "traceback": [
      "\u001b[1;31m---------------------------------------------------------------------------\u001b[0m",
      "\u001b[1;31mValueError\u001b[0m                                Traceback (most recent call last)",
      "Cell \u001b[1;32mIn[146], line 1\u001b[0m\n\u001b[1;32m----> 1\u001b[0m m,a,b,\u001b[38;5;241m=\u001b[39malist\n",
      "\u001b[1;31mValueError\u001b[0m: too many values to unpack (expected 3)"
     ]
    }
   ],
   "source": [
    "m,a,b,=alist"
   ]
  },
  {
   "cell_type": "code",
   "execution_count": 142,
   "id": "5cf4b47a-f927-4493-bca8-4ef1de7c350c",
   "metadata": {},
   "outputs": [
    {
     "data": {
      "text/plain": [
       "'Mango'"
      ]
     },
     "execution_count": 142,
     "metadata": {},
     "output_type": "execute_result"
    }
   ],
   "source": [
    "m"
   ]
  },
  {
   "cell_type": "code",
   "execution_count": 148,
   "id": "f62ee353-c252-4b2c-b587-bde783dcf92e",
   "metadata": {},
   "outputs": [
    {
     "name": "stdout",
     "output_type": "stream",
     "text": [
      "Key name and Value Nasir\n",
      "Key class and Value Python\n"
     ]
    }
   ],
   "source": [
    "adict = {'name':\"Nasir\", \"class\":'Python'}\n",
    "for k,v in adict.items():\n",
    "   print(f\"Key {k} and Value {v}\")"
   ]
  },
  {
   "cell_type": "markdown",
   "id": "6a6ac34b-98bf-475c-80a5-c121f84bfe6d",
   "metadata": {},
   "source": [
    "# Continue"
   ]
  },
  {
   "cell_type": "code",
   "execution_count": 155,
   "id": "0f9dd317-8b3c-4926-8d32-c0c1d5112c7c",
   "metadata": {
    "scrolled": true
   },
   "outputs": [
    {
     "name": "stdout",
     "output_type": "stream",
     "text": [
      "36\n"
     ]
    }
   ],
   "source": [
    "for a in range(10):    \n",
    "    if a==6:\n",
    "        print(a**2)\n",
    "        continue "
   ]
  },
  {
   "cell_type": "code",
   "execution_count": 157,
   "id": "6d3d820b-5c4c-4a00-b5c2-8a4afc1c5cd5",
   "metadata": {},
   "outputs": [],
   "source": [
    "items = [{\"laptop\":50000},{\"mobile\":30000},{'printer':20000},\n",
    "           {'mouse':1000},{'ipad':40000},{'keyboard':10000},\n",
    "           {'ac':150000}]"
   ]
  },
  {
   "cell_type": "code",
   "execution_count": 159,
   "id": "15567790-d454-43c5-8928-98d23fe9e991",
   "metadata": {},
   "outputs": [
    {
     "name": "stdin",
     "output_type": "stream",
     "text": [
      "What do you want to buy?  mobile\n"
     ]
    },
    {
     "name": "stdout",
     "output_type": "stream",
     "text": [
      "Price is 30000\n",
      "mobile Not Available\n"
     ]
    }
   ],
   "source": [
    "prod = input(\"What do you want to buy? \")\n",
    "for i in items:  # {\"laptop\":50000}\n",
    "    if prod in i: \n",
    "        print(f\"Price is {i[prod]}\")\n",
    "    \n",
    "print(f\"{prod} Not Available\")\n"
   ]
  },
  {
   "cell_type": "code",
   "execution_count": null,
   "id": "f9c514e8-a467-4b04-9e10-f4fa96cc87e8",
   "metadata": {},
   "outputs": [],
   "source": [
    "i"
   ]
  }
 ],
 "metadata": {
  "kernelspec": {
   "display_name": "Python 3 (ipykernel)",
   "language": "python",
   "name": "python3"
  },
  "language_info": {
   "codemirror_mode": {
    "name": "ipython",
    "version": 3
   },
   "file_extension": ".py",
   "mimetype": "text/x-python",
   "name": "python",
   "nbconvert_exporter": "python",
   "pygments_lexer": "ipython3",
   "version": "3.12.7"
  }
 },
 "nbformat": 4,
 "nbformat_minor": 5
}
