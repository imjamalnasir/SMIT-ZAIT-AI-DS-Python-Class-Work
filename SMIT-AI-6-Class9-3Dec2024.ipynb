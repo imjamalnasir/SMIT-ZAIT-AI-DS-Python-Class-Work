{
 "cells": [
  {
   "cell_type": "raw",
   "id": "63afdb0d-94b5-453f-8cf2-4c17e17b7014",
   "metadata": {},
   "source": [
    "# Write a Python program that prompts the user to enter a base number and an\n",
    "exponent, and then calculates the power of the base to the exponent. The program\n",
    "should not use the exponentiation operator (**) or the math.pow() function. The\n",
    "program should handle both positive and negative exponents."
   ]
  },
  {
   "cell_type": "code",
   "execution_count": 12,
   "id": "a69f7fdd-e338-4672-a72a-1418fc9e597f",
   "metadata": {},
   "outputs": [
    {
     "name": "stdin",
     "output_type": "stream",
     "text": [
      "Enter a base number:  2\n",
      "Entet the exponent to the base:  5\n"
     ]
    },
    {
     "name": "stdout",
     "output_type": "stream",
     "text": [
      "32\n"
     ]
    }
   ],
   "source": [
    "base = int(input(\"Enter a base number: \"))\n",
    "exp = int(input(\"Entet the exponent to the base: \"))\n",
    "r = 1\n",
    "for a in range(exp):\n",
    "    r*=base\n",
    "    \n",
    "print(r)   "
   ]
  },
  {
   "cell_type": "code",
   "execution_count": 22,
   "id": "22bb99df-9482-429a-ae6e-ad9cac87e20e",
   "metadata": {},
   "outputs": [],
   "source": [
    "items = [{\"laptop\":50000},{\"mobile\":30000},{'printer':20000},\n",
    "           {'mouse':1000},{'ipad':40000},{'keyboard':10000},\n",
    "           {'ac':150000}]"
   ]
  },
  {
   "cell_type": "code",
   "execution_count": 48,
   "id": "a84053a6-c0d3-4465-b760-308d36f3af08",
   "metadata": {},
   "outputs": [
    {
     "name": "stdin",
     "output_type": "stream",
     "text": [
      "What do you want to buy?   anda\n"
     ]
    },
    {
     "name": "stdout",
     "output_type": "stream",
     "text": [
      "anda not found\n"
     ]
    }
   ],
   "source": [
    "prod= input(\"What do you want to buy?  \")\n",
    "for item in items:\n",
    "    if prod in item:\n",
    "        print(f\"The price of {prod} is {item[prod]}\") \n",
    "        break        \n",
    "    \n",
    "else:\n",
    "    print(f\"{prod} not found\") "
   ]
  },
  {
   "cell_type": "markdown",
   "id": "77fb585c-26c0-4812-99da-0cc51520ed55",
   "metadata": {},
   "source": [
    "# While Loop"
   ]
  },
  {
   "cell_type": "code",
   "execution_count": 52,
   "id": "f2bb913f-c4e1-4f7c-9140-19b824fb08e3",
   "metadata": {},
   "outputs": [
    {
     "name": "stdout",
     "output_type": "stream",
     "text": [
      "Welcome\n",
      "Welcome\n",
      "Welcome\n",
      "Welcome\n",
      "Welcome\n"
     ]
    }
   ],
   "source": [
    "for a in range(5):\n",
    "    print(\"Welcome\")"
   ]
  },
  {
   "cell_type": "code",
   "execution_count": 59,
   "id": "2920bc0e-e4e8-4127-951c-2162507cf014",
   "metadata": {},
   "outputs": [
    {
     "name": "stdout",
     "output_type": "stream",
     "text": [
      "Zinda Hy\n",
      "Zinda Hy\n",
      "Zinda Hy\n",
      "Zinda Hy\n",
      "Zinda Hy\n",
      "Zinda Hy\n",
      "Zinda Hy\n",
      "Zinda Hy\n",
      "Zinda Hy\n",
      "Zinda Hy\n"
     ]
    }
   ],
   "source": [
    "age=100\n",
    "while age>0:\n",
    "    age-=10\n",
    "    print(\"Zinda Hy\")    "
   ]
  },
  {
   "cell_type": "code",
   "execution_count": 61,
   "id": "f7e2c459-40ac-4b94-bc1e-e4eafe88dada",
   "metadata": {},
   "outputs": [
    {
     "name": "stdout",
     "output_type": "stream",
     "text": [
      "0 Chota hy\n",
      "1 Chota hy\n",
      "2 Chota hy\n",
      "3 Chota hy\n",
      "4 Chota hy\n",
      "5 Chota hy\n",
      "6 Chota hy\n",
      "7 Chota hy\n",
      "8 Chota hy\n",
      "9 Chota hy\n"
     ]
    }
   ],
   "source": [
    "a=0\n",
    "while a<10:\n",
    "    print(a,\"Chota hy\") \n",
    "    a+=1"
   ]
  },
  {
   "cell_type": "code",
   "execution_count": 65,
   "id": "22738332-14ca-4b4e-994a-9b00ce147e9b",
   "metadata": {},
   "outputs": [
    {
     "name": "stdout",
     "output_type": "stream",
     "text": [
      "0 {'laptop': 50000}\n",
      "1 {'mobile': 30000}\n",
      "2 {'printer': 20000}\n",
      "3 {'mouse': 1000}\n",
      "4 {'ipad': 40000}\n",
      "5 {'keyboard': 10000}\n",
      "6 {'ac': 150000}\n"
     ]
    }
   ],
   "source": [
    "for a,item in enumerate(items):\n",
    "    print(a,item)"
   ]
  },
  {
   "cell_type": "code",
   "execution_count": 71,
   "id": "39c66c8a-256c-40b4-a713-7b3585dc878b",
   "metadata": {},
   "outputs": [
    {
     "name": "stdout",
     "output_type": "stream",
     "text": [
      "0 {'laptop': 50000}\n",
      "1 {'mobile': 30000}\n",
      "2 {'printer': 20000}\n",
      "3 {'mouse': 1000}\n",
      "4 {'ipad': 40000}\n",
      "5 {'keyboard': 10000}\n",
      "6 {'ac': 150000}\n"
     ]
    }
   ],
   "source": [
    "items = [{\"laptop\":50000},{\"mobile\":30000},{'printer':20000},\n",
    "                {'mouse':1000},{'ipad':40000},{'keyboard':10000},\n",
    "                       {'ac':150000}]\n",
    "a = 0\n",
    "while a<len(items):\n",
    "    print(a,items[a])\n",
    "    a+=1   "
   ]
  },
  {
   "cell_type": "code",
   "execution_count": 73,
   "id": "b36274ac-4258-471f-abb3-4f5dd243fc3e",
   "metadata": {},
   "outputs": [
    {
     "name": "stdin",
     "output_type": "stream",
     "text": [
      "What do you want to buy?   mobile\n"
     ]
    },
    {
     "name": "stdout",
     "output_type": "stream",
     "text": [
      "The price of mobile is 30000\n"
     ]
    }
   ],
   "source": [
    "prod= input(\"What do you want to buy?  \")\n",
    "for item in items:\n",
    "    if prod in item:\n",
    "        print(f\"The price of {prod} is {item[prod]}\") \n",
    "        break       \n",
    "else:\n",
    "    print(f\"{prod} not found\")"
   ]
  },
  {
   "cell_type": "code",
   "execution_count": 77,
   "id": "da158a97-6e7e-479e-94ce-9da1d886e135",
   "metadata": {},
   "outputs": [],
   "source": [
    "shop = {\"laptop\":50000,\"mobile\":30000,'printer':20000,\n",
    "        'mouse':1000,'ipad':40000,'keyboard':10000,\n",
    "        'ac':150000}"
   ]
  },
  {
   "cell_type": "code",
   "execution_count": 83,
   "id": "485fe288-5ecc-4074-bb4a-0ce45fc32043",
   "metadata": {},
   "outputs": [
    {
     "name": "stdin",
     "output_type": "stream",
     "text": [
      "Enter the item name ac\n"
     ]
    },
    {
     "name": "stdout",
     "output_type": "stream",
     "text": [
      "The price of ac is 150000\n",
      "ac added in cart\n"
     ]
    },
    {
     "name": "stdin",
     "output_type": "stream",
     "text": [
      "Enter the item name mobile\n"
     ]
    },
    {
     "name": "stdout",
     "output_type": "stream",
     "text": [
      "The price of mobile is 30000\n",
      "mobile added in cart\n"
     ]
    },
    {
     "name": "stdin",
     "output_type": "stream",
     "text": [
      "Enter the item name ipad\n"
     ]
    },
    {
     "name": "stdout",
     "output_type": "stream",
     "text": [
      "The price of ipad is 40000\n",
      "ipad added in cart\n"
     ]
    },
    {
     "name": "stdin",
     "output_type": "stream",
     "text": [
      "Enter the item name printer\n"
     ]
    },
    {
     "name": "stdout",
     "output_type": "stream",
     "text": [
      "The price of printer is 20000\n",
      "printer added in cart\n"
     ]
    },
    {
     "name": "stdin",
     "output_type": "stream",
     "text": [
      "Enter the item name keyboard\n"
     ]
    },
    {
     "name": "stdout",
     "output_type": "stream",
     "text": [
      "The price of keyboard is 10000\n",
      "keyboard added in cart\n",
      "\n",
      "        List of items: ['ac', 'mobile', 'ipad', 'printer', 'keyboard']\n",
      "        Total Amount : 250000\n",
      "        \n",
      "\n"
     ]
    }
   ],
   "source": [
    "cart=[]\n",
    "bill = 0\n",
    "for a in range(5):\n",
    "    prod = input(\"Enter the item name\")\n",
    "    if prod in shop:\n",
    "        print(f\"The price of {prod} is {shop[prod]}\")\n",
    "        cart.append(prod)\n",
    "        print(f\"{prod} added in cart\")\n",
    "        bill+=shop[prod]\n",
    "    else:\n",
    "        print(f\"{prod} not available\")\n",
    "print(f\"\"\"\n",
    "        List of items: {cart}\n",
    "        Total Amount : {bill}\n",
    "        \n",
    "\"\"\")"
   ]
  },
  {
   "cell_type": "code",
   "execution_count": 95,
   "id": "935cea06-7372-458e-9030-4cd1970adfb2",
   "metadata": {},
   "outputs": [
    {
     "name": "stdin",
     "output_type": "stream",
     "text": [
      "Enter the item name or press q to quit ac\n"
     ]
    },
    {
     "name": "stdout",
     "output_type": "stream",
     "text": [
      "The price of ac is 150000\n"
     ]
    },
    {
     "name": "stdin",
     "output_type": "stream",
     "text": [
      "How many? 10\n"
     ]
    },
    {
     "name": "stdout",
     "output_type": "stream",
     "text": [
      "10 qac added in cart\n"
     ]
    },
    {
     "name": "stdin",
     "output_type": "stream",
     "text": [
      "Enter the item name or press q to quit q\n"
     ]
    },
    {
     "name": "stdout",
     "output_type": "stream",
     "text": [
      "\n",
      "        List of items: ['ac']\n",
      "        Total Amount : 1500000\n",
      "        \n",
      "\n"
     ]
    }
   ],
   "source": [
    "cart=[]\n",
    "bill = 0\n",
    "for a in range(5):\n",
    "    prod = input(\"Enter the item name or press q to quit\")\n",
    "    if prod==\"q\":\n",
    "        break\n",
    "    else:\n",
    "        if prod in shop:\n",
    "            print(f\"The price of {prod} is {shop[prod]}\")\n",
    "            quantity = int(input(\"How many?\"))\n",
    "            if prod in cart:\n",
    "                print(f\"{prod} already in cart\")\n",
    "            else:                \n",
    "                cart.append(prod)\n",
    "                print(f\"{quantity} {prod} added in cart\")\n",
    "                bill+=(shop[prod]) * quantity\n",
    "        else:\n",
    "            print(f\"{prod} not available\")\n",
    "print(f\"\"\"\n",
    "        List of items: {cart}\n",
    "        Total Amount : {bill}\n",
    "        \n",
    "\"\"\")"
   ]
  },
  {
   "cell_type": "code",
   "execution_count": 99,
   "id": "3393409d-5c1b-401b-9719-47305b98d480",
   "metadata": {},
   "outputs": [
    {
     "name": "stdin",
     "output_type": "stream",
     "text": [
      "Enter the item name or press q to quit mobile\n"
     ]
    },
    {
     "name": "stdout",
     "output_type": "stream",
     "text": [
      "The price of mobile is 30000\n"
     ]
    },
    {
     "name": "stdin",
     "output_type": "stream",
     "text": [
      "How many? 5\n"
     ]
    },
    {
     "name": "stdout",
     "output_type": "stream",
     "text": [
      "5 mobile added in cart\n"
     ]
    },
    {
     "name": "stdin",
     "output_type": "stream",
     "text": [
      "Enter the item name or press q to quit ac\n"
     ]
    },
    {
     "name": "stdout",
     "output_type": "stream",
     "text": [
      "The price of ac is 150000\n"
     ]
    },
    {
     "name": "stdin",
     "output_type": "stream",
     "text": [
      "How many? 2\n"
     ]
    },
    {
     "name": "stdout",
     "output_type": "stream",
     "text": [
      "2 ac added in cart\n"
     ]
    },
    {
     "name": "stdin",
     "output_type": "stream",
     "text": [
      "Enter the item name or press q to quit ipad\n"
     ]
    },
    {
     "name": "stdout",
     "output_type": "stream",
     "text": [
      "The price of ipad is 40000\n"
     ]
    },
    {
     "name": "stdin",
     "output_type": "stream",
     "text": [
      "How many? 10\n"
     ]
    },
    {
     "name": "stdout",
     "output_type": "stream",
     "text": [
      "10 ipad added in cart\n"
     ]
    },
    {
     "name": "stdin",
     "output_type": "stream",
     "text": [
      "Enter the item name or press q to quit q\n"
     ]
    },
    {
     "name": "stdout",
     "output_type": "stream",
     "text": [
      "\n",
      "        List of items: ['mobile', 'ac', 'ipad']\n",
      "        Total Amount : 850000\n",
      "        \n",
      "\n"
     ]
    }
   ],
   "source": [
    "cart=[]\n",
    "bill = 0\n",
    "while True:\n",
    "    prod = input(\"Enter the item name or press q to quit\")\n",
    "    if prod==\"q\":\n",
    "        break\n",
    "    else:\n",
    "        if prod in shop:\n",
    "            print(f\"The price of {prod} is {shop[prod]}\")\n",
    "            quantity = int(input(\"How many?\"))\n",
    "            if prod in cart:\n",
    "                print(f\"{prod} already in cart\")\n",
    "            else:                \n",
    "                cart.append(prod)\n",
    "                print(f\"{quantity} {prod} added in cart\")\n",
    "                bill+=(shop[prod]) * quantity\n",
    "        else:\n",
    "            print(f\"{prod} not available\")\n",
    "print(f\"\"\"\n",
    "        List of items: {cart}\n",
    "        Total Amount : {bill}\n",
    "        \n",
    "\"\"\")"
   ]
  },
  {
   "cell_type": "code",
   "execution_count": null,
   "id": "39e48c40-0d45-469e-8aa0-fa2c6123cc7c",
   "metadata": {},
   "outputs": [],
   "source": []
  },
  {
   "cell_type": "code",
   "execution_count": null,
   "id": "62323906-c3da-41d0-b2fa-9248d415b733",
   "metadata": {},
   "outputs": [],
   "source": []
  },
  {
   "cell_type": "code",
   "execution_count": null,
   "id": "fd8603c8-b1e1-4d41-9633-7f892a672186",
   "metadata": {},
   "outputs": [],
   "source": []
  },
  {
   "cell_type": "code",
   "execution_count": null,
   "id": "ff39ad5a-be75-450c-a736-ababf963a5cf",
   "metadata": {},
   "outputs": [],
   "source": []
  },
  {
   "cell_type": "code",
   "execution_count": null,
   "id": "efed3848-7b4a-4713-bdda-d1dc01437218",
   "metadata": {},
   "outputs": [],
   "source": []
  },
  {
   "cell_type": "code",
   "execution_count": null,
   "id": "1611c230-5082-4f09-915d-6b1abe1781da",
   "metadata": {},
   "outputs": [],
   "source": []
  },
  {
   "cell_type": "code",
   "execution_count": null,
   "id": "41094c70-8fb1-4721-a276-c578e678ac0b",
   "metadata": {},
   "outputs": [],
   "source": []
  }
 ],
 "metadata": {
  "kernelspec": {
   "display_name": "Python 3 (ipykernel)",
   "language": "python",
   "name": "python3"
  },
  "language_info": {
   "codemirror_mode": {
    "name": "ipython",
    "version": 3
   },
   "file_extension": ".py",
   "mimetype": "text/x-python",
   "name": "python",
   "nbconvert_exporter": "python",
   "pygments_lexer": "ipython3",
   "version": "3.12.7"
  }
 },
 "nbformat": 4,
 "nbformat_minor": 5
}
