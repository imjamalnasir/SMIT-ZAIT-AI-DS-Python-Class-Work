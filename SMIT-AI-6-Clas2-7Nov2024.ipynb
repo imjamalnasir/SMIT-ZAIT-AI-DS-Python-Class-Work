{
 "cells": [
  {
   "cell_type": "code",
   "execution_count": 2,
   "id": "a8e85b58",
   "metadata": {},
   "outputs": [
    {
     "name": "stdout",
     "output_type": "stream",
     "text": [
      "Hello Python\n"
     ]
    }
   ],
   "source": [
    "print(\"Hello Python\")"
   ]
  },
  {
   "cell_type": "code",
   "execution_count": 3,
   "id": "f913e2e8",
   "metadata": {},
   "outputs": [
    {
     "name": "stdout",
     "output_type": "stream",
     "text": [
      "Nasir Hussain Python\n"
     ]
    }
   ],
   "source": [
    "print(\"Nasir\",\"Hussain\", \"Python\")"
   ]
  },
  {
   "cell_type": "code",
   "execution_count": 4,
   "id": "e67728ab",
   "metadata": {},
   "outputs": [
    {
     "name": "stdout",
     "output_type": "stream",
     "text": [
      "Nasir----Hussain----Python\n"
     ]
    }
   ],
   "source": [
    "print(\"Nasir\",\"Hussain\", \"Python\",sep=\"----\")"
   ]
  },
  {
   "cell_type": "code",
   "execution_count": 6,
   "id": "0354abdf",
   "metadata": {},
   "outputs": [
    {
     "name": "stdout",
     "output_type": "stream",
     "text": [
      "Hello I am learning data science And you are also learning DS\n"
     ]
    }
   ],
   "source": [
    "print(\"Hello I am learning data science And you are also learning DS\")"
   ]
  },
  {
   "cell_type": "code",
   "execution_count": 7,
   "id": "e2136a9b",
   "metadata": {},
   "outputs": [
    {
     "name": "stdout",
     "output_type": "stream",
     "text": [
      "12 Text\n"
     ]
    }
   ],
   "source": [
    "print(12,'Text')"
   ]
  },
  {
   "cell_type": "markdown",
   "id": "f780d3b3",
   "metadata": {},
   "source": [
    "# Data:\n",
    "      ## Data Type\n",
    "          ### Number \n",
    "               - Whole Numbers (integers) >>> int\n",
    "               - Decimal Numbers (floats) >>>> float\n",
    "          ### Alphabets\n",
    "               - Text/Paragraph (string)  >>> str\n",
    "          ### Boolean\n",
    "                - True /False   (Boolean) >>> bool"
   ]
  },
  {
   "cell_type": "code",
   "execution_count": 8,
   "id": "0dac0dfd",
   "metadata": {},
   "outputs": [
    {
     "name": "stdout",
     "output_type": "stream",
     "text": [
      "Hello World\n"
     ]
    }
   ],
   "source": [
    "print(\"Hello World\")"
   ]
  },
  {
   "cell_type": "code",
   "execution_count": 9,
   "id": "92a1b9e6",
   "metadata": {},
   "outputs": [
    {
     "name": "stdout",
     "output_type": "stream",
     "text": [
      "12.4\n"
     ]
    }
   ],
   "source": [
    "print(12.4)"
   ]
  },
  {
   "cell_type": "code",
   "execution_count": 10,
   "id": "29b992d1",
   "metadata": {},
   "outputs": [
    {
     "name": "stdout",
     "output_type": "stream",
     "text": [
      "200\n"
     ]
    }
   ],
   "source": [
    "print(200)"
   ]
  },
  {
   "cell_type": "code",
   "execution_count": 11,
   "id": "baf190d2",
   "metadata": {},
   "outputs": [
    {
     "name": "stdout",
     "output_type": "stream",
     "text": [
      "True\n"
     ]
    }
   ],
   "source": [
    "print(True)"
   ]
  },
  {
   "cell_type": "code",
   "execution_count": 12,
   "id": "fd0f48c8",
   "metadata": {},
   "outputs": [
    {
     "name": "stdout",
     "output_type": "stream",
     "text": [
      "False\n"
     ]
    }
   ],
   "source": [
    "print(False)"
   ]
  },
  {
   "cell_type": "markdown",
   "id": "333a50d1",
   "metadata": {},
   "source": [
    "# A string can be:\n",
    "##      \"Hello\"\n",
    "##      'hello'\n",
    "##      ''' hello'''\n",
    "##      \"\"\"hello\"\"\""
   ]
  },
  {
   "cell_type": "code",
   "execution_count": 13,
   "id": "1a508eea",
   "metadata": {},
   "outputs": [
    {
     "ename": "SyntaxError",
     "evalue": "unterminated string literal (detected at line 1) (2967953737.py, line 1)",
     "output_type": "error",
     "traceback": [
      "\u001b[1;36m  Cell \u001b[1;32mIn[13], line 1\u001b[1;36m\u001b[0m\n\u001b[1;33m    print(\"Today is Thursday\u001b[0m\n\u001b[1;37m          ^\u001b[0m\n\u001b[1;31mSyntaxError\u001b[0m\u001b[1;31m:\u001b[0m unterminated string literal (detected at line 1)\n"
     ]
    }
   ],
   "source": [
    "print(\"Today is Thursday\n",
    "      Tomorrow will be Friday\")"
   ]
  },
  {
   "cell_type": "code",
   "execution_count": 14,
   "id": "617ffab0",
   "metadata": {},
   "outputs": [
    {
     "ename": "SyntaxError",
     "evalue": "unterminated string literal (detected at line 1) (3416862431.py, line 1)",
     "output_type": "error",
     "traceback": [
      "\u001b[1;36m  Cell \u001b[1;32mIn[14], line 1\u001b[1;36m\u001b[0m\n\u001b[1;33m    print('Today is Thursday\u001b[0m\n\u001b[1;37m          ^\u001b[0m\n\u001b[1;31mSyntaxError\u001b[0m\u001b[1;31m:\u001b[0m unterminated string literal (detected at line 1)\n"
     ]
    }
   ],
   "source": [
    "print('Today is Thursday\n",
    "      Tomorrow will be Friday')"
   ]
  },
  {
   "cell_type": "code",
   "execution_count": 15,
   "id": "d27768bf",
   "metadata": {},
   "outputs": [
    {
     "name": "stdout",
     "output_type": "stream",
     "text": [
      "Today is Thursday\n",
      "      Tomorrow will be Friday\n"
     ]
    }
   ],
   "source": [
    "print('''Today is Thursday\n",
    "      Tomorrow will be Friday''')"
   ]
  },
  {
   "cell_type": "code",
   "execution_count": 16,
   "id": "b5d42cbc",
   "metadata": {},
   "outputs": [
    {
     "name": "stdout",
     "output_type": "stream",
     "text": [
      "Today is Thursday\n",
      "      Tomorrow will be Friday\n"
     ]
    }
   ],
   "source": [
    "print(\"\"\"Today is Thursday\n",
    "      Tomorrow will be Friday\"\"\")"
   ]
  },
  {
   "cell_type": "markdown",
   "id": "1c1870ff",
   "metadata": {},
   "source": [
    "# Operators"
   ]
  },
  {
   "cell_type": "markdown",
   "id": "3176f578",
   "metadata": {},
   "source": [
    "## arithmetic operators"
   ]
  },
  {
   "cell_type": "code",
   "execution_count": 17,
   "id": "1279b97f",
   "metadata": {},
   "outputs": [
    {
     "data": {
      "text/plain": [
       "5"
      ]
     },
     "execution_count": 17,
     "metadata": {},
     "output_type": "execute_result"
    }
   ],
   "source": [
    "2+3"
   ]
  },
  {
   "cell_type": "code",
   "execution_count": 20,
   "id": "705f48df",
   "metadata": {},
   "outputs": [
    {
     "data": {
      "text/plain": [
       "1"
      ]
     },
     "execution_count": 20,
     "metadata": {},
     "output_type": "execute_result"
    }
   ],
   "source": [
    "3-2"
   ]
  },
  {
   "cell_type": "code",
   "execution_count": 18,
   "id": "fca291b7",
   "metadata": {},
   "outputs": [
    {
     "data": {
      "text/plain": [
       "15"
      ]
     },
     "execution_count": 18,
     "metadata": {},
     "output_type": "execute_result"
    }
   ],
   "source": [
    "3*5"
   ]
  },
  {
   "cell_type": "code",
   "execution_count": 19,
   "id": "1df8ede9",
   "metadata": {},
   "outputs": [
    {
     "data": {
      "text/plain": [
       "1.0"
      ]
     },
     "execution_count": 19,
     "metadata": {},
     "output_type": "execute_result"
    }
   ],
   "source": [
    "3/3 # floating divsion"
   ]
  },
  {
   "cell_type": "code",
   "execution_count": 21,
   "id": "c79c11d3",
   "metadata": {},
   "outputs": [
    {
     "data": {
      "text/plain": [
       "1"
      ]
     },
     "execution_count": 21,
     "metadata": {},
     "output_type": "execute_result"
    }
   ],
   "source": [
    "3//3  # integer divsion"
   ]
  },
  {
   "cell_type": "code",
   "execution_count": 22,
   "id": "bba180db",
   "metadata": {},
   "outputs": [
    {
     "data": {
      "text/plain": [
       "3.3333333333333335"
      ]
     },
     "execution_count": 22,
     "metadata": {},
     "output_type": "execute_result"
    }
   ],
   "source": [
    "10/3"
   ]
  },
  {
   "cell_type": "code",
   "execution_count": 24,
   "id": "f83d5ec8",
   "metadata": {},
   "outputs": [
    {
     "data": {
      "text/plain": [
       "3"
      ]
     },
     "execution_count": 24,
     "metadata": {},
     "output_type": "execute_result"
    }
   ],
   "source": [
    "10//3 # floor"
   ]
  },
  {
   "cell_type": "code",
   "execution_count": 25,
   "id": "989d8175",
   "metadata": {},
   "outputs": [
    {
     "data": {
      "text/plain": [
       "2"
      ]
     },
     "execution_count": 25,
     "metadata": {},
     "output_type": "execute_result"
    }
   ],
   "source": [
    "10%4"
   ]
  },
  {
   "cell_type": "code",
   "execution_count": 26,
   "id": "694174d7",
   "metadata": {},
   "outputs": [
    {
     "data": {
      "text/plain": [
       "9"
      ]
     },
     "execution_count": 26,
     "metadata": {},
     "output_type": "execute_result"
    }
   ],
   "source": [
    "3**2"
   ]
  },
  {
   "cell_type": "code",
   "execution_count": 27,
   "id": "bc74f2f4",
   "metadata": {},
   "outputs": [
    {
     "data": {
      "text/plain": [
       "32"
      ]
     },
     "execution_count": 27,
     "metadata": {},
     "output_type": "execute_result"
    }
   ],
   "source": [
    "2**5"
   ]
  },
  {
   "cell_type": "markdown",
   "id": "36c6b8fd",
   "metadata": {},
   "source": [
    "### comparision Operators"
   ]
  },
  {
   "cell_type": "code",
   "execution_count": 29,
   "id": "0503fd74",
   "metadata": {},
   "outputs": [
    {
     "data": {
      "text/plain": [
       "True"
      ]
     },
     "execution_count": 29,
     "metadata": {},
     "output_type": "execute_result"
    }
   ],
   "source": [
    "100>50 "
   ]
  },
  {
   "cell_type": "code",
   "execution_count": 30,
   "id": "20c0b0fc",
   "metadata": {},
   "outputs": [
    {
     "data": {
      "text/plain": [
       "False"
      ]
     },
     "execution_count": 30,
     "metadata": {},
     "output_type": "execute_result"
    }
   ],
   "source": [
    "100 < 50"
   ]
  },
  {
   "cell_type": "code",
   "execution_count": 31,
   "id": "210b7b22",
   "metadata": {},
   "outputs": [
    {
     "data": {
      "text/plain": [
       "False"
      ]
     },
     "execution_count": 31,
     "metadata": {},
     "output_type": "execute_result"
    }
   ],
   "source": [
    "100 == 50"
   ]
  },
  {
   "cell_type": "code",
   "execution_count": 32,
   "id": "344996f4",
   "metadata": {},
   "outputs": [
    {
     "data": {
      "text/plain": [
       "True"
      ]
     },
     "execution_count": 32,
     "metadata": {},
     "output_type": "execute_result"
    }
   ],
   "source": [
    "100 != 50"
   ]
  },
  {
   "cell_type": "code",
   "execution_count": 33,
   "id": "2fb34f50",
   "metadata": {},
   "outputs": [
    {
     "data": {
      "text/plain": [
       "True"
      ]
     },
     "execution_count": 33,
     "metadata": {},
     "output_type": "execute_result"
    }
   ],
   "source": [
    "100 >=90"
   ]
  },
  {
   "cell_type": "code",
   "execution_count": 34,
   "id": "bb28e09d",
   "metadata": {},
   "outputs": [
    {
     "data": {
      "text/plain": [
       "True"
      ]
     },
     "execution_count": 34,
     "metadata": {},
     "output_type": "execute_result"
    }
   ],
   "source": [
    "100>=90"
   ]
  },
  {
   "cell_type": "code",
   "execution_count": 35,
   "id": "73a54595",
   "metadata": {},
   "outputs": [
    {
     "data": {
      "text/plain": [
       "True"
      ]
     },
     "execution_count": 35,
     "metadata": {},
     "output_type": "execute_result"
    }
   ],
   "source": [
    "100<=100"
   ]
  },
  {
   "cell_type": "markdown",
   "id": "9320a720",
   "metadata": {},
   "source": [
    "# Variables\n",
    "  - data storage \n",
    "  - data containers\n",
    " "
   ]
  },
  {
   "cell_type": "markdown",
   "id": "5eb557f5",
   "metadata": {},
   "source": [
    "#### Values wihout variable are called hard coded values"
   ]
  },
  {
   "cell_type": "code",
   "execution_count": 36,
   "id": "5f0f08ab",
   "metadata": {},
   "outputs": [],
   "source": [
    "name = \"NasirHussain\"\n",
    "\n",
    "## name: varaible\n",
    "## =  operator (assignment)\n",
    "## \"NasirHussin\" (String data)\n",
    "\n",
    "# A string value (\"NasirHussain\") is assigned to a variable, name"
   ]
  },
  {
   "cell_type": "code",
   "execution_count": 38,
   "id": "c15e2e2c",
   "metadata": {},
   "outputs": [
    {
     "data": {
      "text/plain": [
       "1755516562288"
      ]
     },
     "execution_count": 38,
     "metadata": {},
     "output_type": "execute_result"
    }
   ],
   "source": [
    "id(name)"
   ]
  },
  {
   "cell_type": "code",
   "execution_count": 39,
   "id": "58141689",
   "metadata": {},
   "outputs": [
    {
     "name": "stdout",
     "output_type": "stream",
     "text": [
      "Carregue um arquivo TXT \n",
      "do seu computador ou de um serviço \n",
      "de armazenamento em nuvem, como o Google \n",
      "Drive ou Dropbox. Você também pode simplesmente arrastar e soltar o arquivo na caixa para fazer upload e converter para PDF. Ao fazer isso, seu arquivo \n",
      "será processado automaticamente. \n",
      "Nosso software começará a converter \n",
      "TXT em PDF em um instante.\n"
     ]
    }
   ],
   "source": [
    "print(\"\"\"Carregue um arquivo TXT \n",
    "do seu computador ou de um serviço \n",
    "de armazenamento em nuvem, como o Google \n",
    "Drive ou Dropbox. Você também pode simplesmente arrastar e soltar o arquivo na caixa para fazer upload e converter para PDF. Ao fazer isso, seu arquivo \n",
    "será processado automaticamente. \n",
    "Nosso software começará a converter \n",
    "TXT em PDF em um instante.\"\"\")"
   ]
  },
  {
   "cell_type": "code",
   "execution_count": 40,
   "id": "283441df",
   "metadata": {},
   "outputs": [],
   "source": [
    "text = \"\"\"\n",
    "Carregue um arquivo TXT do seu computador ou de um serviço de \n",
    "armazenamento em nuvem, como o Google Drive ou Dropbox. Você também pode \n",
    "simplesmente arrastar e soltar o arquivo na caixa para fazer upload e\n",
    "converter para PDF. Ao fazer isso, seu arquivo será processado automaticamente.\n",
    "Nosso software começará a converter TXT em PDF em um instante.\"\"\""
   ]
  },
  {
   "cell_type": "code",
   "execution_count": 41,
   "id": "01300c41",
   "metadata": {},
   "outputs": [
    {
     "name": "stdout",
     "output_type": "stream",
     "text": [
      "\n",
      "Carregue um arquivo TXT do seu computador ou de um serviço de \n",
      "armazenamento em nuvem, como o Google Drive ou Dropbox. Você também pode \n",
      "simplesmente arrastar e soltar o arquivo na caixa para fazer upload e\n",
      "converter para PDF. Ao fazer isso, seu arquivo será processado automaticamente.\n",
      "Nosso software começará a converter TXT em PDF em um instante.\n"
     ]
    }
   ],
   "source": [
    "print(text)"
   ]
  },
  {
   "cell_type": "code",
   "execution_count": 42,
   "id": "3afe391a",
   "metadata": {},
   "outputs": [
    {
     "name": "stdout",
     "output_type": "stream",
     "text": [
      "\n",
      "Carregue um arquivo TXT do seu computador ou de um serviço de \n",
      "armazenamento em nuvem, como o Google Drive ou Dropbox. Você também pode \n",
      "simplesmente arrastar e soltar o arquivo na caixa para fazer upload e\n",
      "converter para PDF. Ao fazer isso, seu arquivo será processado automaticamente.\n",
      "Nosso software começará a converter TXT em PDF em um instante.\n"
     ]
    }
   ],
   "source": [
    "print(text)"
   ]
  },
  {
   "cell_type": "code",
   "execution_count": 43,
   "id": "9dea6df6",
   "metadata": {},
   "outputs": [],
   "source": [
    "text = \"hello\""
   ]
  },
  {
   "cell_type": "code",
   "execution_count": 44,
   "id": "91a12dc2",
   "metadata": {},
   "outputs": [],
   "source": [
    "name = \"Yasir Hussain\""
   ]
  },
  {
   "cell_type": "code",
   "execution_count": 45,
   "id": "016827d2",
   "metadata": {},
   "outputs": [
    {
     "data": {
      "text/plain": [
       "'Yasir Hussain'"
      ]
     },
     "execution_count": 45,
     "metadata": {},
     "output_type": "execute_result"
    }
   ],
   "source": [
    "name"
   ]
  },
  {
   "cell_type": "code",
   "execution_count": 47,
   "id": "122df162",
   "metadata": {},
   "outputs": [],
   "source": [
    "marks = 100"
   ]
  },
  {
   "cell_type": "code",
   "execution_count": 48,
   "id": "f1b6bc7a",
   "metadata": {},
   "outputs": [
    {
     "data": {
      "text/plain": [
       "125"
      ]
     },
     "execution_count": 48,
     "metadata": {},
     "output_type": "execute_result"
    }
   ],
   "source": [
    "marks + 25"
   ]
  },
  {
   "cell_type": "code",
   "execution_count": 49,
   "id": "4ee9887a",
   "metadata": {},
   "outputs": [
    {
     "data": {
      "text/plain": [
       "100"
      ]
     },
     "execution_count": 49,
     "metadata": {},
     "output_type": "execute_result"
    }
   ],
   "source": [
    "marks"
   ]
  },
  {
   "cell_type": "code",
   "execution_count": 50,
   "id": "9b91fb87",
   "metadata": {},
   "outputs": [],
   "source": [
    "marks =  marks + 25"
   ]
  },
  {
   "cell_type": "code",
   "execution_count": 52,
   "id": "0821af0f",
   "metadata": {},
   "outputs": [
    {
     "name": "stdout",
     "output_type": "stream",
     "text": [
      "125\n"
     ]
    }
   ],
   "source": [
    "print(marks)"
   ]
  },
  {
   "cell_type": "code",
   "execution_count": 53,
   "id": "4f01a6c8",
   "metadata": {},
   "outputs": [
    {
     "data": {
      "text/plain": [
       "'Yasir Hussain'"
      ]
     },
     "execution_count": 53,
     "metadata": {},
     "output_type": "execute_result"
    }
   ],
   "source": [
    "name"
   ]
  },
  {
   "cell_type": "code",
   "execution_count": 54,
   "id": "817c7cdf",
   "metadata": {},
   "outputs": [
    {
     "name": "stdout",
     "output_type": "stream",
     "text": [
      "Yasir Hussain\n"
     ]
    }
   ],
   "source": [
    "print(name)"
   ]
  },
  {
   "cell_type": "code",
   "execution_count": 55,
   "id": "ec70b478",
   "metadata": {},
   "outputs": [
    {
     "name": "stdout",
     "output_type": "stream",
     "text": [
      "Hello\n"
     ]
    }
   ],
   "source": [
    "name\n",
    "print(\"Hello\")"
   ]
  },
  {
   "cell_type": "code",
   "execution_count": 56,
   "id": "024af4d8",
   "metadata": {},
   "outputs": [
    {
     "name": "stdout",
     "output_type": "stream",
     "text": [
      "Hello\n"
     ]
    },
    {
     "data": {
      "text/plain": [
       "'Yasir Hussain'"
      ]
     },
     "execution_count": 56,
     "metadata": {},
     "output_type": "execute_result"
    }
   ],
   "source": [
    "\n",
    "print(\"Hello\")\n",
    "name"
   ]
  },
  {
   "cell_type": "code",
   "execution_count": 59,
   "id": "abf582d7",
   "metadata": {},
   "outputs": [
    {
     "data": {
      "text/plain": [
       "125"
      ]
     },
     "execution_count": 59,
     "metadata": {},
     "output_type": "execute_result"
    }
   ],
   "source": [
    "\"Hello\"\n",
    "name\n",
    "marks"
   ]
  },
  {
   "cell_type": "code",
   "execution_count": null,
   "id": "c2532664",
   "metadata": {},
   "outputs": [],
   "source": []
  },
  {
   "cell_type": "code",
   "execution_count": 58,
   "id": "851030c2",
   "metadata": {},
   "outputs": [
    {
     "data": {
      "text/plain": [
       "'Yasir Hussain'"
      ]
     },
     "execution_count": 58,
     "metadata": {},
     "output_type": "execute_result"
    }
   ],
   "source": [
    "name"
   ]
  },
  {
   "cell_type": "markdown",
   "id": "eae9184b",
   "metadata": {},
   "source": [
    "# Valid Varaible Names"
   ]
  },
  {
   "cell_type": "code",
   "execution_count": 60,
   "id": "8d2e1c1c",
   "metadata": {},
   "outputs": [
    {
     "ename": "SyntaxError",
     "evalue": "invalid decimal literal (1967906559.py, line 2)",
     "output_type": "error",
     "traceback": [
      "\u001b[1;36m  Cell \u001b[1;32mIn[60], line 2\u001b[1;36m\u001b[0m\n\u001b[1;33m    1stStudent = \"Hassan\"\u001b[0m\n\u001b[1;37m    ^\u001b[0m\n\u001b[1;31mSyntaxError\u001b[0m\u001b[1;31m:\u001b[0m invalid decimal literal\n"
     ]
    }
   ],
   "source": [
    "#-variable name can not start from a number \n",
    "1stStudent = \"Hassan\""
   ]
  },
  {
   "cell_type": "code",
   "execution_count": 61,
   "id": "60cb3837",
   "metadata": {},
   "outputs": [
    {
     "ename": "SyntaxError",
     "evalue": "cannot assign to expression here. Maybe you meant '==' instead of '='? (1985562233.py, line 2)",
     "output_type": "error",
     "traceback": [
      "\u001b[1;36m  Cell \u001b[1;32mIn[61], line 2\u001b[1;36m\u001b[0m\n\u001b[1;33m    father-name = \"Kamal\"\u001b[0m\n\u001b[1;37m    ^\u001b[0m\n\u001b[1;31mSyntaxError\u001b[0m\u001b[1;31m:\u001b[0m cannot assign to expression here. Maybe you meant '==' instead of '='?\n"
     ]
    }
   ],
   "source": [
    "# variable cant use any special character\n",
    "father-name = \"Kamal\"\n",
    "father@name = \"Kamal\"\n",
    "father$name = \"Kamal\"\n",
    "father,&name = \"Kamal\""
   ]
  },
  {
   "attachments": {
    "image.png": {
     "image/png": "[encoded data removed]"
    }
   },
   "cell_type": "markdown",
   "id": "6ff9e871",
   "metadata": {},
   "source": [
    "# Python reserved words can not be variaBLE NAMEs\n",
    " \n",
    "![image.png](attachment:image.png)"
   ]
  },
  {
   "cell_type": "code",
   "execution_count": 62,
   "id": "d844803a",
   "metadata": {},
   "outputs": [],
   "source": [
    "marks1 = 78\n",
    "marks2 = 67"
   ]
  },
  {
   "cell_type": "code",
   "execution_count": 63,
   "id": "ab0c61e7",
   "metadata": {},
   "outputs": [
    {
     "name": "stdout",
     "output_type": "stream",
     "text": [
      "145\n"
     ]
    }
   ],
   "source": [
    "print(marks1+marks2)"
   ]
  },
  {
   "cell_type": "code",
   "execution_count": 64,
   "id": "8bcb18e2",
   "metadata": {},
   "outputs": [],
   "source": [
    "age  = 50\n",
    "weight = 75.4\n",
    "name  = \"Nasir Hussian\""
   ]
  },
  {
   "cell_type": "code",
   "execution_count": 65,
   "id": "e33bdb2d",
   "metadata": {},
   "outputs": [
    {
     "data": {
      "text/plain": [
       "int"
      ]
     },
     "execution_count": 65,
     "metadata": {},
     "output_type": "execute_result"
    }
   ],
   "source": [
    "type(age)"
   ]
  },
  {
   "cell_type": "code",
   "execution_count": 66,
   "id": "c3adf90c",
   "metadata": {},
   "outputs": [
    {
     "data": {
      "text/plain": [
       "float"
      ]
     },
     "execution_count": 66,
     "metadata": {},
     "output_type": "execute_result"
    }
   ],
   "source": [
    "type(weight)"
   ]
  },
  {
   "cell_type": "code",
   "execution_count": 67,
   "id": "455ecd9a",
   "metadata": {},
   "outputs": [
    {
     "data": {
      "text/plain": [
       "str"
      ]
     },
     "execution_count": 67,
     "metadata": {},
     "output_type": "execute_result"
    }
   ],
   "source": [
    "type(name)"
   ]
  },
  {
   "cell_type": "code",
   "execution_count": null,
   "id": "0a3e7f63",
   "metadata": {},
   "outputs": [],
   "source": []
  }
 ],
 "metadata": {
  "kernelspec": {
   "display_name": "Python 3 (ipykernel)",
   "language": "python",
   "name": "python3"
  },
  "language_info": {
   "codemirror_mode": {
    "name": "ipython",
    "version": 3
   },
   "file_extension": ".py",
   "mimetype": "text/x-python",
   "name": "python",
   "nbconvert_exporter": "python",
   "pygments_lexer": "ipython3",
   "version": "3.11.5"
  }
 },
 "nbformat": 4,
 "nbformat_minor": 5
}
