{
 "cells": [
  {
   "cell_type": "code",
   "execution_count": 12,
   "id": "66dce0d2-7067-42e0-a5bd-933e744010a6",
   "metadata": {},
   "outputs": [],
   "source": [
    "text = \"This is python class. Python is good\""
   ]
  },
  {
   "cell_type": "code",
   "execution_count": 14,
   "id": "333643a6-3116-4b6e-bca8-d5782073b68b",
   "metadata": {},
   "outputs": [],
   "source": [
    "sentences = text.split()"
   ]
  },
  {
   "cell_type": "code",
   "execution_count": 15,
   "id": "69b59d85-851c-4b42-83b0-b70a69661761",
   "metadata": {},
   "outputs": [
    {
     "data": {
      "text/plain": [
       "['This', 'is', 'python', 'class.', 'Python', 'is', 'good']"
      ]
     },
     "execution_count": 15,
     "metadata": {},
     "output_type": "execute_result"
    }
   ],
   "source": [
    "sentences"
   ]
  },
  {
   "cell_type": "code",
   "execution_count": 16,
   "id": "a438097a-99cd-4262-a3fb-9aed684c6bc5",
   "metadata": {},
   "outputs": [
    {
     "data": {
      "text/plain": [
       "'This-is-python-class.-Python-is-good'"
      ]
     },
     "execution_count": 16,
     "metadata": {},
     "output_type": "execute_result"
    }
   ],
   "source": [
    "\"-\".join(sentences)"
   ]
  },
  {
   "cell_type": "code",
   "execution_count": 17,
   "id": "be422fb3-b5e5-43fc-8c1a-7671e9b80477",
   "metadata": {},
   "outputs": [
    {
     "data": {
      "text/plain": [
       "'This is python class. Python is good'"
      ]
     },
     "execution_count": 17,
     "metadata": {},
     "output_type": "execute_result"
    }
   ],
   "source": [
    "\" \".join(sentences)"
   ]
  },
  {
   "cell_type": "markdown",
   "id": "366cfeef-8845-4db9-898a-33fb6a6da37f",
   "metadata": {},
   "source": [
    "# File Handling "
   ]
  },
  {
   "cell_type": "code",
   "execution_count": 3,
   "id": "9acb66d3-1ab1-4baa-9814-34c3ae371117",
   "metadata": {},
   "outputs": [],
   "source": [
    "f = open('textfile.txt')"
   ]
  },
  {
   "cell_type": "code",
   "execution_count": 4,
   "id": "aa97d2dc-0752-4425-ab7d-6bf1bb5c89ae",
   "metadata": {},
   "outputs": [
    {
     "name": "stdout",
     "output_type": "stream",
     "text": [
      "Make sure you trust Google Drive for desktop\n",
      "Review Google Drive for desktop's Privacy Policy and Terms of Service to understand how Google Drive for desktop will process and protect your data.\n",
      "To make changes at any time, go to your Google Account.\n",
      "Learn how Google helps you share data safely.\n"
     ]
    }
   ],
   "source": [
    "print(f.read())"
   ]
  },
  {
   "cell_type": "code",
   "execution_count": 24,
   "id": "feece79e-dcb0-4703-bee6-3d556b916d21",
   "metadata": {},
   "outputs": [],
   "source": [
    "language = \"Python\"\n",
    "st = [1,2,3,4,5,6]"
   ]
  },
  {
   "cell_type": "code",
   "execution_count": 25,
   "id": "c617af64-6562-42ef-81c1-452dbf1b0cd4",
   "metadata": {},
   "outputs": [
    {
     "data": {
      "text/plain": [
       "'Python'"
      ]
     },
     "execution_count": 25,
     "metadata": {},
     "output_type": "execute_result"
    }
   ],
   "source": [
    "language"
   ]
  },
  {
   "cell_type": "code",
   "execution_count": 26,
   "id": "aefac772-80a8-42e8-bcc0-44cf70212e44",
   "metadata": {},
   "outputs": [
    {
     "data": {
      "text/plain": [
       "[1, 2, 3, 4, 5, 6]"
      ]
     },
     "execution_count": 26,
     "metadata": {},
     "output_type": "execute_result"
    }
   ],
   "source": [
    "st"
   ]
  },
  {
   "cell_type": "code",
   "execution_count": 27,
   "id": "23368438-5098-4e8e-9f01-6ffe8c0e9821",
   "metadata": {},
   "outputs": [
    {
     "data": {
      "text/plain": [
       "'Python'"
      ]
     },
     "execution_count": 27,
     "metadata": {},
     "output_type": "execute_result"
    }
   ],
   "source": [
    "language"
   ]
  },
  {
   "cell_type": "code",
   "execution_count": 1,
   "id": "afead7ed-cc48-4d26-8439-2e166fcce651",
   "metadata": {},
   "outputs": [
    {
     "ename": "NameError",
     "evalue": "name 'language' is not defined",
     "output_type": "error",
     "traceback": [
      "\u001b[1;31m---------------------------------------------------------------------------\u001b[0m",
      "\u001b[1;31mNameError\u001b[0m                                 Traceback (most recent call last)",
      "Cell \u001b[1;32mIn[1], line 1\u001b[0m\n\u001b[1;32m----> 1\u001b[0m language\n",
      "\u001b[1;31mNameError\u001b[0m: name 'language' is not defined"
     ]
    }
   ],
   "source": [
    "language"
   ]
  },
  {
   "cell_type": "code",
   "execution_count": 5,
   "id": "96c1ad61-1cab-4fba-91d9-4d2a9a52c04c",
   "metadata": {},
   "outputs": [
    {
     "data": {
      "text/plain": [
       "5"
      ]
     },
     "execution_count": 5,
     "metadata": {},
     "output_type": "execute_result"
    }
   ],
   "source": [
    "wf = open(\"textfile.txt\",'w')\n",
    "wf.write(\"Hello\")\n"
   ]
  },
  {
   "cell_type": "markdown",
   "id": "a0cc28e6-a030-4889-b858-231702be038c",
   "metadata": {},
   "source": [
    "#### Context Manager "
   ]
  },
  {
   "cell_type": "code",
   "execution_count": 14,
   "id": "ac88d1a9-2874-4bc6-b71b-d54e54c9eb00",
   "metadata": {},
   "outputs": [],
   "source": [
    "with open(\"myfile\",'w') as f:\n",
    "    f.write(\"Learn how Google helps you share data safely.\\n\")\n",
    "    f.write(\"This is my file\\n\")\n",
    "    f.write(\"Hello\")\n"
   ]
  },
  {
   "cell_type": "code",
   "execution_count": 9,
   "id": "edafa50d-658e-4833-b516-bf085322501c",
   "metadata": {},
   "outputs": [],
   "source": [
    "f = open('yourfile.txt', \"w\")\n",
    "f.write(\"This is yourfile\")\n",
    "f.close()"
   ]
  },
  {
   "cell_type": "code",
   "execution_count": 10,
   "id": "610410a0-dad8-4208-8a3d-6161a9137367",
   "metadata": {},
   "outputs": [
    {
     "data": {
      "text/plain": [
       "16"
      ]
     },
     "execution_count": 10,
     "metadata": {},
     "output_type": "execute_result"
    }
   ],
   "source": [
    "f = open(\"yourfile.txt\", 'w')\n",
    "f.write(\"This is new file\")"
   ]
  },
  {
   "cell_type": "code",
   "execution_count": 11,
   "id": "a5eb9247-5549-4671-b888-4348c6b9dbf2",
   "metadata": {},
   "outputs": [
    {
     "data": {
      "text/plain": [
       "10"
      ]
     },
     "execution_count": 11,
     "metadata": {},
     "output_type": "execute_result"
    }
   ],
   "source": [
    "f.write(\"Hello Hru?\")"
   ]
  },
  {
   "cell_type": "code",
   "execution_count": 12,
   "id": "f197754f-605e-4bf5-8e65-485870b7ea95",
   "metadata": {},
   "outputs": [],
   "source": [
    "f.close()"
   ]
  },
  {
   "cell_type": "code",
   "execution_count": 19,
   "id": "90998d33-900e-4c59-a2e1-27bc4f5a26ff",
   "metadata": {},
   "outputs": [],
   "source": [
    "with open(\"myfile\",'w') as f:\n",
    "    f.writelines([\"Signature: f.writelines(lines, / \\n)\",\n",
    "                    \"Docstring:\\n\",\n",
    "                    \"Write a list of lines to stream.\\n\",\n",
    "\n",
    "                    \"Line separators are not added, so it is usual for each of the \\n\",\n",
    "                    \"lines provided to have a line separator at the end.\\n\",\n",
    "                    \"Type:      builtin_function_or_method\\n\"])\n",
    "\n"
   ]
  },
  {
   "cell_type": "code",
   "execution_count": 16,
   "id": "81f69179-f17f-48d5-8360-0e2d422a7112",
   "metadata": {},
   "outputs": [
    {
     "name": "stdin",
     "output_type": "stream",
     "text": [
      "Enter comma serparated numbers 1,2,3,4,5,6,7,8,9\n"
     ]
    }
   ],
   "source": [
    "lst = input(\"Enter comma serparated numbers\").split(\",\")"
   ]
  },
  {
   "cell_type": "code",
   "execution_count": 17,
   "id": "b44ab47b-b391-45a7-be6e-0b6a265f4adc",
   "metadata": {},
   "outputs": [
    {
     "data": {
      "text/plain": [
       "['1', '2', '3', '4', '5', '6', '7', '8', '9']"
      ]
     },
     "execution_count": 17,
     "metadata": {},
     "output_type": "execute_result"
    }
   ],
   "source": [
    "lst"
   ]
  },
  {
   "cell_type": "code",
   "execution_count": 22,
   "id": "7356f299-2715-4dae-9425-25a23772433a",
   "metadata": {},
   "outputs": [
    {
     "name": "stdout",
     "output_type": "stream",
     "text": [
      "Signature: f.writelines(lines, / \n",
      ")Docstring:\n",
      "Write a list of lines to stream.\n",
      "Line separators are not added, so it is usual for each of the \n",
      "lines provided to have a line separator at the end.\n",
      "Type:      builtin_function_or_method\n",
      "\n"
     ]
    }
   ],
   "source": [
    "with open(\"myfile\", \"r\") as f:\n",
    "    content = f.read()\n",
    "    print(content)"
   ]
  },
  {
   "cell_type": "code",
   "execution_count": 23,
   "id": "be49ce81-81ef-4a9e-8ea0-a713cb511c21",
   "metadata": {},
   "outputs": [],
   "source": [
    "with open(\"myfile\", \"a\") as f:\n",
    "    f.write(\"Hello \\n\")\n",
    "    f.write(\"Python file\")"
   ]
  },
  {
   "cell_type": "code",
   "execution_count": 24,
   "id": "0f7f3452-33bd-44bd-8d4f-08c130aa8ce0",
   "metadata": {},
   "outputs": [
    {
     "name": "stdout",
     "output_type": "stream",
     "text": [
      "Signature: f.writelines(lines, / \n",
      ")Docstring:\n",
      "Write a list of lines to stream.\n",
      "Line separators are not added, so it is usual for each of the \n",
      "lines provided to have a line separator at the end.\n",
      "Type:      builtin_function_or_method\n",
      "Hello \n",
      "Python file\n"
     ]
    }
   ],
   "source": [
    "with open(\"myfile\", \"r\") as f:\n",
    "    content = f.read()\n",
    "    \n",
    "    print(content)"
   ]
  },
  {
   "cell_type": "code",
   "execution_count": 25,
   "id": "2089de28-6649-45a7-90f4-e95d108399a7",
   "metadata": {},
   "outputs": [
    {
     "name": "stdout",
     "output_type": "stream",
     "text": [
      "Signature: f.writelines(lines, / \n",
      "\n"
     ]
    }
   ],
   "source": [
    "with open(\"myfile\", \"r\") as f:\n",
    "    print(f.readline())"
   ]
  },
  {
   "cell_type": "code",
   "execution_count": 26,
   "id": "d962f7e0-daeb-4bbf-a729-8a9551ca1be3",
   "metadata": {},
   "outputs": [
    {
     "name": "stdout",
     "output_type": "stream",
     "text": [
      "['Signature: f.writelines(lines, / \\n', ')Docstring:\\n', 'Write a list of lines to stream.\\n', 'Line separators are not added, so it is usual for each of the \\n', 'lines provided to have a line separator at the end.\\n', 'Type:      builtin_function_or_method\\n', 'Hello \\n', 'Python file']\n"
     ]
    }
   ],
   "source": [
    "with open(\"myfile\", \"r\") as f:\n",
    "    print(f.readlines())"
   ]
  },
  {
   "cell_type": "code",
   "execution_count": 32,
   "id": "f63ba3ec-bfe8-4448-89be-909989d823ca",
   "metadata": {},
   "outputs": [
    {
     "name": "stdout",
     "output_type": "stream",
     "text": [
      "Signature: f.writelines(lines, / \n",
      ")Docstring:\n",
      "Write a list of lines to stream.\n",
      "Line separators are not added, so it is usual for each of the \n",
      "lines provided to have a line separator at the end.\n",
      "Type:      builtin_function_or_method\n",
      "Hello \n",
      "Python file"
     ]
    }
   ],
   "source": [
    "with open(\"myfile\", \"r\") as f:\n",
    "    for line in f:\n",
    "        print(line )"
   ]
  },
  {
   "cell_type": "code",
   "execution_count": 31,
   "id": "ab4bca1f-358f-41a2-8910-1fedebc9cb8a",
   "metadata": {},
   "outputs": [
    {
     "name": "stdout",
     "output_type": "stream",
     "text": [
      "File Written.......\n",
      "Functions are a block of code that runs when they are called\n",
      "File Read....\n"
     ]
    }
   ],
   "source": [
    "try:        \n",
    "    with open(\"functions.txt\", \"w+\") as f:\n",
    "        f.write(\"Functions are a block of code that runs when they are called\")\n",
    "        print(\"File Written.......\")\n",
    "        f.seek(0)\n",
    "        print(f.read())\n",
    "        print(\"File Read....\") \n",
    "except FileNotFoundError:\n",
    "    print(\"The file you are looking for is not exist in this directory\")"
   ]
  },
  {
   "cell_type": "code",
   "execution_count": 33,
   "id": "e31e3ba5-1bca-4b36-b98d-802f47cd8b83",
   "metadata": {},
   "outputs": [],
   "source": [
    "import random"
   ]
  },
  {
   "cell_type": "code",
   "execution_count": 41,
   "id": "41467158-66f3-4bef-9586-b22a5bc8539b",
   "metadata": {},
   "outputs": [],
   "source": [
    "def lottery(lucky_number):\n",
    "    num = random.randint(1,10)\n",
    "    if num == lucky_number:\n",
    "        return \"You Win\", num\n",
    "    else:\n",
    "        return \"Try Again\", num"
   ]
  },
  {
   "cell_type": "code",
   "execution_count": 42,
   "id": "b27107cb-66be-47f3-b89c-76cec6ac8b86",
   "metadata": {},
   "outputs": [
    {
     "data": {
      "text/plain": [
       "('Try Again', 6)"
      ]
     },
     "execution_count": 42,
     "metadata": {},
     "output_type": "execute_result"
    }
   ],
   "source": [
    "lottery(4)"
   ]
  },
  {
   "cell_type": "code",
   "execution_count": 37,
   "id": "59f90089-8b9c-40ef-85d2-d8804e86285d",
   "metadata": {},
   "outputs": [
    {
     "data": {
      "text/plain": [
       "'Try Again'"
      ]
     },
     "execution_count": 37,
     "metadata": {},
     "output_type": "execute_result"
    }
   ],
   "source": [
    "lottery(6)"
   ]
  },
  {
   "cell_type": "code",
   "execution_count": 38,
   "id": "a49e42b4-034e-44b1-990f-df6b3d73783a",
   "metadata": {},
   "outputs": [
    {
     "data": {
      "text/plain": [
       "'Try Again'"
      ]
     },
     "execution_count": 38,
     "metadata": {},
     "output_type": "execute_result"
    }
   ],
   "source": [
    "lottery(9)"
   ]
  },
  {
   "cell_type": "code",
   "execution_count": 44,
   "id": "3217f089-a796-4118-957e-8a1c69e2d754",
   "metadata": {},
   "outputs": [
    {
     "name": "stdout",
     "output_type": "stream",
     "text": [
      "('Try Again', 9), MyGuess 4 \n",
      "('Try Again', 5), MyGuess 3 \n",
      "('Try Again', 4), MyGuess 10 \n",
      "('Try Again', 3), MyGuess 2 \n",
      "('Try Again', 3), MyGuess 8 \n",
      "('Try Again', 9), MyGuess 3 \n",
      "('Try Again', 5), MyGuess 3 \n",
      "('Try Again', 5), MyGuess 2 \n",
      "('Try Again', 5), MyGuess 3 \n",
      "('Try Again', 3), MyGuess 2 \n",
      "('Try Again', 3), MyGuess 7 \n",
      "('You Win', 3), MyGuess 3 \n",
      "('Try Again', 1), MyGuess 5 \n",
      "('Try Again', 2), MyGuess 1 \n",
      "('Try Again', 2), MyGuess 9 \n",
      "('Try Again', 9), MyGuess 8 \n",
      "('Try Again', 4), MyGuess 3 \n",
      "('Try Again', 3), MyGuess 4 \n",
      "('Try Again', 4), MyGuess 7 \n",
      "('Try Again', 6), MyGuess 9 \n",
      "('Try Again', 8), MyGuess 5 \n",
      "('Try Again', 4), MyGuess 2 \n",
      "('Try Again', 2), MyGuess 8 \n",
      "('Try Again', 7), MyGuess 3 \n",
      "('Try Again', 4), MyGuess 9 \n",
      "('Try Again', 5), MyGuess 2 \n",
      "('Try Again', 7), MyGuess 6 \n",
      "('Try Again', 7), MyGuess 2 \n",
      "('Try Again', 10), MyGuess 6 \n",
      "('Try Again', 1), MyGuess 7 \n",
      "('Try Again', 5), MyGuess 9 \n",
      "('Try Again', 2), MyGuess 7 \n",
      "('Try Again', 6), MyGuess 5 \n",
      "('Try Again', 9), MyGuess 6 \n",
      "('Try Again', 9), MyGuess 6 \n",
      "('Try Again', 2), MyGuess 3 \n",
      "('Try Again', 1), MyGuess 10 \n",
      "('Try Again', 6), MyGuess 8 \n",
      "('Try Again', 5), MyGuess 7 \n",
      "('Try Again', 1), MyGuess 8 \n",
      "('Try Again', 3), MyGuess 4 \n",
      "('Try Again', 3), MyGuess 1 \n",
      "('Try Again', 5), MyGuess 3 \n",
      "('Try Again', 8), MyGuess 1 \n",
      "('You Win', 5), MyGuess 5 \n",
      "('You Win', 7), MyGuess 7 \n",
      "('Try Again', 7), MyGuess 9 \n",
      "('Try Again', 8), MyGuess 1 \n",
      "('Try Again', 10), MyGuess 8 \n",
      "('Try Again', 8), MyGuess 5 \n"
     ]
    }
   ],
   "source": [
    "for a in range(50):\n",
    "    mynum = random.randint(1,10)\n",
    "    print(f\"{lottery(mynum)}, MyGuess {mynum} \")"
   ]
  },
  {
   "cell_type": "code",
   "execution_count": null,
   "id": "323f2eac-a61e-4f81-b0fd-d49adda74d9c",
   "metadata": {},
   "outputs": [],
   "source": []
  }
 ],
 "metadata": {
  "kernelspec": {
   "display_name": "Python 3 (ipykernel)",
   "language": "python",
   "name": "python3"
  },
  "language_info": {
   "codemirror_mode": {
    "name": "ipython",
    "version": 3
   },
   "file_extension": ".py",
   "mimetype": "text/x-python",
   "name": "python",
   "nbconvert_exporter": "python",
   "pygments_lexer": "ipython3",
   "version": "3.12.7"
  }
 },
 "nbformat": 4,
 "nbformat_minor": 5
}
