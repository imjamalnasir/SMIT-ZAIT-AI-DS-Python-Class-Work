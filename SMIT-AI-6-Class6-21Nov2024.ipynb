{
 "cells": [
  {
   "cell_type": "markdown",
   "id": "ced40175-f287-4ce0-880f-eb06b976bb9f",
   "metadata": {},
   "source": [
    "# List in Dictionary\n",
    "# Dictionary in List\n",
    "# Dictionary in Dictionary"
   ]
  },
  {
   "cell_type": "code",
   "execution_count": 3,
   "id": "80f11458-835b-4613-a757-ce9b29b1fd06",
   "metadata": {},
   "outputs": [],
   "source": [
    "# List in dictioanry\n",
    "result = {'roll':[1,2,3,4,5,6,7,8,9,10],\n",
    "          'name':['Ali','Saad','Umer','Hassan','Bilal','Ahmed','Faiz','Jami','Saad','Waqas'],\n",
    "          'Course':['Python', 'Stats', 'ML', 'AI','Python', 'Stats', 'ML', 'AI', 'AI', 'Python'],\n",
    "          'Marks':[78,68,98,87,90,98,97,67,56,76]}"
   ]
  },
  {
   "cell_type": "code",
   "execution_count": 11,
   "id": "9822fd53-3e60-43e6-a23f-9f2559a80364",
   "metadata": {},
   "outputs": [
    {
     "data": {
      "text/plain": [
       "'d'"
      ]
     },
     "execution_count": 11,
     "metadata": {},
     "output_type": "execute_result"
    }
   ],
   "source": [
    "result['name'][5]"
   ]
  },
  {
   "cell_type": "code",
   "execution_count": 13,
   "id": "dac8e94e-cd27-4d4a-a879-ddb5c2004567",
   "metadata": {},
   "outputs": [
    {
     "data": {
      "text/plain": [
       "[98, 87, 90]"
      ]
     },
     "execution_count": 13,
     "metadata": {},
     "output_type": "execute_result"
    }
   ],
   "source": [
    "result['Marks'][2:5]"
   ]
  },
  {
   "cell_type": "code",
   "execution_count": 15,
   "id": "57e546f3-d81a-4336-8d0a-09fe5fbd5e99",
   "metadata": {},
   "outputs": [],
   "source": [
    "# Dictonary in Dictionary\n",
    "dic_in_dic = {\n",
    "              'student1':{'name':'Nasir', 'roll':123, 'course':'Python'},\n",
    "              'student2':{'name':'Yasir', 'roll':124, 'course':'Python'},\n",
    "              'student3':{'name':'Yasin', 'roll':125, 'course':'Python'}\n",
    "             }"
   ]
  },
  {
   "cell_type": "code",
   "execution_count": 17,
   "id": "73a94cda-a8ad-4f03-abb3-f04dad00f64b",
   "metadata": {},
   "outputs": [
    {
     "data": {
      "text/plain": [
       "'Yasir'"
      ]
     },
     "execution_count": 17,
     "metadata": {},
     "output_type": "execute_result"
    }
   ],
   "source": [
    "dic_in_dic['student2']['name']"
   ]
  },
  {
   "cell_type": "code",
   "execution_count": 19,
   "id": "81d4b66e-7f9c-450f-8647-ef7dcbd5c54c",
   "metadata": {},
   "outputs": [
    {
     "data": {
      "text/plain": [
       "'Python'"
      ]
     },
     "execution_count": 19,
     "metadata": {},
     "output_type": "execute_result"
    }
   ],
   "source": [
    "dic_in_dic['student3']['course']"
   ]
  },
  {
   "cell_type": "markdown",
   "id": "693521f7-e1b2-4c9a-9056-d9b625dc6ec7",
   "metadata": {},
   "source": [
    "# Tuple\n",
    "   - immutable\n",
    "   - iterable\n",
    "   - (v1, v2,v3)"
   ]
  },
  {
   "cell_type": "code",
   "execution_count": 23,
   "id": "89b77268-f194-45f2-bc29-26c3f120363e",
   "metadata": {},
   "outputs": [
    {
     "name": "stdout",
     "output_type": "stream",
     "text": [
      "<class 'tuple'>\n"
     ]
    }
   ],
   "source": [
    "# empty \n",
    "atuple = ()\n",
    "print(type(atuple))"
   ]
  },
  {
   "cell_type": "code",
   "execution_count": 25,
   "id": "7f7db34c-90ef-477c-b832-fbbd329b05fe",
   "metadata": {},
   "outputs": [
    {
     "data": {
      "text/plain": [
       "0"
      ]
     },
     "execution_count": 25,
     "metadata": {},
     "output_type": "execute_result"
    }
   ],
   "source": [
    "len(atuple)"
   ]
  },
  {
   "cell_type": "code",
   "execution_count": 27,
   "id": "cdb664e1-b897-4b58-a672-2dfb413ca90f",
   "metadata": {},
   "outputs": [],
   "source": [
    "btuple = (11,22,33,44,55)"
   ]
  },
  {
   "cell_type": "code",
   "execution_count": 29,
   "id": "e13e4514-4670-413d-b0b8-12ea280d19fc",
   "metadata": {},
   "outputs": [
    {
     "data": {
      "text/plain": [
       "44"
      ]
     },
     "execution_count": 29,
     "metadata": {},
     "output_type": "execute_result"
    }
   ],
   "source": [
    "btuple[3]"
   ]
  },
  {
   "cell_type": "code",
   "execution_count": 31,
   "id": "3a763aaa-4da0-434f-bb3e-53046fcf4449",
   "metadata": {},
   "outputs": [
    {
     "ename": "TypeError",
     "evalue": "'tuple' object does not support item assignment",
     "output_type": "error",
     "traceback": [
      "\u001b[1;31m---------------------------------------------------------------------------\u001b[0m",
      "\u001b[1;31mTypeError\u001b[0m                                 Traceback (most recent call last)",
      "Cell \u001b[1;32mIn[31], line 1\u001b[0m\n\u001b[1;32m----> 1\u001b[0m btuple[\u001b[38;5;241m3\u001b[39m] \u001b[38;5;241m=\u001b[39m \u001b[38;5;241m30\u001b[39m\n",
      "\u001b[1;31mTypeError\u001b[0m: 'tuple' object does not support item assignment"
     ]
    }
   ],
   "source": [
    "btuple[3] = 30"
   ]
  },
  {
   "cell_type": "code",
   "execution_count": 33,
   "id": "7cee026d-c88e-4eee-a6b6-a5a157148aae",
   "metadata": {},
   "outputs": [
    {
     "ename": "TypeError",
     "evalue": "'tuple' object doesn't support item deletion",
     "output_type": "error",
     "traceback": [
      "\u001b[1;31m---------------------------------------------------------------------------\u001b[0m",
      "\u001b[1;31mTypeError\u001b[0m                                 Traceback (most recent call last)",
      "Cell \u001b[1;32mIn[33], line 1\u001b[0m\n\u001b[1;32m----> 1\u001b[0m \u001b[38;5;28;01mdel\u001b[39;00m btuple[\u001b[38;5;241m3\u001b[39m]\n",
      "\u001b[1;31mTypeError\u001b[0m: 'tuple' object doesn't support item deletion"
     ]
    }
   ],
   "source": [
    "del btuple[3]"
   ]
  },
  {
   "cell_type": "code",
   "execution_count": 41,
   "id": "95ae907f-9462-4187-aa95-3add8b66c7c8",
   "metadata": {},
   "outputs": [
    {
     "name": "stdout",
     "output_type": "stream",
     "text": [
      "<class 'int'>\n"
     ]
    }
   ],
   "source": [
    "ctuple = (23)\n",
    "print(type(ctuple))"
   ]
  },
  {
   "cell_type": "code",
   "execution_count": 39,
   "id": "833c615a-1011-48f3-a678-8326b35f464b",
   "metadata": {},
   "outputs": [
    {
     "name": "stdout",
     "output_type": "stream",
     "text": [
      "<class 'tuple'>\n"
     ]
    }
   ],
   "source": [
    "ctuple = (23,)\n",
    "print(type(ctuple))"
   ]
  },
  {
   "cell_type": "markdown",
   "id": "7aa5e5f7-b3ee-4609-ac5b-706d03849ee7",
   "metadata": {},
   "source": [
    "# Set\n",
    "      - immutable\n",
    "      - {}"
   ]
  },
  {
   "cell_type": "code",
   "execution_count": 46,
   "id": "ef95b662-190f-4d7c-b0be-19436f370c68",
   "metadata": {},
   "outputs": [
    {
     "data": {
      "text/plain": [
       "dict"
      ]
     },
     "execution_count": 46,
     "metadata": {},
     "output_type": "execute_result"
    }
   ],
   "source": [
    "aset = {}\n",
    "type(aset)"
   ]
  },
  {
   "cell_type": "code",
   "execution_count": 52,
   "id": "fd5766c7-fd14-4fd4-9d11-14e0b91a1f3b",
   "metadata": {},
   "outputs": [
    {
     "data": {
      "text/plain": [
       "{1, 2, 3, 4, 5, 6}"
      ]
     },
     "execution_count": 52,
     "metadata": {},
     "output_type": "execute_result"
    }
   ],
   "source": [
    "set([1,2,3,4,5,6])"
   ]
  },
  {
   "cell_type": "code",
   "execution_count": 54,
   "id": "2da9d919-3ebd-4ef8-a7af-c7818263ebaa",
   "metadata": {},
   "outputs": [
    {
     "data": {
      "text/plain": [
       "(1, 2, 3, 4, 5, 6)"
      ]
     },
     "execution_count": 54,
     "metadata": {},
     "output_type": "execute_result"
    }
   ],
   "source": [
    "tuple([1,2,3,4,5,6])"
   ]
  },
  {
   "cell_type": "code",
   "execution_count": 65,
   "id": "bab59c7a-cf6a-4905-9916-7400afcabb61",
   "metadata": {},
   "outputs": [],
   "source": [
    "aset = set([1,2,3,4,5])"
   ]
  },
  {
   "cell_type": "code",
   "execution_count": 60,
   "id": "63e031ca-a5ad-4215-8db3-34237b9f21e7",
   "metadata": {},
   "outputs": [
    {
     "data": {
      "text/plain": [
       "('mango', 'banana')"
      ]
     },
     "execution_count": 60,
     "metadata": {},
     "output_type": "execute_result"
    }
   ],
   "source": [
    "fruits = 'mango','banana'\n",
    "fruits"
   ]
  },
  {
   "cell_type": "code",
   "execution_count": 67,
   "id": "c6d2deb0-18af-4aae-a2b8-fcb03f63fd88",
   "metadata": {},
   "outputs": [],
   "source": [
    "aset = {1,2,3,4,4,5,6,7,6,7,8,9}"
   ]
  },
  {
   "cell_type": "markdown",
   "id": "8e5f63bc-110f-4541-a1ac-2f41ad071f1f",
   "metadata": {},
   "source": [
    "# Conditional Statemts / if statement / if clause \n",
    "     - if \n",
    "     - if else\n",
    "     - multiple conditions \n",
    "     - nested condition"
   ]
  },
  {
   "cell_type": "code",
   "execution_count": 75,
   "id": "76a28054-24f3-44a6-bfa1-439d2844abf9",
   "metadata": {},
   "outputs": [
    {
     "name": "stdin",
     "output_type": "stream",
     "text": [
      "what is the price per kg?  50\n"
     ]
    },
    {
     "name": "stdout",
     "output_type": "stream",
     "text": [
      "2Kg dedo\n"
     ]
    }
   ],
   "source": [
    "tomato_price  = int(input(\"what is the price per kg? \"))\n",
    "if tomato_price > 100:\n",
    "    print('1 Kg dedo')\n",
    "else:\n",
    "    print(\"2Kg dedo\")    "
   ]
  },
  {
   "cell_type": "code",
   "execution_count": 85,
   "id": "a73d6e1d-cdfa-4ec9-9657-e665ca3e92e5",
   "metadata": {},
   "outputs": [
    {
     "name": "stdin",
     "output_type": "stream",
     "text": [
      "Tell me your age:  34\n"
     ]
    },
    {
     "name": "stdout",
     "output_type": "stream",
     "text": [
      "Vote dal sakte hen\n",
      "NIC ban sakta hy \n",
      "Driving license\n",
      "Shadi hosakti hy\n",
      "Account open kar sakte hen\n"
     ]
    }
   ],
   "source": [
    "age  = float(input(\"Tell me your age: \"))\n",
    "if age >=18:\n",
    "    print('Vote dal sakte hen')\n",
    "    print(\"NIC ban sakta hy \")\n",
    "    print(\"Driving license\")\n",
    "    print(\"Shadi hosakti hy\")\n",
    "    print(\"Account open kar sakte hen\")\n",
    "else:\n",
    "    print(\"Tien tien fish.......\")\n",
    "    print(\"Moye moye...\")"
   ]
  },
  {
   "cell_type": "code",
   "execution_count": 89,
   "id": "62b14102-d992-492d-aebf-599b60efc815",
   "metadata": {},
   "outputs": [
    {
     "name": "stdin",
     "output_type": "stream",
     "text": [
      "Enter your marks:  34\n"
     ]
    },
    {
     "name": "stdout",
     "output_type": "stream",
     "text": [
      "Fail\n"
     ]
    }
   ],
   "source": [
    "marks = float(input(\"Enter your marks: \"))\n",
    "if marks >=50:\n",
    "    print(\"Pass\")\n",
    "else:\n",
    "    print(\"Fail\")"
   ]
  },
  {
   "cell_type": "markdown",
   "id": "f147cd0d-2cc5-467d-b681-e6a60e0c598a",
   "metadata": {},
   "source": [
    "# Membership Check Operator: in\n",
    "# Identity Check Operator : is"
   ]
  },
  {
   "cell_type": "code",
   "execution_count": 118,
   "id": "281f5ef1-7142-438c-83d2-a945f63b77e2",
   "metadata": {},
   "outputs": [],
   "source": [
    "guest_list = ['ali','hassan', 'rashid', 'kamran', 'faisal', 'ahmed', 'ashraf']"
   ]
  },
  {
   "cell_type": "code",
   "execution_count": 114,
   "id": "46c78dea-693d-44a6-a58f-ed119669f905",
   "metadata": {},
   "outputs": [
    {
     "name": "stdin",
     "output_type": "stream",
     "text": [
      "Please tell me your name:  RASHID\n"
     ]
    },
    {
     "name": "stdout",
     "output_type": "stream",
     "text": [
      "You are Welcome!\n"
     ]
    }
   ],
   "source": [
    "guest_name = input(\"Please tell me your name: \").lower()\n",
    "if guest_name in guest_list:\n",
    "    print(\"You are Welcome!\")\n",
    "else:\n",
    "    print(\"Your name is not in list\")"
   ]
  },
  {
   "cell_type": "code",
   "execution_count": null,
   "id": "8eefc938-6bbf-47cc-9b18-3d62714df7e7",
   "metadata": {},
   "outputs": [],
   "source": [
    "guest_name = input(\"Please tell me your name: \")\n",
    "if guest_name.startswith(\"a\"):\n",
    "    print(\"You are welcome. Please take front seat\")\n",
    "\n",
    "else:\n",
    "    print(\"You can sit after first row\")"
   ]
  },
  {
   "cell_type": "code",
   "execution_count": null,
   "id": "12b3d5be-e240-4421-958f-846ad426a4d0",
   "metadata": {},
   "outputs": [],
   "source": []
  },
  {
   "cell_type": "code",
   "execution_count": null,
   "id": "d43a2b7b-379b-4401-b029-7dc8441cd123",
   "metadata": {},
   "outputs": [],
   "source": []
  },
  {
   "cell_type": "code",
   "execution_count": null,
   "id": "de48cf96-6775-44c6-8330-c5a5d3951f81",
   "metadata": {},
   "outputs": [],
   "source": []
  },
  {
   "cell_type": "code",
   "execution_count": null,
   "id": "0c2277ef-2393-4c09-8fa4-0091eea8383c",
   "metadata": {},
   "outputs": [],
   "source": []
  }
 ],
 "metadata": {
  "kernelspec": {
   "display_name": "Python 3 (ipykernel)",
   "language": "python",
   "name": "python3"
  },
  "language_info": {
   "codemirror_mode": {
    "name": "ipython",
    "version": 3
   },
   "file_extension": ".py",
   "mimetype": "text/x-python",
   "name": "python",
   "nbconvert_exporter": "python",
   "pygments_lexer": "ipython3",
   "version": "3.12.7"
  }
 },
 "nbformat": 4,
 "nbformat_minor": 5
}
