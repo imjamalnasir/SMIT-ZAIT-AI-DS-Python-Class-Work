{
 "cells": [
  {
   "cell_type": "markdown",
   "id": "dd1c1925-f316-40f3-8cad-ed8151b243a5",
   "metadata": {},
   "source": [
    "# Multiple if else (elif)\n",
    "  - a condition after a condition"
   ]
  },
  {
   "cell_type": "raw",
   "id": "dec710e2-8b73-4c17-a296-d9510491b627",
   "metadata": {},
   "source": [
    "price ====> less than 50   buy 10kg\n",
    "price ====> less than 100   buy 5kg\n",
    "price ====> less than 200   buy 3kg\n",
    "price ====> less than 300   buy 2kg\n",
    "price ====> less than 500   buy 1kg\n",
    "\n",
    " ____________________________________\n",
    "\n",
    "price greater than 500 buy  1kg\n",
    "price greater than 300 buy  2kg\n",
    "price greater than 200 buy  3kg\n",
    "price greater than 100 buy  5kg\n",
    "price greater than 50 buy  10kg\n"
   ]
  },
  {
   "cell_type": "code",
   "execution_count": 9,
   "id": "ec9bf606-f2cf-4bf0-b488-0794a4cd0f85",
   "metadata": {},
   "outputs": [
    {
     "name": "stdin",
     "output_type": "stream",
     "text": [
      "what is the price per kg?  1000\n"
     ]
    },
    {
     "name": "stdout",
     "output_type": "stream",
     "text": [
      "1\n"
     ]
    }
   ],
   "source": [
    "tomato_price  = int(input(\"what is the price per kg? \"))\n",
    "kgs = 0\n",
    "if tomato_price >= 500:\n",
    "    kgs = 1\n",
    "elif tomato_price >= 300:\n",
    "        kgs = 2\n",
    "elif tomato_price >= 200:\n",
    "        kgs = 3\n",
    "elif tomato_price >= 100:\n",
    "        kgs = 5\n",
    "else:\n",
    "        kgs = 10\n",
    "print(f\"Since price are {tomato_price}. Please give {kgs}Kg\")"
   ]
  },
  {
   "cell_type": "code",
   "execution_count": 16,
   "id": "fc4e172d-e14e-41fc-870f-5f1001d7c6ac",
   "metadata": {},
   "outputs": [
    {
     "name": "stdin",
     "output_type": "stream",
     "text": [
      "Enter the price of item:  45656\n",
      "Enter the price of item:  6767\n",
      "Enter the price of item:  768\n",
      "Enter the price of item:  6878\n",
      "Enter the price of item:  7898\n"
     ]
    },
    {
     "name": "stdout",
     "output_type": "stream",
     "text": [
      "\n",
      "           ABC Store\n",
      "        ________________\n",
      "        \n",
      "\n",
      "        Your total bill : 67967.0\n",
      "        Discount Applied: 10195.05\n",
      "        Payable         : 57771.95\n",
      "\n",
      "        Thank you for shopping with us!\n",
      "        \n",
      "        \n"
     ]
    }
   ],
   "source": [
    "item1 = float(input(\"Enter the price of item: \"))\n",
    "item2 = float(input(\"Enter the price of item: \"))\n",
    "item3 = float(input(\"Enter the price of item: \"))\n",
    "item4 = float(input(\"Enter the price of item: \"))\n",
    "item5 = float(input(\"Enter the price of item: \"))\n",
    "total_bill = item1+item2+item3+item4+item5\n",
    "discount = 0\n",
    "\n",
    "if total_bill >=15000:\n",
    "    discount = total_bill * 0.15\n",
    "elif total_bill >=10000:\n",
    "    discount = total_bill * 0.10\n",
    "elif total_bill >=5000:\n",
    "    discount = total_bill * 0.05\n",
    "elif total_bill >=3000:\n",
    "    discount = total_bill * 0.03\n",
    "else:\n",
    "    discount = total_bill * 0\n",
    "\n",
    "print(f\"\"\"\n",
    "           ABC Store\n",
    "        ________________\n",
    "        item1: {item1}\n",
    "        item2: {item2}\n",
    "        item3: {item3}\n",
    "        item4: {item4}\n",
    "        item5: {item5}\n",
    "\n",
    "        Your total bill : {total_bill}\n",
    "        Discount Applied: {discount}\n",
    "        Payable         : {total_bill-discount}\n",
    "\n",
    "        Thank you for shopping with us!\n",
    "        \n",
    "        \"\"\")"
   ]
  },
  {
   "cell_type": "markdown",
   "id": "1cefff59-599a-4e8e-a19d-297e332338a1",
   "metadata": {},
   "source": [
    "# Nested If \n",
    "     - a condition  inside a condition"
   ]
  },
  {
   "cell_type": "code",
   "execution_count": null,
   "id": "6deaeb11-1fde-4b9b-a169-623bdaa9da87",
   "metadata": {},
   "outputs": [],
   "source": [
    "# a customer wants to buy,  a shirt, levis, black, Medium, 2000"
   ]
  },
  {
   "cell_type": "code",
   "execution_count": 24,
   "id": "0cb09c8e-8566-423b-9f1f-aa303a758789",
   "metadata": {},
   "outputs": [
    {
     "name": "stdin",
     "output_type": "stream",
     "text": [
      "Kese ana huwa? shopping\n",
      "Kia lene aye ho? shirt\n",
      "Konse brand ki? levis\n",
      "Konsa color? black\n",
      "Kia size hy? medium\n",
      "Api range kia hy? 2000\n"
     ]
    },
    {
     "name": "stdout",
     "output_type": "stream",
     "text": [
      "Ye len, Thank you for shopping\n"
     ]
    }
   ],
   "source": [
    "visit = input(\"Kese ana huwa?\")\n",
    "if visit == \"shopping\":\n",
    "    item = input(\"Kia lene aye ho?\")\n",
    "    if item ==\"shirt\":        \n",
    "        brand  = input(\"Konse brand ki?\")\n",
    "        if brand==\"levis\":\n",
    "            color= input(\"Konsa color?\")\n",
    "            if color == \"black\":                \n",
    "                size  = input(\"Kia size hy?\")\n",
    "                if size ==\"medium\":                    \n",
    "                    budget  = float(input(\"Api range kia hy?\"))\n",
    "                    if budget >=2000:\n",
    "                        print(\"Ye len, Thank you for shopping\")\n",
    "                    else:\n",
    "                        print(\"Sorry these are expensive shirts\")\n",
    "                else:\n",
    "                    print(\"We only have medium size\")\n",
    "            else:\n",
    "                print(f\"Sorry {color} is not available\")\n",
    "        else:\n",
    "            print(\"We only have levis shrits\")\n",
    "    else:\n",
    "        print(\"We only deals in shirts\")\n",
    "else:\n",
    "    print(\"Thank you fot your visit\")"
   ]
  },
  {
   "cell_type": "raw",
   "id": "8b4f3956-5ce5-4f8b-9e13-bb33e3509847",
   "metadata": {},
   "source": [
    "vote cast : \n",
    "        election day \n",
    "        CNIC\n",
    "        voting list\n",
    "        "
   ]
  },
  {
   "cell_type": "code",
   "execution_count": 26,
   "id": "f1dd0cd1-eed4-4fe3-98f0-0140c7396f1d",
   "metadata": {},
   "outputs": [],
   "source": [
    "easy_load_shop = {'handsfree':250, 'charger':500,\n",
    "                 'datacable':150, 'airpods':1500,\n",
    "                 'cover':300, \"protector\":500,\n",
    "                 \"usb\":500, 'power_bank':2000,\n",
    "                 \"sd_card\":1000,\"stand\":600,\n",
    "                 }"
   ]
  },
  {
   "cell_type": "code",
   "execution_count": 38,
   "id": "b0a9a936-30a4-4f36-971e-bb28a3643d0e",
   "metadata": {},
   "outputs": [
    {
     "name": "stdin",
     "output_type": "stream",
     "text": [
      "What do you want? stand\n",
      "How many?  200\n"
     ]
    },
    {
     "name": "stdout",
     "output_type": "stream",
     "text": [
      "You bill amount 108000.0\n"
     ]
    }
   ],
   "source": [
    "item = input('What do you want?')   # cover\n",
    "if item in easy_load_shop:\n",
    "    quantity = int(input(\"How many? \"))\n",
    "    total  = quantity * easy_load_shop[item]\n",
    "    if total >=10000:\n",
    "        discount = total*.10   \n",
    "        print(f\"You bill amount {total-discount}\")\n",
    "    else:\n",
    "        print(f\"You bill amount {total}\")\n",
    "else:\n",
    "    print(f\"{item} is not available\") "
   ]
  },
  {
   "cell_type": "code",
   "execution_count": 32,
   "id": "b24b985f-e533-4311-ac2a-8e92466971b3",
   "metadata": {},
   "outputs": [
    {
     "data": {
      "text/plain": [
       "300"
      ]
     },
     "execution_count": 32,
     "metadata": {},
     "output_type": "execute_result"
    }
   ],
   "source": [
    "easy_load_shop['cover']"
   ]
  },
  {
   "cell_type": "code",
   "execution_count": null,
   "id": "53b59b89-e295-4120-8c71-6e19ecf092d0",
   "metadata": {},
   "outputs": [],
   "source": []
  },
  {
   "cell_type": "code",
   "execution_count": null,
   "id": "ba3c61c4-113e-476a-b994-3f276a9fecdd",
   "metadata": {},
   "outputs": [],
   "source": []
  }
 ],
 "metadata": {
  "kernelspec": {
   "display_name": "Python 3 (ipykernel)",
   "language": "python",
   "name": "python3"
  },
  "language_info": {
   "codemirror_mode": {
    "name": "ipython",
    "version": 3
   },
   "file_extension": ".py",
   "mimetype": "text/x-python",
   "name": "python",
   "nbconvert_exporter": "python",
   "pygments_lexer": "ipython3",
   "version": "3.12.7"
  }
 },
 "nbformat": 4,
 "nbformat_minor": 5
}
