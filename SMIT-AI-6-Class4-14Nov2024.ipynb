{
 "cells": [
  {
   "cell_type": "markdown",
   "id": "e67506a2",
   "metadata": {},
   "source": [
    "# Python Collections : Python Data Structures\n",
    "  - List\n",
    "  - Dictionary\n",
    "  - Tuple\n",
    "  - Set"
   ]
  },
  {
   "cell_type": "markdown",
   "id": "0026c7d7",
   "metadata": {},
   "source": [
    "# List:\n",
    "          - list is python collection.\n",
    "          - can hold many values together\n",
    "          - can hold many data types together\n",
    "          - is mutable\n",
    "          - iterable\n",
    "# list declaration : [ ]"
   ]
  },
  {
   "cell_type": "code",
   "execution_count": 1,
   "id": "8de5226c",
   "metadata": {},
   "outputs": [],
   "source": [
    "student_name = 'Yaseen'"
   ]
  },
  {
   "cell_type": "code",
   "execution_count": 2,
   "id": "c115e62e",
   "metadata": {},
   "outputs": [],
   "source": [
    "students = ['Yaseen', 'Umer', 'Nasir', \"Asad\", 'Fahad', 'Waqas','Qasim', \"Saad\"]"
   ]
  },
  {
   "cell_type": "code",
   "execution_count": 3,
   "id": "60c562b9",
   "metadata": {},
   "outputs": [
    {
     "name": "stdout",
     "output_type": "stream",
     "text": [
      "<class 'list'>\n"
     ]
    }
   ],
   "source": [
    "print(type(students))"
   ]
  },
  {
   "cell_type": "code",
   "execution_count": 4,
   "id": "f555e04d",
   "metadata": {},
   "outputs": [],
   "source": [
    "items = []"
   ]
  },
  {
   "cell_type": "code",
   "execution_count": 5,
   "id": "e5061af7",
   "metadata": {},
   "outputs": [
    {
     "data": {
      "text/plain": [
       "0"
      ]
     },
     "execution_count": 5,
     "metadata": {},
     "output_type": "execute_result"
    }
   ],
   "source": [
    "len(items)"
   ]
  },
  {
   "cell_type": "code",
   "execution_count": 6,
   "id": "5e0729c6",
   "metadata": {},
   "outputs": [
    {
     "data": {
      "text/plain": [
       "8"
      ]
     },
     "execution_count": 6,
     "metadata": {},
     "output_type": "execute_result"
    }
   ],
   "source": [
    "len(students)"
   ]
  },
  {
   "cell_type": "markdown",
   "id": "237fdbef",
   "metadata": {},
   "source": [
    "# list indexing:"
   ]
  },
  {
   "cell_type": "code",
   "execution_count": 7,
   "id": "87833641",
   "metadata": {},
   "outputs": [],
   "source": [
    "#             -8         -7     -6       -5      -4       -3       -2      -1\n",
    "students = ['Yaseen', 'Umer', 'Nasir', \"Asad\", 'Fahad', 'Waqas','Qasim', \"Saad\"]\n",
    "# index       0         1       2          3      4       5         6       7"
   ]
  },
  {
   "cell_type": "code",
   "execution_count": 8,
   "id": "98b8b266",
   "metadata": {},
   "outputs": [
    {
     "data": {
      "text/plain": [
       "'Umer'"
      ]
     },
     "execution_count": 8,
     "metadata": {},
     "output_type": "execute_result"
    }
   ],
   "source": [
    "students[1]"
   ]
  },
  {
   "cell_type": "code",
   "execution_count": 9,
   "id": "53a6d2fa",
   "metadata": {},
   "outputs": [
    {
     "data": {
      "text/plain": [
       "'Fahad'"
      ]
     },
     "execution_count": 9,
     "metadata": {},
     "output_type": "execute_result"
    }
   ],
   "source": [
    "students[4]"
   ]
  },
  {
   "cell_type": "code",
   "execution_count": 10,
   "id": "aab3cfa7",
   "metadata": {},
   "outputs": [
    {
     "data": {
      "text/plain": [
       "'Asad'"
      ]
     },
     "execution_count": 10,
     "metadata": {},
     "output_type": "execute_result"
    }
   ],
   "source": [
    "students[-5]"
   ]
  },
  {
   "cell_type": "markdown",
   "id": "7737a39d",
   "metadata": {},
   "source": [
    "# Adding members to an existing list\n",
    "      - append() : adds a member at very last.\n",
    "      - insert() : adds a member at provided index\n",
    "      - extend() : adds many members together in list\n",
    "      - +        : concatenate two lists"
   ]
  },
  {
   "cell_type": "code",
   "execution_count": 11,
   "id": "ffefbee1",
   "metadata": {},
   "outputs": [],
   "source": [
    "students.append(\"Zaid\")"
   ]
  },
  {
   "cell_type": "code",
   "execution_count": 12,
   "id": "815b30ce",
   "metadata": {},
   "outputs": [
    {
     "data": {
      "text/plain": [
       "['Yaseen', 'Umer', 'Nasir', 'Asad', 'Fahad', 'Waqas', 'Qasim', 'Saad', 'Zaid']"
      ]
     },
     "execution_count": 12,
     "metadata": {},
     "output_type": "execute_result"
    }
   ],
   "source": [
    "students"
   ]
  },
  {
   "cell_type": "code",
   "execution_count": 13,
   "id": "77dd580f",
   "metadata": {},
   "outputs": [
    {
     "data": {
      "text/plain": [
       "['Yaseen',\n",
       " 'Umer',\n",
       " 'Nasir',\n",
       " 'Imran',\n",
       " 'Asad',\n",
       " 'Fahad',\n",
       " 'Waqas',\n",
       " 'Qasim',\n",
       " 'Saad',\n",
       " 'Zaid']"
      ]
     },
     "execution_count": 13,
     "metadata": {},
     "output_type": "execute_result"
    }
   ],
   "source": [
    "students.insert(3,\"Imran\")\n",
    "students"
   ]
  },
  {
   "cell_type": "code",
   "execution_count": 14,
   "id": "976868b5",
   "metadata": {},
   "outputs": [
    {
     "data": {
      "text/plain": [
       "['Yaseen',\n",
       " 'Umer',\n",
       " 'Nasir',\n",
       " 'Imran',\n",
       " 'Asad',\n",
       " 'Fahad',\n",
       " 'Waqas',\n",
       " 'Qasim',\n",
       " 'Saad',\n",
       " 'Zaid',\n",
       " 'Kamran']"
      ]
     },
     "execution_count": 14,
     "metadata": {},
     "output_type": "execute_result"
    }
   ],
   "source": [
    "students.insert(300,\"Kamran\")\n",
    "students"
   ]
  },
  {
   "cell_type": "code",
   "execution_count": 20,
   "id": "aa6b8575",
   "metadata": {},
   "outputs": [
    {
     "ename": "TypeError",
     "evalue": "list.extend() takes exactly one argument (5 given)",
     "output_type": "error",
     "traceback": [
      "\u001b[1;31m---------------------------------------------------------------------------\u001b[0m",
      "\u001b[1;31mTypeError\u001b[0m                                 Traceback (most recent call last)",
      "Cell \u001b[1;32mIn[20], line 1\u001b[0m\n\u001b[1;32m----> 1\u001b[0m students\u001b[38;5;241m.\u001b[39mextend(\u001b[38;5;124m'\u001b[39m\u001b[38;5;124msunny\u001b[39m\u001b[38;5;124m'\u001b[39m,\u001b[38;5;124m\"\u001b[39m\u001b[38;5;124msania\u001b[39m\u001b[38;5;124m\"\u001b[39m,\u001b[38;5;124m'\u001b[39m\u001b[38;5;124msana\u001b[39m\u001b[38;5;124m'\u001b[39m,\u001b[38;5;124m'\u001b[39m\u001b[38;5;124matif\u001b[39m\u001b[38;5;124m'\u001b[39m,\u001b[38;5;124m'\u001b[39m\u001b[38;5;124mbilal\u001b[39m\u001b[38;5;124m'\u001b[39m)\n",
      "\u001b[1;31mTypeError\u001b[0m: list.extend() takes exactly one argument (5 given)"
     ]
    }
   ],
   "source": [
    "students.extend('sunny',\"sania\",'sana','atif','bilal')"
   ]
  },
  {
   "cell_type": "code",
   "execution_count": 21,
   "id": "0900bb7a",
   "metadata": {},
   "outputs": [
    {
     "data": {
      "text/plain": [
       "['Yaseen',\n",
       " 'Umer',\n",
       " 'Nasir',\n",
       " 'Imran',\n",
       " 'Sunny,Sania',\n",
       " 'Asad',\n",
       " 'Fahad',\n",
       " 'Waqas',\n",
       " 'Qasim',\n",
       " 'Saad',\n",
       " 'Zaid',\n",
       " 'Kamran',\n",
       " ['sunny', 'sania', 'sana', 'atif', 'bilal']]"
      ]
     },
     "execution_count": 21,
     "metadata": {},
     "output_type": "execute_result"
    }
   ],
   "source": [
    "students.append(['sunny',\"sania\",'sana','atif','bilal'])\n",
    "students"
   ]
  },
  {
   "cell_type": "code",
   "execution_count": 22,
   "id": "fdcad6e1",
   "metadata": {},
   "outputs": [
    {
     "data": {
      "text/plain": [
       "['Yaseen',\n",
       " 'Umer',\n",
       " 'Nasir',\n",
       " 'Imran',\n",
       " 'Sunny,Sania',\n",
       " 'Asad',\n",
       " 'Fahad',\n",
       " 'Waqas',\n",
       " 'Qasim',\n",
       " 'Saad',\n",
       " 'Zaid',\n",
       " 'Kamran',\n",
       " ['sunny', 'sania', 'sana', 'atif', 'bilal'],\n",
       " 'sunny',\n",
       " 'sania',\n",
       " 'sana',\n",
       " 'atif',\n",
       " 'bilal']"
      ]
     },
     "execution_count": 22,
     "metadata": {},
     "output_type": "execute_result"
    }
   ],
   "source": [
    "students.extend(['sunny',\"sania\",'sana','atif','bilal'])\n",
    "students"
   ]
  },
  {
   "cell_type": "code",
   "execution_count": 23,
   "id": "b6c23001",
   "metadata": {},
   "outputs": [],
   "source": [
    "teachers = ['Nasir Teacher', 'Asad Teacher']"
   ]
  },
  {
   "cell_type": "code",
   "execution_count": 24,
   "id": "74a3563f",
   "metadata": {},
   "outputs": [
    {
     "data": {
      "text/plain": [
       "['Yaseen',\n",
       " 'Umer',\n",
       " 'Nasir',\n",
       " 'Imran',\n",
       " 'Sunny,Sania',\n",
       " 'Asad',\n",
       " 'Fahad',\n",
       " 'Waqas',\n",
       " 'Qasim',\n",
       " 'Saad',\n",
       " 'Zaid',\n",
       " 'Kamran',\n",
       " ['sunny', 'sania', 'sana', 'atif', 'bilal'],\n",
       " 'sunny',\n",
       " 'sania',\n",
       " 'sana',\n",
       " 'atif',\n",
       " 'bilal',\n",
       " 'Nasir Teacher',\n",
       " 'Asad Teacher']"
      ]
     },
     "execution_count": 24,
     "metadata": {},
     "output_type": "execute_result"
    }
   ],
   "source": [
    "students + teachers"
   ]
  },
  {
   "cell_type": "markdown",
   "id": "0557a5a0",
   "metadata": {},
   "source": [
    "# Deleting / Remove Members from an existing list\n",
    "   - del statement: delete a member via index permanently\n",
    "   - remove():       delete a member via value permanently: Remove first occurrence of value.\n",
    "   - pop():          delete a member via index permanently / \n",
    "   - clear():        deletes all memebers from lsit permanently"
   ]
  },
  {
   "cell_type": "code",
   "execution_count": 26,
   "id": "558e78a4",
   "metadata": {},
   "outputs": [],
   "source": [
    " del student_name"
   ]
  },
  {
   "cell_type": "code",
   "execution_count": 27,
   "id": "a1bf50b7",
   "metadata": {},
   "outputs": [
    {
     "ename": "NameError",
     "evalue": "name 'student_name' is not defined",
     "output_type": "error",
     "traceback": [
      "\u001b[1;31m---------------------------------------------------------------------------\u001b[0m",
      "\u001b[1;31mNameError\u001b[0m                                 Traceback (most recent call last)",
      "Cell \u001b[1;32mIn[27], line 1\u001b[0m\n\u001b[1;32m----> 1\u001b[0m student_name\n",
      "\u001b[1;31mNameError\u001b[0m: name 'student_name' is not defined"
     ]
    }
   ],
   "source": [
    "student_name"
   ]
  },
  {
   "cell_type": "code",
   "execution_count": 28,
   "id": "dea5f608",
   "metadata": {},
   "outputs": [],
   "source": [
    "#del statement: delete a member via index permanently\n",
    "del students[12]"
   ]
  },
  {
   "cell_type": "code",
   "execution_count": 30,
   "id": "6024bbaf",
   "metadata": {},
   "outputs": [],
   "source": [
    "del students[4]"
   ]
  },
  {
   "cell_type": "code",
   "execution_count": 31,
   "id": "928d4466",
   "metadata": {},
   "outputs": [
    {
     "data": {
      "text/plain": [
       "['Yaseen',\n",
       " 'Umer',\n",
       " 'Nasir',\n",
       " 'Imran',\n",
       " 'Asad',\n",
       " 'Fahad',\n",
       " 'Waqas',\n",
       " 'Qasim',\n",
       " 'Saad',\n",
       " 'Zaid',\n",
       " 'Kamran',\n",
       " 'sunny',\n",
       " 'sania',\n",
       " 'sana',\n",
       " 'atif',\n",
       " 'bilal']"
      ]
     },
     "execution_count": 31,
     "metadata": {},
     "output_type": "execute_result"
    }
   ],
   "source": [
    "students"
   ]
  },
  {
   "cell_type": "code",
   "execution_count": 32,
   "id": "5d7a3642",
   "metadata": {},
   "outputs": [],
   "source": [
    "#remove():delete a member via value permanently: Remove first occurrence of value\n",
    "students.remove(\"Zaid\")"
   ]
  },
  {
   "cell_type": "code",
   "execution_count": 33,
   "id": "778a1980",
   "metadata": {},
   "outputs": [
    {
     "data": {
      "text/plain": [
       "['Yaseen',\n",
       " 'Umer',\n",
       " 'Nasir',\n",
       " 'Imran',\n",
       " 'Asad',\n",
       " 'Fahad',\n",
       " 'Waqas',\n",
       " 'Qasim',\n",
       " 'Saad',\n",
       " 'Kamran',\n",
       " 'sunny',\n",
       " 'sania',\n",
       " 'sana',\n",
       " 'atif',\n",
       " 'bilal']"
      ]
     },
     "execution_count": 33,
     "metadata": {},
     "output_type": "execute_result"
    }
   ],
   "source": [
    "students"
   ]
  },
  {
   "cell_type": "code",
   "execution_count": 34,
   "id": "acbf5b01",
   "metadata": {},
   "outputs": [
    {
     "ename": "ValueError",
     "evalue": "list.remove(x): x not in list",
     "output_type": "error",
     "traceback": [
      "\u001b[1;31m---------------------------------------------------------------------------\u001b[0m",
      "\u001b[1;31mValueError\u001b[0m                                Traceback (most recent call last)",
      "Cell \u001b[1;32mIn[34], line 1\u001b[0m\n\u001b[1;32m----> 1\u001b[0m students\u001b[38;5;241m.\u001b[39mremove(\u001b[38;5;124m\"\u001b[39m\u001b[38;5;124mZaidi\u001b[39m\u001b[38;5;124m\"\u001b[39m)\n",
      "\u001b[1;31mValueError\u001b[0m: list.remove(x): x not in list"
     ]
    }
   ],
   "source": [
    "students.remove(\"Zaidi\")"
   ]
  },
  {
   "cell_type": "code",
   "execution_count": 35,
   "id": "6a8393c2",
   "metadata": {},
   "outputs": [
    {
     "data": {
      "text/plain": [
       "'bilal'"
      ]
     },
     "execution_count": 35,
     "metadata": {},
     "output_type": "execute_result"
    }
   ],
   "source": [
    "# remove a value by default from last index\n",
    "# but it return the removed value. \n",
    "students.pop()"
   ]
  },
  {
   "cell_type": "code",
   "execution_count": 36,
   "id": "d72bfe4a",
   "metadata": {},
   "outputs": [
    {
     "data": {
      "text/plain": [
       "'atif'"
      ]
     },
     "execution_count": 36,
     "metadata": {},
     "output_type": "execute_result"
    }
   ],
   "source": [
    "popped_student = students.pop()\n",
    "popped_student"
   ]
  },
  {
   "cell_type": "code",
   "execution_count": 37,
   "id": "8bc58c6b",
   "metadata": {},
   "outputs": [
    {
     "data": {
      "text/plain": [
       "['Yaseen',\n",
       " 'Umer',\n",
       " 'Nasir',\n",
       " 'Imran',\n",
       " 'Asad',\n",
       " 'Fahad',\n",
       " 'Waqas',\n",
       " 'Qasim',\n",
       " 'Saad',\n",
       " 'Kamran',\n",
       " 'sunny',\n",
       " 'sania',\n",
       " 'sana']"
      ]
     },
     "execution_count": 37,
     "metadata": {},
     "output_type": "execute_result"
    }
   ],
   "source": [
    "students"
   ]
  },
  {
   "cell_type": "code",
   "execution_count": 38,
   "id": "2d5b94f3",
   "metadata": {},
   "outputs": [
    {
     "data": {
      "text/plain": [
       "'Waqas'"
      ]
     },
     "execution_count": 38,
     "metadata": {},
     "output_type": "execute_result"
    }
   ],
   "source": [
    "# pop can dele from a give n index also\n",
    "students.pop(6)"
   ]
  },
  {
   "cell_type": "code",
   "execution_count": 39,
   "id": "4b6113d9",
   "metadata": {},
   "outputs": [],
   "source": [
    "students.clear()"
   ]
  },
  {
   "cell_type": "code",
   "execution_count": 40,
   "id": "75255036",
   "metadata": {},
   "outputs": [
    {
     "data": {
      "text/plain": [
       "[]"
      ]
     },
     "execution_count": 40,
     "metadata": {},
     "output_type": "execute_result"
    }
   ],
   "source": [
    "students"
   ]
  },
  {
   "cell_type": "code",
   "execution_count": 41,
   "id": "f0cb33c6",
   "metadata": {},
   "outputs": [],
   "source": [
    "students.extend(teachers)"
   ]
  },
  {
   "cell_type": "code",
   "execution_count": 42,
   "id": "394c520d",
   "metadata": {},
   "outputs": [
    {
     "data": {
      "text/plain": [
       "['Nasir Teacher', 'Asad Teacher']"
      ]
     },
     "execution_count": 42,
     "metadata": {},
     "output_type": "execute_result"
    }
   ],
   "source": [
    "students"
   ]
  },
  {
   "cell_type": "code",
   "execution_count": 44,
   "id": "4ed3e2c1",
   "metadata": {},
   "outputs": [],
   "source": [
    "class_stu = students.copy()"
   ]
  },
  {
   "cell_type": "code",
   "execution_count": 45,
   "id": "c83118fd",
   "metadata": {},
   "outputs": [
    {
     "data": {
      "text/plain": [
       "['Nasir Teacher', 'Asad Teacher']"
      ]
     },
     "execution_count": 45,
     "metadata": {},
     "output_type": "execute_result"
    }
   ],
   "source": [
    "class_stu"
   ]
  },
  {
   "cell_type": "code",
   "execution_count": 46,
   "id": "e0d924bf",
   "metadata": {},
   "outputs": [
    {
     "data": {
      "text/plain": [
       "['Nasir Teacher', 'Asad Teacher']"
      ]
     },
     "execution_count": 46,
     "metadata": {},
     "output_type": "execute_result"
    }
   ],
   "source": [
    "students"
   ]
  },
  {
   "cell_type": "markdown",
   "id": "86259a5a",
   "metadata": {},
   "source": [
    "# Pass by Value and Pass by reference"
   ]
  },
  {
   "cell_type": "code",
   "execution_count": 47,
   "id": "dee7d203",
   "metadata": {},
   "outputs": [
    {
     "data": {
      "text/plain": [
       "['Nasir Teacher', 'Asad Teacher']"
      ]
     },
     "execution_count": 47,
     "metadata": {},
     "output_type": "execute_result"
    }
   ],
   "source": [
    "students"
   ]
  },
  {
   "cell_type": "code",
   "execution_count": 59,
   "id": "22981d94",
   "metadata": {},
   "outputs": [],
   "source": [
    "# pass by refernece\n",
    "new_students = students"
   ]
  },
  {
   "cell_type": "code",
   "execution_count": 49,
   "id": "7e92ae96",
   "metadata": {},
   "outputs": [
    {
     "data": {
      "text/plain": [
       "['Nasir Teacher', 'Asad Teacher']"
      ]
     },
     "execution_count": 49,
     "metadata": {},
     "output_type": "execute_result"
    }
   ],
   "source": [
    "students"
   ]
  },
  {
   "cell_type": "code",
   "execution_count": 50,
   "id": "18199e2c",
   "metadata": {},
   "outputs": [
    {
     "data": {
      "text/plain": [
       "['Nasir Teacher', 'Asad Teacher']"
      ]
     },
     "execution_count": 50,
     "metadata": {},
     "output_type": "execute_result"
    }
   ],
   "source": [
    "new_students"
   ]
  },
  {
   "cell_type": "code",
   "execution_count": 51,
   "id": "cb161028",
   "metadata": {},
   "outputs": [],
   "source": [
    "students.append(\"Yasir\")"
   ]
  },
  {
   "cell_type": "code",
   "execution_count": 52,
   "id": "d4068224",
   "metadata": {},
   "outputs": [
    {
     "data": {
      "text/plain": [
       "['Nasir Teacher', 'Asad Teacher', 'Yasir']"
      ]
     },
     "execution_count": 52,
     "metadata": {},
     "output_type": "execute_result"
    }
   ],
   "source": [
    "students"
   ]
  },
  {
   "cell_type": "code",
   "execution_count": 53,
   "id": "31e071ac",
   "metadata": {},
   "outputs": [
    {
     "data": {
      "text/plain": [
       "['Nasir Teacher', 'Asad Teacher', 'Yasir']"
      ]
     },
     "execution_count": 53,
     "metadata": {},
     "output_type": "execute_result"
    }
   ],
   "source": [
    "new_students"
   ]
  },
  {
   "cell_type": "code",
   "execution_count": 54,
   "id": "0b2bf6ac",
   "metadata": {},
   "outputs": [
    {
     "data": {
      "text/plain": [
       "3052236900672"
      ]
     },
     "execution_count": 54,
     "metadata": {},
     "output_type": "execute_result"
    }
   ],
   "source": [
    "id(new_students)"
   ]
  },
  {
   "cell_type": "code",
   "execution_count": 56,
   "id": "af979f22",
   "metadata": {},
   "outputs": [
    {
     "data": {
      "text/plain": [
       "3052236900672"
      ]
     },
     "execution_count": 56,
     "metadata": {},
     "output_type": "execute_result"
    }
   ],
   "source": [
    "id(students)"
   ]
  },
  {
   "cell_type": "code",
   "execution_count": 57,
   "id": "ba66af13",
   "metadata": {},
   "outputs": [],
   "source": [
    "# pass by value\n",
    "old_students = students.copy()"
   ]
  },
  {
   "cell_type": "code",
   "execution_count": 58,
   "id": "dcf5167a",
   "metadata": {},
   "outputs": [
    {
     "data": {
      "text/plain": [
       "3052253384512"
      ]
     },
     "execution_count": 58,
     "metadata": {},
     "output_type": "execute_result"
    }
   ],
   "source": [
    "id(old_students)"
   ]
  },
  {
   "cell_type": "code",
   "execution_count": 60,
   "id": "93124579",
   "metadata": {},
   "outputs": [],
   "source": [
    "a = 100"
   ]
  },
  {
   "cell_type": "code",
   "execution_count": 61,
   "id": "2884c8fa",
   "metadata": {},
   "outputs": [],
   "source": [
    "b= a"
   ]
  },
  {
   "cell_type": "code",
   "execution_count": 62,
   "id": "fbaecb5c",
   "metadata": {},
   "outputs": [
    {
     "data": {
      "text/plain": [
       "140723641360264"
      ]
     },
     "execution_count": 62,
     "metadata": {},
     "output_type": "execute_result"
    }
   ],
   "source": [
    "id(a)"
   ]
  },
  {
   "cell_type": "code",
   "execution_count": 63,
   "id": "66cddac5",
   "metadata": {},
   "outputs": [
    {
     "data": {
      "text/plain": [
       "140723641360264"
      ]
     },
     "execution_count": 63,
     "metadata": {},
     "output_type": "execute_result"
    }
   ],
   "source": [
    "id(b)"
   ]
  },
  {
   "cell_type": "code",
   "execution_count": 64,
   "id": "66d73832",
   "metadata": {},
   "outputs": [],
   "source": [
    "c= 100"
   ]
  },
  {
   "cell_type": "code",
   "execution_count": 65,
   "id": "f5d4fdba",
   "metadata": {},
   "outputs": [
    {
     "data": {
      "text/plain": [
       "100"
      ]
     },
     "execution_count": 65,
     "metadata": {},
     "output_type": "execute_result"
    }
   ],
   "source": [
    "a"
   ]
  },
  {
   "cell_type": "code",
   "execution_count": 66,
   "id": "ff2578e1",
   "metadata": {},
   "outputs": [
    {
     "data": {
      "text/plain": [
       "100"
      ]
     },
     "execution_count": 66,
     "metadata": {},
     "output_type": "execute_result"
    }
   ],
   "source": [
    "b"
   ]
  },
  {
   "cell_type": "code",
   "execution_count": 67,
   "id": "55a9c7f4",
   "metadata": {},
   "outputs": [
    {
     "data": {
      "text/plain": [
       "100"
      ]
     },
     "execution_count": 67,
     "metadata": {},
     "output_type": "execute_result"
    }
   ],
   "source": [
    "c"
   ]
  },
  {
   "cell_type": "code",
   "execution_count": 68,
   "id": "5164e8bc",
   "metadata": {},
   "outputs": [
    {
     "data": {
      "text/plain": [
       "140723641360264"
      ]
     },
     "execution_count": 68,
     "metadata": {},
     "output_type": "execute_result"
    }
   ],
   "source": [
    "id(c)"
   ]
  },
  {
   "cell_type": "code",
   "execution_count": 69,
   "id": "43107d3a",
   "metadata": {},
   "outputs": [],
   "source": [
    "name = \"asad\""
   ]
  },
  {
   "cell_type": "code",
   "execution_count": 70,
   "id": "a63d5a85",
   "metadata": {},
   "outputs": [],
   "source": [
    "name1 = name"
   ]
  },
  {
   "cell_type": "code",
   "execution_count": 71,
   "id": "76d60d79",
   "metadata": {},
   "outputs": [
    {
     "data": {
      "text/plain": [
       "3052238059952"
      ]
     },
     "execution_count": 71,
     "metadata": {},
     "output_type": "execute_result"
    }
   ],
   "source": [
    "id(name)"
   ]
  },
  {
   "cell_type": "code",
   "execution_count": 72,
   "id": "4ff42f2c",
   "metadata": {},
   "outputs": [
    {
     "data": {
      "text/plain": [
       "3052238059952"
      ]
     },
     "execution_count": 72,
     "metadata": {},
     "output_type": "execute_result"
    }
   ],
   "source": [
    "id(name1)"
   ]
  },
  {
   "cell_type": "code",
   "execution_count": 73,
   "id": "2c0feba2",
   "metadata": {},
   "outputs": [],
   "source": [
    "name2 = \"asad\""
   ]
  },
  {
   "cell_type": "code",
   "execution_count": 74,
   "id": "ac1f3bb9",
   "metadata": {},
   "outputs": [
    {
     "data": {
      "text/plain": [
       "3052238059952"
      ]
     },
     "execution_count": 74,
     "metadata": {},
     "output_type": "execute_result"
    }
   ],
   "source": [
    "id(name2)"
   ]
  },
  {
   "cell_type": "code",
   "execution_count": 75,
   "id": "bf15bf77",
   "metadata": {},
   "outputs": [
    {
     "data": {
      "text/plain": [
       "2"
      ]
     },
     "execution_count": 75,
     "metadata": {},
     "output_type": "execute_result"
    }
   ],
   "source": [
    "students.index(\"Yasir\")"
   ]
  },
  {
   "cell_type": "markdown",
   "id": "148b7120",
   "metadata": {},
   "source": [
    "# List Slicing"
   ]
  },
  {
   "cell_type": "code",
   "execution_count": 76,
   "id": "9c43ec77",
   "metadata": {},
   "outputs": [],
   "source": [
    "team = ['Yaseen', 'Umer', 'Nasir', 'Asad', 'Fahad', 'Waqas', 'Qasim', 'Saad', 'Zaid']"
   ]
  },
  {
   "cell_type": "markdown",
   "id": "c7a97770",
   "metadata": {},
   "source": [
    "#### index"
   ]
  },
  {
   "cell_type": "code",
   "execution_count": 77,
   "id": "73fd27ee",
   "metadata": {},
   "outputs": [
    {
     "data": {
      "text/plain": [
       "'Waqas'"
      ]
     },
     "execution_count": 77,
     "metadata": {},
     "output_type": "execute_result"
    }
   ],
   "source": [
    "team[5]"
   ]
  },
  {
   "cell_type": "code",
   "execution_count": 79,
   "id": "7e64e563",
   "metadata": {},
   "outputs": [
    {
     "data": {
      "text/plain": [
       "['Umer', 'Nasir', 'Asad', 'Fahad']"
      ]
     },
     "execution_count": 79,
     "metadata": {},
     "output_type": "execute_result"
    }
   ],
   "source": [
    "#   team[start:ending: step]\n",
    "\n",
    "team[1:5:1]"
   ]
  },
  {
   "cell_type": "code",
   "execution_count": 82,
   "id": "6aade944",
   "metadata": {},
   "outputs": [
    {
     "data": {
      "text/plain": [
       "['Nasir', 'Fahad', 'Qasim']"
      ]
     },
     "execution_count": 82,
     "metadata": {},
     "output_type": "execute_result"
    }
   ],
   "source": [
    "team[2:8:2]"
   ]
  },
  {
   "cell_type": "code",
   "execution_count": 83,
   "id": "ceec48de",
   "metadata": {},
   "outputs": [
    {
     "data": {
      "text/plain": [
       "['Yaseen', 'Umer', 'Nasir', 'Asad', 'Fahad', 'Waqas', 'Qasim', 'Saad', 'Zaid']"
      ]
     },
     "execution_count": 83,
     "metadata": {},
     "output_type": "execute_result"
    }
   ],
   "source": [
    "team"
   ]
  },
  {
   "cell_type": "code",
   "execution_count": 86,
   "id": "3d1895b6",
   "metadata": {},
   "outputs": [
    {
     "data": {
      "text/plain": [
       "['Zaid', 'Saad', 'Qasim', 'Waqas', 'Fahad', 'Asad', 'Nasir']"
      ]
     },
     "execution_count": 86,
     "metadata": {},
     "output_type": "execute_result"
    }
   ],
   "source": [
    "team[8:1:-1]"
   ]
  },
  {
   "cell_type": "code",
   "execution_count": 87,
   "id": "7f3057c5",
   "metadata": {},
   "outputs": [
    {
     "data": {
      "text/plain": [
       "['Zaid', 'Saad', 'Qasim', 'Waqas', 'Fahad', 'Asad', 'Nasir', 'Umer', 'Yaseen']"
      ]
     },
     "execution_count": 87,
     "metadata": {},
     "output_type": "execute_result"
    }
   ],
   "source": [
    "team[::-1]"
   ]
  },
  {
   "cell_type": "code",
   "execution_count": 88,
   "id": "3a8e6d9f",
   "metadata": {},
   "outputs": [
    {
     "data": {
      "text/plain": [
       "['Umer', 'Nasir', 'Asad', 'Fahad', 'Waqas', 'Qasim']"
      ]
     },
     "execution_count": 88,
     "metadata": {},
     "output_type": "execute_result"
    }
   ],
   "source": [
    "team[-8:7]"
   ]
  },
  {
   "cell_type": "code",
   "execution_count": 89,
   "id": "d7129283",
   "metadata": {},
   "outputs": [
    {
     "data": {
      "text/plain": [
       "['Yaseen', 'Umer', 'Nasir', 'Asad', 'Fahad', 'Waqas', 'Qasim', 'Saad', 'Zaid']"
      ]
     },
     "execution_count": 89,
     "metadata": {},
     "output_type": "execute_result"
    }
   ],
   "source": [
    "team"
   ]
  },
  {
   "cell_type": "code",
   "execution_count": 90,
   "id": "b31a4570",
   "metadata": {},
   "outputs": [
    {
     "data": {
      "text/plain": [
       "['Umer', 'Nasir', 'Asad']"
      ]
     },
     "execution_count": 90,
     "metadata": {},
     "output_type": "execute_result"
    }
   ],
   "source": [
    "team[1:4:1]"
   ]
  },
  {
   "cell_type": "code",
   "execution_count": 92,
   "id": "f15731e3",
   "metadata": {},
   "outputs": [
    {
     "data": {
      "text/plain": [
       "['Fahad', 'Asad', 'Nasir']"
      ]
     },
     "execution_count": 92,
     "metadata": {},
     "output_type": "execute_result"
    }
   ],
   "source": [
    "team[4:1:-1]"
   ]
  },
  {
   "cell_type": "code",
   "execution_count": 93,
   "id": "777c8e7c",
   "metadata": {},
   "outputs": [
    {
     "data": {
      "text/plain": [
       "['Zaid', 'Saad', 'Qasim', 'Waqas', 'Fahad', 'Asad', 'Nasir', 'Umer', 'Yaseen']"
      ]
     },
     "execution_count": 93,
     "metadata": {},
     "output_type": "execute_result"
    }
   ],
   "source": [
    "team[::-1]"
   ]
  },
  {
   "cell_type": "code",
   "execution_count": 94,
   "id": "9c89929d",
   "metadata": {},
   "outputs": [],
   "source": [
    "misc = [1,\"hello\", True]"
   ]
  },
  {
   "cell_type": "code",
   "execution_count": 95,
   "id": "7c50481e",
   "metadata": {},
   "outputs": [
    {
     "ename": "TypeError",
     "evalue": "'<' not supported between instances of 'str' and 'int'",
     "output_type": "error",
     "traceback": [
      "\u001b[1;31m---------------------------------------------------------------------------\u001b[0m",
      "\u001b[1;31mTypeError\u001b[0m                                 Traceback (most recent call last)",
      "Cell \u001b[1;32mIn[95], line 1\u001b[0m\n\u001b[1;32m----> 1\u001b[0m misc\u001b[38;5;241m.\u001b[39msort()\n",
      "\u001b[1;31mTypeError\u001b[0m: '<' not supported between instances of 'str' and 'int'"
     ]
    }
   ],
   "source": [
    "misc.sort()"
   ]
  },
  {
   "cell_type": "markdown",
   "id": "43f3fcb4",
   "metadata": {},
   "source": [
    "##### team.sort()"
   ]
  }
 ],
 "metadata": {
  "kernelspec": {
   "display_name": "Python 3 (ipykernel)",
   "language": "python",
   "name": "python3"
  },
  "language_info": {
   "codemirror_mode": {
    "name": "ipython",
    "version": 3
   },
   "file_extension": ".py",
   "mimetype": "text/x-python",
   "name": "python",
   "nbconvert_exporter": "python",
   "pygments_lexer": "ipython3",
   "version": "3.11.5"
  }
 },
 "nbformat": 4,
 "nbformat_minor": 5
}
