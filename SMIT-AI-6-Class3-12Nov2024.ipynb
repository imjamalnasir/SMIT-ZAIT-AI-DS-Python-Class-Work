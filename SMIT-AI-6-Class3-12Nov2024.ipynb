{
 "cells": [
  {
   "cell_type": "markdown",
   "id": "18880417",
   "metadata": {},
   "source": [
    "# User input\n",
    " - Anything input from console it has type: string"
   ]
  },
  {
   "cell_type": "code",
   "execution_count": 1,
   "id": "8e4e120a",
   "metadata": {},
   "outputs": [],
   "source": [
    "name  = \"Yasir Hussain\""
   ]
  },
  {
   "cell_type": "code",
   "execution_count": 2,
   "id": "526c86dc",
   "metadata": {},
   "outputs": [],
   "source": [
    "count = 10"
   ]
  },
  {
   "cell_type": "code",
   "execution_count": 11,
   "id": "4405e5fa",
   "metadata": {},
   "outputs": [
    {
     "name": "stdout",
     "output_type": "stream",
     "text": [
      "Enter your nameRehan\n"
     ]
    }
   ],
   "source": [
    "student_name = input(\"Enter your name\")"
   ]
  },
  {
   "cell_type": "code",
   "execution_count": 12,
   "id": "1a644125",
   "metadata": {},
   "outputs": [
    {
     "name": "stdout",
     "output_type": "stream",
     "text": [
      "Rehan\n",
      "<class 'str'>\n"
     ]
    }
   ],
   "source": [
    "print(student_name)\n",
    "print(type(student_name))"
   ]
  },
  {
   "cell_type": "code",
   "execution_count": 13,
   "id": "f97610d7",
   "metadata": {},
   "outputs": [
    {
     "name": "stdout",
     "output_type": "stream",
     "text": [
      "Enter your age: 50\n",
      "50\n",
      "<class 'str'>\n"
     ]
    }
   ],
   "source": [
    "age = input(\"Enter your age: \")\n",
    "print(age)\n",
    "print(type(age))"
   ]
  },
  {
   "cell_type": "code",
   "execution_count": 14,
   "id": "9dbbac5b",
   "metadata": {},
   "outputs": [
    {
     "ename": "TypeError",
     "evalue": "can only concatenate str (not \"int\") to str",
     "output_type": "error",
     "traceback": [
      "\u001b[1;31m---------------------------------------------------------------------------\u001b[0m",
      "\u001b[1;31mTypeError\u001b[0m                                 Traceback (most recent call last)",
      "Cell \u001b[1;32mIn[14], line 1\u001b[0m\n\u001b[1;32m----> 1\u001b[0m age \u001b[38;5;241m+\u001b[39m \u001b[38;5;241m10\u001b[39m\n",
      "\u001b[1;31mTypeError\u001b[0m: can only concatenate str (not \"int\") to str"
     ]
    }
   ],
   "source": [
    "age + 10"
   ]
  },
  {
   "cell_type": "markdown",
   "id": "8227eaf3",
   "metadata": {},
   "source": [
    "### TypeCasting"
   ]
  },
  {
   "cell_type": "code",
   "execution_count": 18,
   "id": "2c6ca61d",
   "metadata": {},
   "outputs": [
    {
     "data": {
      "text/plain": [
       "190.0"
      ]
     },
     "execution_count": 18,
     "metadata": {},
     "output_type": "execute_result"
    }
   ],
   "source": [
    "# an integer value type casted to float\n",
    "float(190)"
   ]
  },
  {
   "cell_type": "code",
   "execution_count": 19,
   "id": "d991c09f",
   "metadata": {},
   "outputs": [
    {
     "data": {
      "text/plain": [
       "'190'"
      ]
     },
     "execution_count": 19,
     "metadata": {},
     "output_type": "execute_result"
    }
   ],
   "source": [
    "# an integer value type casted to string\n",
    "str(190)"
   ]
  },
  {
   "cell_type": "code",
   "execution_count": 20,
   "id": "5e86eafe",
   "metadata": {},
   "outputs": [
    {
     "data": {
      "text/plain": [
       "100"
      ]
     },
     "execution_count": 20,
     "metadata": {},
     "output_type": "execute_result"
    }
   ],
   "source": [
    "# an string value type casted to int\n",
    "# value must a number(integer) inside quotation\n",
    "int(\"100\")"
   ]
  },
  {
   "cell_type": "code",
   "execution_count": 21,
   "id": "0251a6f2",
   "metadata": {},
   "outputs": [
    {
     "ename": "ValueError",
     "evalue": "invalid literal for int() with base 10: '15.678'",
     "output_type": "error",
     "traceback": [
      "\u001b[1;31m---------------------------------------------------------------------------\u001b[0m",
      "\u001b[1;31mValueError\u001b[0m                                Traceback (most recent call last)",
      "Cell \u001b[1;32mIn[21], line 3\u001b[0m\n\u001b[0;32m      1\u001b[0m \u001b[38;5;66;03m# an string value type casted to int\u001b[39;00m\n\u001b[0;32m      2\u001b[0m \u001b[38;5;66;03m# value must a number(integer) inside quotation\u001b[39;00m\n\u001b[1;32m----> 3\u001b[0m \u001b[38;5;28mint\u001b[39m(\u001b[38;5;124m\"\u001b[39m\u001b[38;5;124m15.678\u001b[39m\u001b[38;5;124m\"\u001b[39m)\n",
      "\u001b[1;31mValueError\u001b[0m: invalid literal for int() with base 10: '15.678'"
     ]
    }
   ],
   "source": [
    "# an string value type casted to int\n",
    "# value must a number(integer) inside quotation\n",
    "int(\"15.678\")\n",
    "# error "
   ]
  },
  {
   "cell_type": "code",
   "execution_count": 22,
   "id": "f5c8264b",
   "metadata": {},
   "outputs": [
    {
     "data": {
      "text/plain": [
       "15.678"
      ]
     },
     "execution_count": 22,
     "metadata": {},
     "output_type": "execute_result"
    }
   ],
   "source": [
    "# an string value type casted to float\n",
    "# value must a number inside quotation\n",
    "float(\"15.678\")"
   ]
  },
  {
   "cell_type": "code",
   "execution_count": 23,
   "id": "f1384918",
   "metadata": {},
   "outputs": [
    {
     "data": {
      "text/plain": [
       "45.0"
      ]
     },
     "execution_count": 23,
     "metadata": {},
     "output_type": "execute_result"
    }
   ],
   "source": [
    "float(\"45\")"
   ]
  },
  {
   "cell_type": "code",
   "execution_count": 28,
   "id": "f9a446eb",
   "metadata": {},
   "outputs": [
    {
     "data": {
      "text/plain": [
       "34"
      ]
     },
     "execution_count": 28,
     "metadata": {},
     "output_type": "execute_result"
    }
   ],
   "source": [
    "int(float(\"34.6\"))"
   ]
  },
  {
   "cell_type": "code",
   "execution_count": 25,
   "id": "db2631b2",
   "metadata": {},
   "outputs": [
    {
     "data": {
      "text/plain": [
       "60"
      ]
     },
     "execution_count": 25,
     "metadata": {},
     "output_type": "execute_result"
    }
   ],
   "source": [
    "int(age) + 10"
   ]
  },
  {
   "cell_type": "code",
   "execution_count": 29,
   "id": "73393893",
   "metadata": {},
   "outputs": [
    {
     "name": "stdout",
     "output_type": "stream",
     "text": [
      "Enter your age: 34.7\n",
      "34\n",
      "<class 'int'>\n"
     ]
    }
   ],
   "source": [
    "age = int(float(input(\"Enter your age: \")))\n",
    "print(age)\n",
    "print(type(age))"
   ]
  },
  {
   "cell_type": "code",
   "execution_count": 31,
   "id": "d5a65448",
   "metadata": {},
   "outputs": [
    {
     "name": "stdout",
     "output_type": "stream",
     "text": [
      "Enter your age: 12_0\n",
      "120.0\n",
      "<class 'float'>\n"
     ]
    }
   ],
   "source": [
    "age = float(input(\"Enter your age: \"))\n",
    "print(age)\n",
    "print(type(age))"
   ]
  },
  {
   "cell_type": "markdown",
   "id": "082922f3",
   "metadata": {},
   "source": [
    "# String\n",
    " - String is class.\n",
    " - String is a collection.\n",
    " - Any value in inverred commas is string.\n",
    " - string values are immutable. (unchangable).\n"
   ]
  },
  {
   "cell_type": "code",
   "execution_count": 33,
   "id": "a51b2050",
   "metadata": {},
   "outputs": [],
   "source": [
    "country = \"pakistan\""
   ]
  },
  {
   "cell_type": "code",
   "execution_count": 34,
   "id": "382477d3",
   "metadata": {},
   "outputs": [
    {
     "name": "stdout",
     "output_type": "stream",
     "text": [
      "<class 'str'>\n"
     ]
    }
   ],
   "source": [
    "print(type(country))"
   ]
  },
  {
   "cell_type": "code",
   "execution_count": 35,
   "id": "3205c995",
   "metadata": {},
   "outputs": [
    {
     "data": {
      "text/plain": [
       "'PAKISTAN'"
      ]
     },
     "execution_count": 35,
     "metadata": {},
     "output_type": "execute_result"
    }
   ],
   "source": [
    "country.upper()"
   ]
  },
  {
   "cell_type": "code",
   "execution_count": 36,
   "id": "f69754a5",
   "metadata": {},
   "outputs": [
    {
     "data": {
      "text/plain": [
       "'Pakistan'"
      ]
     },
     "execution_count": 36,
     "metadata": {},
     "output_type": "execute_result"
    }
   ],
   "source": [
    "country.title()"
   ]
  },
  {
   "cell_type": "code",
   "execution_count": 37,
   "id": "3dca3f10",
   "metadata": {},
   "outputs": [
    {
     "data": {
      "text/plain": [
       "'pakistan'"
      ]
     },
     "execution_count": 37,
     "metadata": {},
     "output_type": "execute_result"
    }
   ],
   "source": [
    "country"
   ]
  },
  {
   "cell_type": "code",
   "execution_count": 38,
   "id": "9940d608",
   "metadata": {},
   "outputs": [],
   "source": [
    "# first convert the value in UPPER CASE then reassign it into country.\n",
    "country = country.upper()"
   ]
  },
  {
   "cell_type": "code",
   "execution_count": 39,
   "id": "c5846d26",
   "metadata": {},
   "outputs": [
    {
     "data": {
      "text/plain": [
       "'PAKISTAN'"
      ]
     },
     "execution_count": 39,
     "metadata": {},
     "output_type": "execute_result"
    }
   ],
   "source": [
    "country"
   ]
  },
  {
   "cell_type": "code",
   "execution_count": 43,
   "id": "c329b18c",
   "metadata": {},
   "outputs": [
    {
     "data": {
      "text/plain": [
       "1"
      ]
     },
     "execution_count": 43,
     "metadata": {},
     "output_type": "execute_result"
    }
   ],
   "source": [
    "country.count(\"TAN\")"
   ]
  },
  {
   "cell_type": "code",
   "execution_count": 44,
   "id": "34adfb4a",
   "metadata": {},
   "outputs": [
    {
     "data": {
      "text/plain": [
       "True"
      ]
     },
     "execution_count": 44,
     "metadata": {},
     "output_type": "execute_result"
    }
   ],
   "source": [
    "country.endswith(\"N\")"
   ]
  },
  {
   "cell_type": "code",
   "execution_count": 45,
   "id": "27ea52f5",
   "metadata": {},
   "outputs": [
    {
     "data": {
      "text/plain": [
       "False"
      ]
     },
     "execution_count": 45,
     "metadata": {},
     "output_type": "execute_result"
    }
   ],
   "source": [
    "country.endswith(\"an\")"
   ]
  },
  {
   "cell_type": "code",
   "execution_count": 46,
   "id": "be50b0c3",
   "metadata": {},
   "outputs": [
    {
     "data": {
      "text/plain": [
       "True"
      ]
     },
     "execution_count": 46,
     "metadata": {},
     "output_type": "execute_result"
    }
   ],
   "source": [
    "country.startswith(\"P\")"
   ]
  },
  {
   "cell_type": "code",
   "execution_count": 47,
   "id": "da5fb407",
   "metadata": {},
   "outputs": [
    {
     "data": {
      "text/plain": [
       "2"
      ]
     },
     "execution_count": 47,
     "metadata": {},
     "output_type": "execute_result"
    }
   ],
   "source": [
    "country.find(\"K\")"
   ]
  },
  {
   "cell_type": "code",
   "execution_count": 48,
   "id": "8c8f1418",
   "metadata": {},
   "outputs": [
    {
     "data": {
      "text/plain": [
       "True"
      ]
     },
     "execution_count": 48,
     "metadata": {},
     "output_type": "execute_result"
    }
   ],
   "source": [
    "country.isalnum()"
   ]
  },
  {
   "cell_type": "code",
   "execution_count": 49,
   "id": "de2f643b",
   "metadata": {},
   "outputs": [
    {
     "data": {
      "text/plain": [
       "True"
      ]
     },
     "execution_count": 49,
     "metadata": {},
     "output_type": "execute_result"
    }
   ],
   "source": [
    "\"A12\".isalnum()"
   ]
  },
  {
   "cell_type": "code",
   "execution_count": 50,
   "id": "769db6e5",
   "metadata": {},
   "outputs": [
    {
     "data": {
      "text/plain": [
       "True"
      ]
     },
     "execution_count": 50,
     "metadata": {},
     "output_type": "execute_result"
    }
   ],
   "source": [
    "\"A\".isalnum()"
   ]
  },
  {
   "cell_type": "code",
   "execution_count": 51,
   "id": "3adc79d7",
   "metadata": {},
   "outputs": [
    {
     "data": {
      "text/plain": [
       "True"
      ]
     },
     "execution_count": 51,
     "metadata": {},
     "output_type": "execute_result"
    }
   ],
   "source": [
    "\"12\".isalnum()"
   ]
  },
  {
   "cell_type": "code",
   "execution_count": 52,
   "id": "8b21baca",
   "metadata": {},
   "outputs": [
    {
     "data": {
      "text/plain": [
       "True"
      ]
     },
     "execution_count": 52,
     "metadata": {},
     "output_type": "execute_result"
    }
   ],
   "source": [
    "country.isalpha()"
   ]
  },
  {
   "cell_type": "code",
   "execution_count": 53,
   "id": "86ef1eb2",
   "metadata": {},
   "outputs": [
    {
     "data": {
      "text/plain": [
       "False"
      ]
     },
     "execution_count": 53,
     "metadata": {},
     "output_type": "execute_result"
    }
   ],
   "source": [
    "'12'.isalpha()"
   ]
  },
  {
   "cell_type": "code",
   "execution_count": 54,
   "id": "56dd9a22",
   "metadata": {},
   "outputs": [
    {
     "data": {
      "text/plain": [
       "False"
      ]
     },
     "execution_count": 54,
     "metadata": {},
     "output_type": "execute_result"
    }
   ],
   "source": [
    "country.islower()"
   ]
  },
  {
   "cell_type": "code",
   "execution_count": 55,
   "id": "60e9e2af",
   "metadata": {},
   "outputs": [
    {
     "data": {
      "text/plain": [
       "False"
      ]
     },
     "execution_count": 55,
     "metadata": {},
     "output_type": "execute_result"
    }
   ],
   "source": [
    "country.isspace()"
   ]
  },
  {
   "cell_type": "code",
   "execution_count": 56,
   "id": "9cf559c6",
   "metadata": {},
   "outputs": [
    {
     "data": {
      "text/plain": [
       "True"
      ]
     },
     "execution_count": 56,
     "metadata": {},
     "output_type": "execute_result"
    }
   ],
   "source": [
    "\" \".isspace()"
   ]
  },
  {
   "cell_type": "code",
   "execution_count": 64,
   "id": "54abb931",
   "metadata": {},
   "outputs": [
    {
     "data": {
      "text/plain": [
       "15"
      ]
     },
     "execution_count": 64,
     "metadata": {},
     "output_type": "execute_result"
    }
   ],
   "source": [
    "student = \" Nasir Hussain \"\n",
    "len(student)"
   ]
  },
  {
   "cell_type": "code",
   "execution_count": 65,
   "id": "ae19e3ac",
   "metadata": {},
   "outputs": [],
   "source": [
    "student1 = \"Nasir Hussain\""
   ]
  },
  {
   "cell_type": "code",
   "execution_count": 66,
   "id": "e99fd2f4",
   "metadata": {},
   "outputs": [
    {
     "data": {
      "text/plain": [
       "False"
      ]
     },
     "execution_count": 66,
     "metadata": {},
     "output_type": "execute_result"
    }
   ],
   "source": [
    "student == student1"
   ]
  },
  {
   "cell_type": "code",
   "execution_count": 67,
   "id": "7e70d35b",
   "metadata": {},
   "outputs": [
    {
     "data": {
      "text/plain": [
       "'Nasir Hussain '"
      ]
     },
     "execution_count": 67,
     "metadata": {},
     "output_type": "execute_result"
    }
   ],
   "source": [
    "student.lstrip()"
   ]
  },
  {
   "cell_type": "code",
   "execution_count": 68,
   "id": "12f74e08",
   "metadata": {},
   "outputs": [
    {
     "data": {
      "text/plain": [
       "' Nasir Hussain'"
      ]
     },
     "execution_count": 68,
     "metadata": {},
     "output_type": "execute_result"
    }
   ],
   "source": [
    "student.rstrip()"
   ]
  },
  {
   "cell_type": "code",
   "execution_count": 69,
   "id": "24a7c2d6",
   "metadata": {},
   "outputs": [
    {
     "data": {
      "text/plain": [
       "'Nasir Hussain'"
      ]
     },
     "execution_count": 69,
     "metadata": {},
     "output_type": "execute_result"
    }
   ],
   "source": [
    "student.strip()"
   ]
  },
  {
   "cell_type": "code",
   "execution_count": 70,
   "id": "739b3494",
   "metadata": {},
   "outputs": [
    {
     "data": {
      "text/plain": [
       "True"
      ]
     },
     "execution_count": 70,
     "metadata": {},
     "output_type": "execute_result"
    }
   ],
   "source": [
    "student.strip() == student1"
   ]
  },
  {
   "cell_type": "code",
   "execution_count": 74,
   "id": "49cc8d55",
   "metadata": {},
   "outputs": [
    {
     "data": {
      "text/plain": [
       "' NAsir HussAin '"
      ]
     },
     "execution_count": 74,
     "metadata": {},
     "output_type": "execute_result"
    }
   ],
   "source": [
    "student.replace('a', \"A\")"
   ]
  },
  {
   "cell_type": "code",
   "execution_count": 73,
   "id": "84b2a552",
   "metadata": {},
   "outputs": [
    {
     "data": {
      "text/plain": [
       "' Nasir Hussain '"
      ]
     },
     "execution_count": 73,
     "metadata": {},
     "output_type": "execute_result"
    }
   ],
   "source": [
    "student"
   ]
  },
  {
   "cell_type": "markdown",
   "id": "01a56f73",
   "metadata": {},
   "source": [
    "# String Concatenation: Joining  ( +)"
   ]
  },
  {
   "cell_type": "code",
   "execution_count": 75,
   "id": "1fe3670c",
   "metadata": {},
   "outputs": [],
   "source": [
    "first_name = \"Artificial\"\n",
    "last_name = \"Intelligence\""
   ]
  },
  {
   "cell_type": "code",
   "execution_count": 76,
   "id": "c25dbb0b",
   "metadata": {},
   "outputs": [
    {
     "data": {
      "text/plain": [
       "'ArtificialIntelligence'"
      ]
     },
     "execution_count": 76,
     "metadata": {},
     "output_type": "execute_result"
    }
   ],
   "source": [
    "first_name + last_name"
   ]
  },
  {
   "cell_type": "code",
   "execution_count": 78,
   "id": "3a862fca",
   "metadata": {},
   "outputs": [
    {
     "data": {
      "text/plain": [
       "'Artificial Intelligence'"
      ]
     },
     "execution_count": 78,
     "metadata": {},
     "output_type": "execute_result"
    }
   ],
   "source": [
    "first_name+\" \"+last_name"
   ]
  },
  {
   "cell_type": "code",
   "execution_count": 81,
   "id": "5e14e503",
   "metadata": {},
   "outputs": [
    {
     "name": "stdout",
     "output_type": "stream",
     "text": [
      "Enter your course name: Artificial Intelligence and Data Science\n",
      "How many students are enrolled in course200\n",
      "Name of institute: SMIT\n",
      "We are learning Artificial Intelligence and Data Science.\n",
      "There are 200 enroled inour course at SMIT\n"
     ]
    }
   ],
   "source": [
    "course = input(\"Enter your course name: \")\n",
    "number_of_students = int(input(\"How many students are enrolled in course\"))\n",
    "institute = input(\"Name of institute: \")\n",
    "\n",
    "print(\"We are learning \"+course+\".\\nThere are \"+str(number_of_students)+\" enroled inour course at \"+institute )"
   ]
  },
  {
   "cell_type": "raw",
   "id": "796d9aa1",
   "metadata": {},
   "source": [
    "We are learning Artificial Intelligence and Data Science.\n",
    "There are 200 students enroled inour course at SMIT"
   ]
  },
  {
   "cell_type": "markdown",
   "id": "18e8df82",
   "metadata": {},
   "source": [
    "# format()"
   ]
  },
  {
   "cell_type": "code",
   "execution_count": 83,
   "id": "bfed1092",
   "metadata": {},
   "outputs": [
    {
     "data": {
      "text/plain": [
       "'We are learning Artificial Intelligence and Data Science.\\nThere are 200 students enroled inour course at SMIT'"
      ]
     },
     "execution_count": 83,
     "metadata": {},
     "output_type": "execute_result"
    }
   ],
   "source": [
    "#placeholder\n",
    "\"We are learning {}.\\nThere are {} students enroled inour course at {}\".format(course,number_of_students,institute)"
   ]
  },
  {
   "cell_type": "code",
   "execution_count": 84,
   "id": "fb8d266e",
   "metadata": {},
   "outputs": [
    {
     "name": "stdout",
     "output_type": "stream",
     "text": [
      "We are learning Artificial Intelligence and Data Science.\n",
      "There are 200 students enroled inour course at SMIT\n"
     ]
    }
   ],
   "source": [
    "#placeholder\n",
    "print(\"We are learning {}.\\nThere are {} students enroled inour course at {}\".format(course,number_of_students,institute))"
   ]
  },
  {
   "cell_type": "markdown",
   "id": "53f7dc17",
   "metadata": {},
   "source": [
    "# f- formatting"
   ]
  },
  {
   "cell_type": "code",
   "execution_count": 85,
   "id": "071821f3",
   "metadata": {},
   "outputs": [
    {
     "name": "stdout",
     "output_type": "stream",
     "text": [
      "We are learning {}.\n",
      "There are {} students enroled inour course at {}\n"
     ]
    }
   ],
   "source": [
    "print(\"We are learning {}.\\nThere are {} students enroled inour course at {}\")"
   ]
  },
  {
   "cell_type": "code",
   "execution_count": 86,
   "id": "e15f25e7",
   "metadata": {},
   "outputs": [
    {
     "name": "stdout",
     "output_type": "stream",
     "text": [
      "We are learning Artificial Intelligence and Data Science.\n",
      "There are 200 students enroled inour course at SMIT\n"
     ]
    }
   ],
   "source": [
    "print(f\"We are learning {course}.\\nThere are {number_of_students} students enroled inour course at {institute}\")"
   ]
  },
  {
   "cell_type": "code",
   "execution_count": 87,
   "id": "224f2167",
   "metadata": {},
   "outputs": [
    {
     "data": {
      "text/plain": [
       "'Artificial Intelligence and Data Science'"
      ]
     },
     "execution_count": 87,
     "metadata": {},
     "output_type": "execute_result"
    }
   ],
   "source": [
    "course"
   ]
  },
  {
   "cell_type": "code",
   "execution_count": null,
   "id": "47da4b8d",
   "metadata": {},
   "outputs": [],
   "source": []
  },
  {
   "cell_type": "code",
   "execution_count": null,
   "id": "a9764a05",
   "metadata": {},
   "outputs": [],
   "source": []
  }
 ],
 "metadata": {
  "kernelspec": {
   "display_name": "Python 3 (ipykernel)",
   "language": "python",
   "name": "python3"
  },
  "language_info": {
   "codemirror_mode": {
    "name": "ipython",
    "version": 3
   },
   "file_extension": ".py",
   "mimetype": "text/x-python",
   "name": "python",
   "nbconvert_exporter": "python",
   "pygments_lexer": "ipython3",
   "version": "3.11.5"
  }
 },
 "nbformat": 4,
 "nbformat_minor": 5
}
