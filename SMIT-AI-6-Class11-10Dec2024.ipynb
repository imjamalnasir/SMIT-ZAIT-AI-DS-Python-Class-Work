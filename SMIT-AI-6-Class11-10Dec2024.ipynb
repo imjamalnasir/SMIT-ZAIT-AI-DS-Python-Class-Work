{
 "cells": [
  {
   "cell_type": "markdown",
   "id": "9f4e9043-c0cf-4687-ad2f-3eaeb25bb61f",
   "metadata": {},
   "source": [
    "# Write a program that input a string and ask user to delete a given word from a string."
   ]
  },
  {
   "cell_type": "code",
   "execution_count": 7,
   "id": "f870e7c1-a4e2-4e10-ad9a-d9ca3209df36",
   "metadata": {},
   "outputs": [],
   "source": [
    "def delword(txt, wrd):\n",
    "    if wrd in txt:\n",
    "        return txt.replace(wrd, \"\")\n",
    "        \n",
    "    else:\n",
    "        return f\"Word {wrd} nor found in text\""
   ]
  },
  {
   "cell_type": "code",
   "execution_count": 8,
   "id": "1eccb954-9698-4cd8-9f35-41f5af9cbe9f",
   "metadata": {},
   "outputs": [
    {
     "data": {
      "text/plain": [
       "' Pakistan'"
      ]
     },
     "execution_count": 8,
     "metadata": {},
     "output_type": "execute_result"
    }
   ],
   "source": [
    "delword(\"Hello Pakistan\", 'Hello')"
   ]
  },
  {
   "cell_type": "code",
   "execution_count": 9,
   "id": "e10b7966-9ad4-45ef-9bee-35429adfe28c",
   "metadata": {},
   "outputs": [
    {
     "data": {
      "text/plain": [
       "'Python is an  programming language'"
      ]
     },
     "execution_count": 9,
     "metadata": {},
     "output_type": "execute_result"
    }
   ],
   "source": [
    "delword(\"Python is an easy programming language\", 'easy')"
   ]
  },
  {
   "cell_type": "markdown",
   "id": "7db0a02b-d203-4e53-890c-42818766f0de",
   "metadata": {},
   "source": [
    "# 6. Write a program that reads a string from the user containing a date in the form mm/dd/yyyy. It\n",
    "# should print the date in the form March 12, 2021"
   ]
  },
  {
   "cell_type": "code",
   "execution_count": 16,
   "id": "eb48abc6-3499-422e-b6fc-e9ffb49aebfc",
   "metadata": {},
   "outputs": [
    {
     "name": "stdin",
     "output_type": "stream",
     "text": [
      "Enter a date in foramt mm/dd/yyyy 12/10/2024\n"
     ]
    },
    {
     "name": "stdout",
     "output_type": "stream",
     "text": [
      "Dec 10, 2024\n"
     ]
    }
   ],
   "source": [
    "months = {1:'Jan', 2:'Feb', 3:'March',\n",
    "         4:'April',5:'May',6:'June',7:'July',\n",
    "         8:'Aug',9:'Sept',10:'Oct',11:'Nov',12:'Dec'}\n",
    "\n",
    "date = input(\"Enter a date in foramt mm/dd/yyyy\").split(\"/\")\n",
    "print(f\"{months.get(int(date[0]))} {(date[1])}, {date[2]}\")"
   ]
  },
  {
   "cell_type": "markdown",
   "id": "9eabd185-32bd-48d3-863f-3bf0ea5de0da",
   "metadata": {},
   "source": [
    "# Modules: Package :Library\n",
    "   - its a collection of functions\n",
    "   - values\n",
    "   - classes   "
   ]
  },
  {
   "cell_type": "code",
   "execution_count": 17,
   "id": "e5ad4a00-3368-4373-96a4-ad0e905be2c3",
   "metadata": {},
   "outputs": [],
   "source": [
    "import math"
   ]
  },
  {
   "cell_type": "code",
   "execution_count": 18,
   "id": "ce74c239-26b4-4152-b9c1-74d4426d6a07",
   "metadata": {},
   "outputs": [],
   "source": [
    "import os"
   ]
  },
  {
   "cell_type": "code",
   "execution_count": 20,
   "id": "27fa77a2-fb82-4923-a532-d1453e91cc8d",
   "metadata": {},
   "outputs": [],
   "source": [
    "import datetime"
   ]
  },
  {
   "cell_type": "code",
   "execution_count": 21,
   "id": "4c172c9b-430e-4cd9-bc2d-fdcad50dc044",
   "metadata": {},
   "outputs": [
    {
     "data": {
      "text/plain": [
       "datetime.datetime(2024, 12, 10, 17, 29, 57, 784195)"
      ]
     },
     "execution_count": 21,
     "metadata": {},
     "output_type": "execute_result"
    }
   ],
   "source": [
    "datetime.datetime.now()"
   ]
  },
  {
   "cell_type": "markdown",
   "id": "c16d66d3-2591-4f04-9ead-60f97bdd4fee",
   "metadata": {},
   "source": [
    "# User Defined Module\n",
    " - every python file can be treated as module"
   ]
  },
  {
   "cell_type": "code",
   "execution_count": 24,
   "id": "5a9e6f62-1c17-4333-93c3-52252d5950a5",
   "metadata": {},
   "outputs": [],
   "source": [
    "import apnaModule"
   ]
  },
  {
   "cell_type": "code",
   "execution_count": 26,
   "id": "1d85a405-0cde-418b-ad4d-e688aa55a606",
   "metadata": {},
   "outputs": [
    {
     "data": {
      "text/plain": [
       "'We are  pythons'"
      ]
     },
     "execution_count": 26,
     "metadata": {},
     "output_type": "execute_result"
    }
   ],
   "source": [
    "apnaModule.delword(\"We are all pythons\", 'all')"
   ]
  },
  {
   "cell_type": "code",
   "execution_count": 27,
   "id": "0f3fda1c-74a2-4be8-a079-eb2c443810f5",
   "metadata": {},
   "outputs": [],
   "source": [
    "import apnaModule"
   ]
  },
  {
   "cell_type": "code",
   "execution_count": 28,
   "id": "be2fde89-7b23-44c7-97dd-71c427d082ee",
   "metadata": {},
   "outputs": [],
   "source": [
    "from apnaModule import sum_list,find_min"
   ]
  },
  {
   "cell_type": "code",
   "execution_count": 29,
   "id": "5330c13f-01fb-4776-8a10-e74b5bed400b",
   "metadata": {},
   "outputs": [
    {
     "data": {
      "text/plain": [
       "936"
      ]
     },
     "execution_count": 29,
     "metadata": {},
     "output_type": "execute_result"
    }
   ],
   "source": [
    "sum_list([34,46,67,789])"
   ]
  },
  {
   "cell_type": "code",
   "execution_count": 30,
   "id": "5307e5ae-fe92-4bfe-b9b8-98f8961629f5",
   "metadata": {},
   "outputs": [],
   "source": [
    "from math import ceil"
   ]
  },
  {
   "cell_type": "code",
   "execution_count": 31,
   "id": "730c8079-a2ea-48a4-9c1c-d52bf67fe8ca",
   "metadata": {},
   "outputs": [
    {
     "data": {
      "text/plain": [
       "13"
      ]
     },
     "execution_count": 31,
     "metadata": {},
     "output_type": "execute_result"
    }
   ],
   "source": [
    "ceil(12.9)"
   ]
  },
  {
   "cell_type": "markdown",
   "id": "1b15a54d-8f23-4318-8470-074a7f79b7bc",
   "metadata": {},
   "source": [
    "# Return\n",
    "   - it returns a value"
   ]
  },
  {
   "cell_type": "code",
   "execution_count": 33,
   "id": "801cdf03-48fd-4a68-a7fe-7316b0040b54",
   "metadata": {},
   "outputs": [
    {
     "name": "stdout",
     "output_type": "stream",
     "text": [
      "Hello\n"
     ]
    }
   ],
   "source": [
    "print(\"Hello\")"
   ]
  },
  {
   "cell_type": "code",
   "execution_count": 48,
   "id": "21e083e3-55e2-4a96-ba53-acc127e4ed6a",
   "metadata": {},
   "outputs": [],
   "source": [
    "def cookBiryani(rice, mutton, spices, oil, *others):\n",
    "    print(\"Biryani Ban rahi hy\")\n",
    "    print(\"Bus ban ne wali hy\")\n",
    "    print(\"\"\"\n",
    "    .\n",
    "    .\n",
    "    .\n",
    "    .\n",
    "    \"\"\")\n",
    "    print(\"Biryani ban gae hy\")\n",
    "    return 'biryani'"
   ]
  },
  {
   "cell_type": "code",
   "execution_count": 47,
   "id": "4ada07a1-06cb-4bc9-8ad2-c4374614dccc",
   "metadata": {},
   "outputs": [
    {
     "name": "stdout",
     "output_type": "stream",
     "text": [
      "Biryani Ban rahi hy\n",
      "Bus ban ne wali hy\n",
      "\n",
      "    .\n",
      "    .\n",
      "    .\n",
      "    .\n",
      "    \n",
      "Biryani ban gae hy\n",
      "Ajao dosto biryani khalo \n"
     ]
    }
   ],
   "source": [
    "print(f\"Ajao dosto {cookBiryani('Rice', 'Mutton', 'Spices', 'Oil', 'Tomoto','Onion')} khalo \")"
   ]
  },
  {
   "cell_type": "code",
   "execution_count": 49,
   "id": "f6e24938-382f-4a69-94f9-1728d47d5ee8",
   "metadata": {},
   "outputs": [],
   "source": [
    "def add(a,b):\n",
    "    c= a+b # local variable  \n",
    "    return c"
   ]
  },
  {
   "cell_type": "code",
   "execution_count": 50,
   "id": "c1d6ac74-5a53-4d45-b514-ddcb377b92d3",
   "metadata": {},
   "outputs": [
    {
     "data": {
      "text/plain": [
       "35"
      ]
     },
     "execution_count": 50,
     "metadata": {},
     "output_type": "execute_result"
    }
   ],
   "source": [
    "add(12,23)"
   ]
  },
  {
   "cell_type": "code",
   "execution_count": 52,
   "id": "a1ab7ae3-0dad-46ac-9d18-96379fafbd32",
   "metadata": {},
   "outputs": [
    {
     "name": "stdout",
     "output_type": "stream",
     "text": [
      "3000\n"
     ]
    }
   ],
   "source": [
    "print(add(10,20)*100)"
   ]
  },
  {
   "cell_type": "code",
   "execution_count": 53,
   "id": "7dff3da6-a12b-484f-8f21-97e2fd310279",
   "metadata": {},
   "outputs": [
    {
     "name": "stdout",
     "output_type": "stream",
     "text": [
      "300\n"
     ]
    }
   ],
   "source": [
    "print(add(100,200))"
   ]
  },
  {
   "cell_type": "code",
   "execution_count": 54,
   "id": "80cff934-7ba5-4d18-89dc-d9fa66e46826",
   "metadata": {},
   "outputs": [],
   "source": [
    "import apnaModule as am"
   ]
  },
  {
   "cell_type": "markdown",
   "id": "9014f6eb-8735-496d-90e8-5ce7f81b2f36",
   "metadata": {},
   "source": [
    "# Exception /Exception Handling /Error Handling"
   ]
  },
  {
   "cell_type": "code",
   "execution_count": 55,
   "id": "1fe67514-a73a-470b-a7b9-1c926ced9144",
   "metadata": {},
   "outputs": [
    {
     "name": "stdin",
     "output_type": "stream",
     "text": [
      "Enter your age:  ten\n"
     ]
    },
    {
     "ename": "ValueError",
     "evalue": "invalid literal for int() with base 10: 'ten'",
     "output_type": "error",
     "traceback": [
      "\u001b[1;31m---------------------------------------------------------------------------\u001b[0m",
      "\u001b[1;31mValueError\u001b[0m                                Traceback (most recent call last)",
      "Cell \u001b[1;32mIn[55], line 1\u001b[0m\n\u001b[1;32m----> 1\u001b[0m age  \u001b[38;5;241m=\u001b[39m \u001b[38;5;28mint\u001b[39m(\u001b[38;5;28minput\u001b[39m(\u001b[38;5;124m\"\u001b[39m\u001b[38;5;124mEnter your age: \u001b[39m\u001b[38;5;124m\"\u001b[39m))\n",
      "\u001b[1;31mValueError\u001b[0m: invalid literal for int() with base 10: 'ten'"
     ]
    }
   ],
   "source": [
    "age  = int(input(\"Enter your age: \"))"
   ]
  },
  {
   "cell_type": "code",
   "execution_count": 60,
   "id": "f34e40cd-bae0-4f71-8e04-250cc3e5eff0",
   "metadata": {},
   "outputs": [
    {
     "name": "stdin",
     "output_type": "stream",
     "text": [
      "Enter a numbers 2\n",
      "Enter a numbers donot provide 0 0\n"
     ]
    },
    {
     "ename": "ZeroDivisionError",
     "evalue": "division by zero",
     "output_type": "error",
     "traceback": [
      "\u001b[1;31m---------------------------------------------------------------------------\u001b[0m",
      "\u001b[1;31mZeroDivisionError\u001b[0m                         Traceback (most recent call last)",
      "Cell \u001b[1;32mIn[60], line 3\u001b[0m\n\u001b[0;32m      1\u001b[0m num1\u001b[38;5;241m=\u001b[39m \u001b[38;5;28mint\u001b[39m(\u001b[38;5;28minput\u001b[39m(\u001b[38;5;124m\"\u001b[39m\u001b[38;5;124mEnter a numbers\u001b[39m\u001b[38;5;124m\"\u001b[39m))\n\u001b[0;32m      2\u001b[0m num2\u001b[38;5;241m=\u001b[39m \u001b[38;5;28mint\u001b[39m(\u001b[38;5;28minput\u001b[39m(\u001b[38;5;124m\"\u001b[39m\u001b[38;5;124mEnter a numbers donot provide 0\u001b[39m\u001b[38;5;124m\"\u001b[39m))\n\u001b[1;32m----> 3\u001b[0m \u001b[38;5;28mprint\u001b[39m(num1\u001b[38;5;241m/\u001b[39mnum2)\n",
      "\u001b[1;31mZeroDivisionError\u001b[0m: division by zero"
     ]
    }
   ],
   "source": [
    "num1= int(input(\"Enter a numbers\"))\n",
    "num2= int(input(\"Enter a numbers donot provide 0\"))\n",
    "print(num1/num2)"
   ]
  },
  {
   "cell_type": "code",
   "execution_count": 59,
   "id": "36ae9a1f-b040-4d8f-ae11-4c7bbddd173f",
   "metadata": {},
   "outputs": [
    {
     "ename": "NameError",
     "evalue": "name 'Print' is not defined",
     "output_type": "error",
     "traceback": [
      "\u001b[1;31m---------------------------------------------------------------------------\u001b[0m",
      "\u001b[1;31mNameError\u001b[0m                                 Traceback (most recent call last)",
      "Cell \u001b[1;32mIn[59], line 1\u001b[0m\n\u001b[1;32m----> 1\u001b[0m Print(\u001b[38;5;124m\"\u001b[39m\u001b[38;5;124mhello\u001b[39m\u001b[38;5;124m\"\u001b[39m)\n",
      "\u001b[1;31mNameError\u001b[0m: name 'Print' is not defined"
     ]
    }
   ],
   "source": [
    "Print(\"hello\")"
   ]
  },
  {
   "cell_type": "markdown",
   "id": "bd05ad8f-3788-416c-b80d-d1e3594daa29",
   "metadata": {},
   "source": [
    "# try:except"
   ]
  },
  {
   "cell_type": "code",
   "execution_count": 61,
   "id": "972a8072-a7c5-468b-a7d3-0a0eb85b97af",
   "metadata": {},
   "outputs": [
    {
     "name": "stdin",
     "output_type": "stream",
     "text": [
      "Enter a numbers 12\n",
      "Enter a numbers donot provide 0 0\n"
     ]
    },
    {
     "name": "stdout",
     "output_type": "stream",
     "text": [
      "Insan banja mana karne k bawajood 0 daldia\n"
     ]
    }
   ],
   "source": [
    "num1= int(input(\"Enter a numbers\"))\n",
    "num2= int(input(\"Enter a numbers donot provide 0\"))\n",
    "try:\n",
    "    print(num1/num2)\n",
    "except ZeroDivisionError:\n",
    "    print(\"Insan banja mana karne k bawajood 0 daldia\")"
   ]
  },
  {
   "cell_type": "code",
   "execution_count": 64,
   "id": "092a7f60-8e05-4ef1-86c3-8e67b42ecc49",
   "metadata": {},
   "outputs": [
    {
     "name": "stdin",
     "output_type": "stream",
     "text": [
      "Enter a numbers one\n"
     ]
    },
    {
     "name": "stdout",
     "output_type": "stream",
     "text": [
      "Angrez! number likho\n"
     ]
    }
   ],
   "source": [
    "try:\n",
    "    num1= int(input(\"Enter a numbers\"))\n",
    "    num2= int(input(\"Enter a numbers donot provide 0\"))\n",
    "    print(num1/num2)\n",
    "except ZeroDivisionError:\n",
    "    print(\"Insan banja mana karne k bawajood 0 daldia\")\n",
    "except ValueError:\n",
    "    print(\"Angrez! number likho\")"
   ]
  },
  {
   "cell_type": "code",
   "execution_count": 66,
   "id": "98ca39b3-230e-4c29-84cc-8848bc1ef1e2",
   "metadata": {},
   "outputs": [
    {
     "name": "stdin",
     "output_type": "stream",
     "text": [
      "Enter a numbers 3\n",
      "Enter a numbers donot provide 0 0\n"
     ]
    },
    {
     "name": "stdout",
     "output_type": "stream",
     "text": [
      "Insan banja mana karne k bawajood 0 daldia\n"
     ]
    }
   ],
   "source": [
    "try:\n",
    "    num1= int(input(\"Enter a numbers\"))\n",
    "    num2= int(input(\"Enter a numbers donot provide 0\"))\n",
    "    print(num1/num2)\n",
    "except (ZeroDivisionError):\n",
    "    print(\"Insan banja mana karne k bawajood 0 daldia\")\n"
   ]
  },
  {
   "cell_type": "code",
   "execution_count": 71,
   "id": "b7118842-c59f-4721-a4f3-79b490623ab2",
   "metadata": {},
   "outputs": [
    {
     "name": "stdin",
     "output_type": "stream",
     "text": [
      "Enter a numbers one\n"
     ]
    },
    {
     "name": "stdout",
     "output_type": "stream",
     "text": [
      "Pakra Gaya\n"
     ]
    }
   ],
   "source": [
    "alist = [1,2,3,4]\n",
    "try:\n",
    "    num1= int(input(\"Enter a numbers\"))\n",
    "    num2= int(input(\"Enter a numbers donot provide 0\"))\n",
    "    print(num1/num2)\n",
    "    value = alist[10]\n",
    "    \n",
    "except :\n",
    "    print(\"Pakra Gaya\")"
   ]
  },
  {
   "cell_type": "code",
   "execution_count": 79,
   "id": "bff3228d-d48e-44a9-b592-81fae738a6f0",
   "metadata": {},
   "outputs": [
    {
     "name": "stdin",
     "output_type": "stream",
     "text": [
      "Enter a numbers one\n"
     ]
    },
    {
     "name": "stdout",
     "output_type": "stream",
     "text": [
      "Exception generated and coaught invalid literal for int() with base 10: 'one'\n"
     ]
    }
   ],
   "source": [
    "alist = [1,2,3,4]\n",
    "try:\n",
    "    num1= int(input(\"Enter a numbers\"))\n",
    "    num2= int(input(\"Enter a numbers donot provide 0\"))\n",
    "    print(num1/num2)\n",
    "    value = alist[10]\n",
    "    \n",
    "except Exception as e:\n",
    "    print(f\"Exception generated and coaught {e}\")"
   ]
  },
  {
   "cell_type": "code",
   "execution_count": 84,
   "id": "8c3cb69e-8eee-4c38-a123-ddc1c1359c15",
   "metadata": {},
   "outputs": [
    {
     "name": "stdin",
     "output_type": "stream",
     "text": [
      "Enter a numbers 12\n",
      "Enter a numbers donot provide 0 0\n"
     ]
    },
    {
     "name": "stdout",
     "output_type": "stream",
     "text": [
      "Exception generated and coaught division by zero\n"
     ]
    }
   ],
   "source": [
    "alist = [1,2,3,4]\n",
    "try:\n",
    "    num1= int(input(\"Enter a numbers\"))\n",
    "    num2= int(input(\"Enter a numbers donot provide 0\"))\n",
    "    ccc= num1/num2   \n",
    "except Exception as e:\n",
    "    print(f\"Exception generated and coaught {e}\")\n",
    "else:\n",
    "    print(ccc)"
   ]
  },
  {
   "cell_type": "code",
   "execution_count": 86,
   "id": "01ceae1e-3791-439e-8271-60b4ff7d1e58",
   "metadata": {},
   "outputs": [
    {
     "name": "stdin",
     "output_type": "stream",
     "text": [
      "Enter a numbers 1\n",
      "Enter a numbers donot provide 0 0\n"
     ]
    },
    {
     "name": "stdout",
     "output_type": "stream",
     "text": [
      "Exception generated and coaught division by zero\n",
      "Koi chlay na chaly finally to chalega!\n"
     ]
    }
   ],
   "source": [
    "alist = [1,2,3,4]\n",
    "try:\n",
    "    num1= int(input(\"Enter a numbers\"))\n",
    "    num2= int(input(\"Enter a numbers donot provide 0\"))\n",
    "    ccc= num1/num2   \n",
    "except Exception as e:\n",
    "    print(f\"Exception generated and coaught {e}\")\n",
    "else:\n",
    "    print(ccc)\n",
    "finally:\n",
    "    print(\"Koi chlay na chaly finally to chalega!\")"
   ]
  },
  {
   "cell_type": "code",
   "execution_count": 88,
   "id": "4dd62514-2523-4920-8b5d-34dbd61064dd",
   "metadata": {},
   "outputs": [
    {
     "name": "stdin",
     "output_type": "stream",
     "text": [
      "Enter a numbers 12\n",
      "Enter a numbers donot provide 0 one\n"
     ]
    },
    {
     "name": "stdout",
     "output_type": "stream",
     "text": [
      " Iam finaly\n"
     ]
    },
    {
     "ename": "ValueError",
     "evalue": "invalid literal for int() with base 10: 'one'",
     "output_type": "error",
     "traceback": [
      "\u001b[1;31m---------------------------------------------------------------------------\u001b[0m",
      "\u001b[1;31mValueError\u001b[0m                                Traceback (most recent call last)",
      "Cell \u001b[1;32mIn[88], line 3\u001b[0m\n\u001b[0;32m      1\u001b[0m \u001b[38;5;28;01mtry\u001b[39;00m:\n\u001b[0;32m      2\u001b[0m     num1\u001b[38;5;241m=\u001b[39m \u001b[38;5;28mint\u001b[39m(\u001b[38;5;28minput\u001b[39m(\u001b[38;5;124m\"\u001b[39m\u001b[38;5;124mEnter a numbers\u001b[39m\u001b[38;5;124m\"\u001b[39m))\n\u001b[1;32m----> 3\u001b[0m     num2\u001b[38;5;241m=\u001b[39m \u001b[38;5;28mint\u001b[39m(\u001b[38;5;28minput\u001b[39m(\u001b[38;5;124m\"\u001b[39m\u001b[38;5;124mEnter a numbers donot provide 0\u001b[39m\u001b[38;5;124m\"\u001b[39m))\n\u001b[0;32m      4\u001b[0m     \u001b[38;5;28mprint\u001b[39m(num1\u001b[38;5;241m/\u001b[39mnum2)\n\u001b[0;32m      5\u001b[0m \u001b[38;5;28;01mexcept\u001b[39;00m (\u001b[38;5;167;01mZeroDivisionError\u001b[39;00m):\n",
      "\u001b[1;31mValueError\u001b[0m: invalid literal for int() with base 10: 'one'"
     ]
    }
   ],
   "source": [
    "try:\n",
    "    num1= int(input(\"Enter a numbers\"))\n",
    "    num2= int(input(\"Enter a numbers donot provide 0\"))\n",
    "    print(num1/num2)\n",
    "except (ZeroDivisionError):\n",
    "    print(\"Insan banja mana karne k bawajood 0 daldia\")\n",
    "finally:\n",
    "    print(\"I am finaly\")"
   ]
  },
  {
   "cell_type": "code",
   "execution_count": null,
   "id": "eba7a199-3ee9-4cdc-95c9-f8a991dec472",
   "metadata": {},
   "outputs": [],
   "source": []
  }
 ],
 "metadata": {
  "kernelspec": {
   "display_name": "Python 3 (ipykernel)",
   "language": "python",
   "name": "python3"
  },
  "language_info": {
   "codemirror_mode": {
    "name": "ipython",
    "version": 3
   },
   "file_extension": ".py",
   "mimetype": "text/x-python",
   "name": "python",
   "nbconvert_exporter": "python",
   "pygments_lexer": "ipython3",
   "version": "3.12.7"
  }
 },
 "nbformat": 4,
 "nbformat_minor": 5
}
